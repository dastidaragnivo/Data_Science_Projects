{
 "cells": [
  {
   "cell_type": "code",
   "execution_count": null,
   "id": "ed49cc33-c291-4560-8eae-de53b205d0f7",
   "metadata": {},
   "outputs": [],
   "source": [
    "#Start Assignment 4"
   ]
  },
  {
   "cell_type": "markdown",
   "id": "13f09410-3b5d-4b8f-8859-35a1a4c551b5",
   "metadata": {},
   "source": [
    "Problem Statement 1: The data (sample) were collected in São Paulo — Brazil, in a university, where there are some parties with groups of students from 18 to 28 years of age(average). \n",
    "\n",
    "The dataset used for this activity has 7 attributes, being a Target, with a period of one year. You have to predict the quantity of beer consumption based on the features that contain climate conditions.\n",
    "\n",
    "Dataset Description:\n",
    "I.Data: date of the record\n",
    "II.Temperatura Media (C): Average temperature of the day in celsius\n",
    "III.Temperatura Minima (C): Minimum temperature of the day in celsius\n",
    "IV.TemperaturaMaxima (C): Maximum temperature of the day in celsius\n",
    "V.Precipitacao (mm): Percipitation in mm\n",
    "VI.Final de Semana: If the day is the weekend or not\n",
    "VII.Consumo de cerveja (litros): Beer consumption in liters\n",
    "\n",
    "Write a Python code to perform the following tasks mentioned:\n",
    "1.Load the dataset, check its shape\n",
    "2.Rectify the data of the first four columns Hint:Check columns 'Temperatura Media (C)', 'Temperatura Minima (C)', 'Temperatura Maxima (C)', and 'Precipitac’\n",
    "Fix the following errors present in these features\n",
    "3.Create new features using the 'Data' feature and the make 'Data' column as index\n",
    "Hint:Create a new feature 'Month' from the dates, consisting of the month of the year.Create a new feature 'Day' from the dates, consisting of the day of the week.Set values from the 'Data' column as indexes. Use code snippet:df1.set_index('Data',inplace=True)\n",
    "4.Handle null and duplicate values \n",
    "5.Check the data typeof the features and convert them to the appropriate data type \n",
    "6.Analyze features with outlier values  \n",
    "7.Plot and analyze the correlation \n",
    "8.Split the dataset for training and testing \n",
    "9.Train a linear regression model and print the intercept and coefficients \n",
    "10.Evaluate the model using the R2 score, mean absolute error, and root mean squared error \r\n"
   ]
  },
  {
   "cell_type": "code",
   "execution_count": 57,
   "id": "ca0a9cc4-e67c-4199-86a0-9b4ad674007a",
   "metadata": {},
   "outputs": [
    {
     "data": {
      "text/html": [
       "<div>\n",
       "<style scoped>\n",
       "    .dataframe tbody tr th:only-of-type {\n",
       "        vertical-align: middle;\n",
       "    }\n",
       "\n",
       "    .dataframe tbody tr th {\n",
       "        vertical-align: top;\n",
       "    }\n",
       "\n",
       "    .dataframe thead th {\n",
       "        text-align: right;\n",
       "    }\n",
       "</style>\n",
       "<table border=\"1\" class=\"dataframe\">\n",
       "  <thead>\n",
       "    <tr style=\"text-align: right;\">\n",
       "      <th></th>\n",
       "      <th>Data</th>\n",
       "      <th>Temperatura Media (C)</th>\n",
       "      <th>Temperatura Minima (C)</th>\n",
       "      <th>Temperatura Maxima (C)</th>\n",
       "      <th>Precipitacao (mm)</th>\n",
       "      <th>Final de Semana</th>\n",
       "      <th>Consumo de cerveja (litros)</th>\n",
       "    </tr>\n",
       "  </thead>\n",
       "  <tbody>\n",
       "    <tr>\n",
       "      <th>0</th>\n",
       "      <td>2015-01-01</td>\n",
       "      <td>27,3</td>\n",
       "      <td>23,9</td>\n",
       "      <td>32,5</td>\n",
       "      <td>0</td>\n",
       "      <td>0.0</td>\n",
       "      <td>25.461</td>\n",
       "    </tr>\n",
       "    <tr>\n",
       "      <th>1</th>\n",
       "      <td>2015-01-02</td>\n",
       "      <td>27,02</td>\n",
       "      <td>24,5</td>\n",
       "      <td>33,5</td>\n",
       "      <td>0</td>\n",
       "      <td>0.0</td>\n",
       "      <td>28.972</td>\n",
       "    </tr>\n",
       "    <tr>\n",
       "      <th>2</th>\n",
       "      <td>2015-01-03</td>\n",
       "      <td>24,82</td>\n",
       "      <td>22,4</td>\n",
       "      <td>29,9</td>\n",
       "      <td>0</td>\n",
       "      <td>1.0</td>\n",
       "      <td>30.814</td>\n",
       "    </tr>\n",
       "    <tr>\n",
       "      <th>3</th>\n",
       "      <td>2015-01-04</td>\n",
       "      <td>23,98</td>\n",
       "      <td>21,5</td>\n",
       "      <td>28,6</td>\n",
       "      <td>1,2</td>\n",
       "      <td>1.0</td>\n",
       "      <td>29.799</td>\n",
       "    </tr>\n",
       "    <tr>\n",
       "      <th>4</th>\n",
       "      <td>2015-01-05</td>\n",
       "      <td>23,82</td>\n",
       "      <td>21</td>\n",
       "      <td>28,3</td>\n",
       "      <td>0</td>\n",
       "      <td>0.0</td>\n",
       "      <td>28.900</td>\n",
       "    </tr>\n",
       "    <tr>\n",
       "      <th>...</th>\n",
       "      <td>...</td>\n",
       "      <td>...</td>\n",
       "      <td>...</td>\n",
       "      <td>...</td>\n",
       "      <td>...</td>\n",
       "      <td>...</td>\n",
       "      <td>...</td>\n",
       "    </tr>\n",
       "    <tr>\n",
       "      <th>936</th>\n",
       "      <td>NaN</td>\n",
       "      <td>NaN</td>\n",
       "      <td>NaN</td>\n",
       "      <td>NaN</td>\n",
       "      <td>NaN</td>\n",
       "      <td>NaN</td>\n",
       "      <td>NaN</td>\n",
       "    </tr>\n",
       "    <tr>\n",
       "      <th>937</th>\n",
       "      <td>NaN</td>\n",
       "      <td>NaN</td>\n",
       "      <td>NaN</td>\n",
       "      <td>NaN</td>\n",
       "      <td>NaN</td>\n",
       "      <td>NaN</td>\n",
       "      <td>NaN</td>\n",
       "    </tr>\n",
       "    <tr>\n",
       "      <th>938</th>\n",
       "      <td>NaN</td>\n",
       "      <td>NaN</td>\n",
       "      <td>NaN</td>\n",
       "      <td>NaN</td>\n",
       "      <td>NaN</td>\n",
       "      <td>NaN</td>\n",
       "      <td>NaN</td>\n",
       "    </tr>\n",
       "    <tr>\n",
       "      <th>939</th>\n",
       "      <td>NaN</td>\n",
       "      <td>NaN</td>\n",
       "      <td>NaN</td>\n",
       "      <td>NaN</td>\n",
       "      <td>NaN</td>\n",
       "      <td>NaN</td>\n",
       "      <td>NaN</td>\n",
       "    </tr>\n",
       "    <tr>\n",
       "      <th>940</th>\n",
       "      <td>NaN</td>\n",
       "      <td>NaN</td>\n",
       "      <td>NaN</td>\n",
       "      <td>NaN</td>\n",
       "      <td>NaN</td>\n",
       "      <td>NaN</td>\n",
       "      <td>NaN</td>\n",
       "    </tr>\n",
       "  </tbody>\n",
       "</table>\n",
       "<p>941 rows × 7 columns</p>\n",
       "</div>"
      ],
      "text/plain": [
       "           Data Temperatura Media (C) Temperatura Minima (C)  \\\n",
       "0    2015-01-01                  27,3                   23,9   \n",
       "1    2015-01-02                 27,02                   24,5   \n",
       "2    2015-01-03                 24,82                   22,4   \n",
       "3    2015-01-04                 23,98                   21,5   \n",
       "4    2015-01-05                 23,82                     21   \n",
       "..          ...                   ...                    ...   \n",
       "936         NaN                   NaN                    NaN   \n",
       "937         NaN                   NaN                    NaN   \n",
       "938         NaN                   NaN                    NaN   \n",
       "939         NaN                   NaN                    NaN   \n",
       "940         NaN                   NaN                    NaN   \n",
       "\n",
       "    Temperatura Maxima (C) Precipitacao (mm)  Final de Semana  \\\n",
       "0                     32,5                 0              0.0   \n",
       "1                     33,5                 0              0.0   \n",
       "2                     29,9                 0              1.0   \n",
       "3                     28,6               1,2              1.0   \n",
       "4                     28,3                 0              0.0   \n",
       "..                     ...               ...              ...   \n",
       "936                    NaN               NaN              NaN   \n",
       "937                    NaN               NaN              NaN   \n",
       "938                    NaN               NaN              NaN   \n",
       "939                    NaN               NaN              NaN   \n",
       "940                    NaN               NaN              NaN   \n",
       "\n",
       "     Consumo de cerveja (litros)  \n",
       "0                         25.461  \n",
       "1                         28.972  \n",
       "2                         30.814  \n",
       "3                         29.799  \n",
       "4                         28.900  \n",
       "..                           ...  \n",
       "936                          NaN  \n",
       "937                          NaN  \n",
       "938                          NaN  \n",
       "939                          NaN  \n",
       "940                          NaN  \n",
       "\n",
       "[941 rows x 7 columns]"
      ]
     },
     "execution_count": 57,
     "metadata": {},
     "output_type": "execute_result"
    }
   ],
   "source": [
    "import pandas as pd\n",
    "import matplotlib.pyplot as plt\n",
    "import seaborn as sns\n",
    "import warnings\n",
    "warnings.filterwarnings('ignore')\n",
    "\n",
    "#Load the dataset\n",
    "consumption_df=pd.read_csv(r\"C:\\Users\\827180\\AppData\\Local\\Programs\\Python\\Python311\\Scripts\\Data Science & ML Training Docs\\Consumo_cerveja.csv\")\n",
    "consumption_df"
   ]
  },
  {
   "cell_type": "code",
   "execution_count": 58,
   "id": "e8414c2f-3906-4b53-a799-0506b6f58220",
   "metadata": {},
   "outputs": [
    {
     "name": "stdout",
     "output_type": "stream",
     "text": [
      "<class 'pandas.core.frame.DataFrame'>\n",
      "RangeIndex: 941 entries, 0 to 940\n",
      "Data columns (total 7 columns):\n",
      " #   Column                       Non-Null Count  Dtype  \n",
      "---  ------                       --------------  -----  \n",
      " 0   Data                         365 non-null    object \n",
      " 1   Temperatura Media (C)        365 non-null    object \n",
      " 2   Temperatura Minima (C)       365 non-null    object \n",
      " 3   Temperatura Maxima (C)       365 non-null    object \n",
      " 4   Precipitacao (mm)            365 non-null    object \n",
      " 5   Final de Semana              365 non-null    float64\n",
      " 6   Consumo de cerveja (litros)  365 non-null    float64\n",
      "dtypes: float64(2), object(5)\n",
      "memory usage: 51.6+ KB\n"
     ]
    }
   ],
   "source": [
    "consumption_df.info()"
   ]
  },
  {
   "cell_type": "code",
   "execution_count": 59,
   "id": "a8975ec3-ab0a-4b07-acad-c6221a89a552",
   "metadata": {},
   "outputs": [
    {
     "data": {
      "text/html": [
       "<div>\n",
       "<style scoped>\n",
       "    .dataframe tbody tr th:only-of-type {\n",
       "        vertical-align: middle;\n",
       "    }\n",
       "\n",
       "    .dataframe tbody tr th {\n",
       "        vertical-align: top;\n",
       "    }\n",
       "\n",
       "    .dataframe thead th {\n",
       "        text-align: right;\n",
       "    }\n",
       "</style>\n",
       "<table border=\"1\" class=\"dataframe\">\n",
       "  <thead>\n",
       "    <tr style=\"text-align: right;\">\n",
       "      <th></th>\n",
       "      <th>Data</th>\n",
       "      <th>Temperatura Media (C)</th>\n",
       "      <th>Temperatura Minima (C)</th>\n",
       "      <th>Temperatura Maxima (C)</th>\n",
       "      <th>Precipitacao (mm)</th>\n",
       "      <th>Final de Semana</th>\n",
       "      <th>Consumo de cerveja (litros)</th>\n",
       "    </tr>\n",
       "  </thead>\n",
       "  <tbody>\n",
       "    <tr>\n",
       "      <th>0</th>\n",
       "      <td>2015-01-01</td>\n",
       "      <td>27,3</td>\n",
       "      <td>23,9</td>\n",
       "      <td>32,5</td>\n",
       "      <td>0</td>\n",
       "      <td>0.0</td>\n",
       "      <td>25.461</td>\n",
       "    </tr>\n",
       "    <tr>\n",
       "      <th>1</th>\n",
       "      <td>2015-01-02</td>\n",
       "      <td>27,02</td>\n",
       "      <td>24,5</td>\n",
       "      <td>33,5</td>\n",
       "      <td>0</td>\n",
       "      <td>0.0</td>\n",
       "      <td>28.972</td>\n",
       "    </tr>\n",
       "    <tr>\n",
       "      <th>2</th>\n",
       "      <td>2015-01-03</td>\n",
       "      <td>24,82</td>\n",
       "      <td>22,4</td>\n",
       "      <td>29,9</td>\n",
       "      <td>0</td>\n",
       "      <td>1.0</td>\n",
       "      <td>30.814</td>\n",
       "    </tr>\n",
       "    <tr>\n",
       "      <th>3</th>\n",
       "      <td>2015-01-04</td>\n",
       "      <td>23,98</td>\n",
       "      <td>21,5</td>\n",
       "      <td>28,6</td>\n",
       "      <td>1,2</td>\n",
       "      <td>1.0</td>\n",
       "      <td>29.799</td>\n",
       "    </tr>\n",
       "    <tr>\n",
       "      <th>4</th>\n",
       "      <td>2015-01-05</td>\n",
       "      <td>23,82</td>\n",
       "      <td>21</td>\n",
       "      <td>28,3</td>\n",
       "      <td>0</td>\n",
       "      <td>0.0</td>\n",
       "      <td>28.900</td>\n",
       "    </tr>\n",
       "    <tr>\n",
       "      <th>...</th>\n",
       "      <td>...</td>\n",
       "      <td>...</td>\n",
       "      <td>...</td>\n",
       "      <td>...</td>\n",
       "      <td>...</td>\n",
       "      <td>...</td>\n",
       "      <td>...</td>\n",
       "    </tr>\n",
       "    <tr>\n",
       "      <th>360</th>\n",
       "      <td>2015-12-27</td>\n",
       "      <td>24</td>\n",
       "      <td>21,1</td>\n",
       "      <td>28,2</td>\n",
       "      <td>13,6</td>\n",
       "      <td>1.0</td>\n",
       "      <td>32.307</td>\n",
       "    </tr>\n",
       "    <tr>\n",
       "      <th>361</th>\n",
       "      <td>2015-12-28</td>\n",
       "      <td>22,64</td>\n",
       "      <td>21,1</td>\n",
       "      <td>26,7</td>\n",
       "      <td>0</td>\n",
       "      <td>0.0</td>\n",
       "      <td>26.095</td>\n",
       "    </tr>\n",
       "    <tr>\n",
       "      <th>362</th>\n",
       "      <td>2015-12-29</td>\n",
       "      <td>21,68</td>\n",
       "      <td>20,3</td>\n",
       "      <td>24,1</td>\n",
       "      <td>10,3</td>\n",
       "      <td>0.0</td>\n",
       "      <td>22.309</td>\n",
       "    </tr>\n",
       "    <tr>\n",
       "      <th>363</th>\n",
       "      <td>2015-12-30</td>\n",
       "      <td>21,38</td>\n",
       "      <td>19,3</td>\n",
       "      <td>22,4</td>\n",
       "      <td>6,3</td>\n",
       "      <td>0.0</td>\n",
       "      <td>20.467</td>\n",
       "    </tr>\n",
       "    <tr>\n",
       "      <th>364</th>\n",
       "      <td>2015-12-31</td>\n",
       "      <td>24,76</td>\n",
       "      <td>20,2</td>\n",
       "      <td>29</td>\n",
       "      <td>0</td>\n",
       "      <td>0.0</td>\n",
       "      <td>22.446</td>\n",
       "    </tr>\n",
       "  </tbody>\n",
       "</table>\n",
       "<p>365 rows × 7 columns</p>\n",
       "</div>"
      ],
      "text/plain": [
       "           Data Temperatura Media (C) Temperatura Minima (C)  \\\n",
       "0    2015-01-01                  27,3                   23,9   \n",
       "1    2015-01-02                 27,02                   24,5   \n",
       "2    2015-01-03                 24,82                   22,4   \n",
       "3    2015-01-04                 23,98                   21,5   \n",
       "4    2015-01-05                 23,82                     21   \n",
       "..          ...                   ...                    ...   \n",
       "360  2015-12-27                    24                   21,1   \n",
       "361  2015-12-28                 22,64                   21,1   \n",
       "362  2015-12-29                 21,68                   20,3   \n",
       "363  2015-12-30                 21,38                   19,3   \n",
       "364  2015-12-31                 24,76                   20,2   \n",
       "\n",
       "    Temperatura Maxima (C) Precipitacao (mm)  Final de Semana  \\\n",
       "0                     32,5                 0              0.0   \n",
       "1                     33,5                 0              0.0   \n",
       "2                     29,9                 0              1.0   \n",
       "3                     28,6               1,2              1.0   \n",
       "4                     28,3                 0              0.0   \n",
       "..                     ...               ...              ...   \n",
       "360                   28,2              13,6              1.0   \n",
       "361                   26,7                 0              0.0   \n",
       "362                   24,1              10,3              0.0   \n",
       "363                   22,4               6,3              0.0   \n",
       "364                     29                 0              0.0   \n",
       "\n",
       "     Consumo de cerveja (litros)  \n",
       "0                         25.461  \n",
       "1                         28.972  \n",
       "2                         30.814  \n",
       "3                         29.799  \n",
       "4                         28.900  \n",
       "..                           ...  \n",
       "360                       32.307  \n",
       "361                       26.095  \n",
       "362                       22.309  \n",
       "363                       20.467  \n",
       "364                       22.446  \n",
       "\n",
       "[365 rows x 7 columns]"
      ]
     },
     "execution_count": 59,
     "metadata": {},
     "output_type": "execute_result"
    }
   ],
   "source": [
    "# Delete all rows with column 'Data' having null values\n",
    "indexDate = consumption_df[consumption_df['Data'].isnull()].index\n",
    "consumption_df.drop(indexDate , inplace=True)\n",
    "consumption_df"
   ]
  },
  {
   "cell_type": "code",
   "execution_count": 60,
   "id": "db263a58-ce60-42ab-a346-a65a16cd8a36",
   "metadata": {},
   "outputs": [
    {
     "data": {
      "text/plain": [
       "(365, 7)"
      ]
     },
     "execution_count": 60,
     "metadata": {},
     "output_type": "execute_result"
    }
   ],
   "source": [
    "#Check the shape\n",
    "consumption_df.shape"
   ]
  },
  {
   "cell_type": "code",
   "execution_count": 61,
   "id": "b1acfd20-4732-404c-a6ce-d2cf2ec763a0",
   "metadata": {},
   "outputs": [
    {
     "data": {
      "text/plain": [
       "Data                           0\n",
       "Temperatura Media (C)          0\n",
       "Temperatura Minima (C)         0\n",
       "Temperatura Maxima (C)         0\n",
       "Precipitacao (mm)              0\n",
       "Final de Semana                0\n",
       "Consumo de cerveja (litros)    0\n",
       "dtype: int64"
      ]
     },
     "execution_count": 61,
     "metadata": {},
     "output_type": "execute_result"
    }
   ],
   "source": [
    "consumption_df.isnull().sum()"
   ]
  },
  {
   "cell_type": "code",
   "execution_count": 62,
   "id": "0089fe19-48ae-4ace-8644-5c3721a40375",
   "metadata": {},
   "outputs": [
    {
     "data": {
      "text/html": [
       "<div>\n",
       "<style scoped>\n",
       "    .dataframe tbody tr th:only-of-type {\n",
       "        vertical-align: middle;\n",
       "    }\n",
       "\n",
       "    .dataframe tbody tr th {\n",
       "        vertical-align: top;\n",
       "    }\n",
       "\n",
       "    .dataframe thead th {\n",
       "        text-align: right;\n",
       "    }\n",
       "</style>\n",
       "<table border=\"1\" class=\"dataframe\">\n",
       "  <thead>\n",
       "    <tr style=\"text-align: right;\">\n",
       "      <th></th>\n",
       "      <th>Data</th>\n",
       "      <th>Temperatura Media (C)</th>\n",
       "      <th>Temperatura Minima (C)</th>\n",
       "      <th>Temperatura Maxima (C)</th>\n",
       "      <th>Precipitacao (mm)</th>\n",
       "      <th>Final de Semana</th>\n",
       "      <th>Consumo de cerveja (litros)</th>\n",
       "      <th>Month</th>\n",
       "      <th>Day</th>\n",
       "    </tr>\n",
       "  </thead>\n",
       "  <tbody>\n",
       "    <tr>\n",
       "      <th>0</th>\n",
       "      <td>2015-01-01</td>\n",
       "      <td>27,3</td>\n",
       "      <td>23,9</td>\n",
       "      <td>32,5</td>\n",
       "      <td>0</td>\n",
       "      <td>0.0</td>\n",
       "      <td>25.461</td>\n",
       "      <td>1</td>\n",
       "      <td>1</td>\n",
       "    </tr>\n",
       "    <tr>\n",
       "      <th>1</th>\n",
       "      <td>2015-01-02</td>\n",
       "      <td>27,02</td>\n",
       "      <td>24,5</td>\n",
       "      <td>33,5</td>\n",
       "      <td>0</td>\n",
       "      <td>0.0</td>\n",
       "      <td>28.972</td>\n",
       "      <td>1</td>\n",
       "      <td>2</td>\n",
       "    </tr>\n",
       "    <tr>\n",
       "      <th>2</th>\n",
       "      <td>2015-01-03</td>\n",
       "      <td>24,82</td>\n",
       "      <td>22,4</td>\n",
       "      <td>29,9</td>\n",
       "      <td>0</td>\n",
       "      <td>1.0</td>\n",
       "      <td>30.814</td>\n",
       "      <td>1</td>\n",
       "      <td>3</td>\n",
       "    </tr>\n",
       "    <tr>\n",
       "      <th>3</th>\n",
       "      <td>2015-01-04</td>\n",
       "      <td>23,98</td>\n",
       "      <td>21,5</td>\n",
       "      <td>28,6</td>\n",
       "      <td>1,2</td>\n",
       "      <td>1.0</td>\n",
       "      <td>29.799</td>\n",
       "      <td>1</td>\n",
       "      <td>4</td>\n",
       "    </tr>\n",
       "    <tr>\n",
       "      <th>4</th>\n",
       "      <td>2015-01-05</td>\n",
       "      <td>23,82</td>\n",
       "      <td>21</td>\n",
       "      <td>28,3</td>\n",
       "      <td>0</td>\n",
       "      <td>0.0</td>\n",
       "      <td>28.900</td>\n",
       "      <td>1</td>\n",
       "      <td>5</td>\n",
       "    </tr>\n",
       "    <tr>\n",
       "      <th>...</th>\n",
       "      <td>...</td>\n",
       "      <td>...</td>\n",
       "      <td>...</td>\n",
       "      <td>...</td>\n",
       "      <td>...</td>\n",
       "      <td>...</td>\n",
       "      <td>...</td>\n",
       "      <td>...</td>\n",
       "      <td>...</td>\n",
       "    </tr>\n",
       "    <tr>\n",
       "      <th>360</th>\n",
       "      <td>2015-12-27</td>\n",
       "      <td>24</td>\n",
       "      <td>21,1</td>\n",
       "      <td>28,2</td>\n",
       "      <td>13,6</td>\n",
       "      <td>1.0</td>\n",
       "      <td>32.307</td>\n",
       "      <td>12</td>\n",
       "      <td>27</td>\n",
       "    </tr>\n",
       "    <tr>\n",
       "      <th>361</th>\n",
       "      <td>2015-12-28</td>\n",
       "      <td>22,64</td>\n",
       "      <td>21,1</td>\n",
       "      <td>26,7</td>\n",
       "      <td>0</td>\n",
       "      <td>0.0</td>\n",
       "      <td>26.095</td>\n",
       "      <td>12</td>\n",
       "      <td>28</td>\n",
       "    </tr>\n",
       "    <tr>\n",
       "      <th>362</th>\n",
       "      <td>2015-12-29</td>\n",
       "      <td>21,68</td>\n",
       "      <td>20,3</td>\n",
       "      <td>24,1</td>\n",
       "      <td>10,3</td>\n",
       "      <td>0.0</td>\n",
       "      <td>22.309</td>\n",
       "      <td>12</td>\n",
       "      <td>29</td>\n",
       "    </tr>\n",
       "    <tr>\n",
       "      <th>363</th>\n",
       "      <td>2015-12-30</td>\n",
       "      <td>21,38</td>\n",
       "      <td>19,3</td>\n",
       "      <td>22,4</td>\n",
       "      <td>6,3</td>\n",
       "      <td>0.0</td>\n",
       "      <td>20.467</td>\n",
       "      <td>12</td>\n",
       "      <td>30</td>\n",
       "    </tr>\n",
       "    <tr>\n",
       "      <th>364</th>\n",
       "      <td>2015-12-31</td>\n",
       "      <td>24,76</td>\n",
       "      <td>20,2</td>\n",
       "      <td>29</td>\n",
       "      <td>0</td>\n",
       "      <td>0.0</td>\n",
       "      <td>22.446</td>\n",
       "      <td>12</td>\n",
       "      <td>31</td>\n",
       "    </tr>\n",
       "  </tbody>\n",
       "</table>\n",
       "<p>365 rows × 9 columns</p>\n",
       "</div>"
      ],
      "text/plain": [
       "          Data Temperatura Media (C) Temperatura Minima (C)  \\\n",
       "0   2015-01-01                  27,3                   23,9   \n",
       "1   2015-01-02                 27,02                   24,5   \n",
       "2   2015-01-03                 24,82                   22,4   \n",
       "3   2015-01-04                 23,98                   21,5   \n",
       "4   2015-01-05                 23,82                     21   \n",
       "..         ...                   ...                    ...   \n",
       "360 2015-12-27                    24                   21,1   \n",
       "361 2015-12-28                 22,64                   21,1   \n",
       "362 2015-12-29                 21,68                   20,3   \n",
       "363 2015-12-30                 21,38                   19,3   \n",
       "364 2015-12-31                 24,76                   20,2   \n",
       "\n",
       "    Temperatura Maxima (C) Precipitacao (mm)  Final de Semana  \\\n",
       "0                     32,5                 0              0.0   \n",
       "1                     33,5                 0              0.0   \n",
       "2                     29,9                 0              1.0   \n",
       "3                     28,6               1,2              1.0   \n",
       "4                     28,3                 0              0.0   \n",
       "..                     ...               ...              ...   \n",
       "360                   28,2              13,6              1.0   \n",
       "361                   26,7                 0              0.0   \n",
       "362                   24,1              10,3              0.0   \n",
       "363                   22,4               6,3              0.0   \n",
       "364                     29                 0              0.0   \n",
       "\n",
       "     Consumo de cerveja (litros)  Month  Day  \n",
       "0                         25.461      1    1  \n",
       "1                         28.972      1    2  \n",
       "2                         30.814      1    3  \n",
       "3                         29.799      1    4  \n",
       "4                         28.900      1    5  \n",
       "..                           ...    ...  ...  \n",
       "360                       32.307     12   27  \n",
       "361                       26.095     12   28  \n",
       "362                       22.309     12   29  \n",
       "363                       20.467     12   30  \n",
       "364                       22.446     12   31  \n",
       "\n",
       "[365 rows x 9 columns]"
      ]
     },
     "execution_count": 62,
     "metadata": {},
     "output_type": "execute_result"
    }
   ],
   "source": [
    "#Create a new feature 'Month' from the dates, consisting of the month of the year.\n",
    "#Create a new feature 'Day' from the dates, consisting of the day of the week.\n",
    "\n",
    "consumption_df['Data'] = pd.to_datetime(consumption_df['Data'],infer_datetime_format=True)\n",
    "\n",
    "consumption_df['Month'] = pd.DatetimeIndex(consumption_df['Data']).month\n",
    "consumption_df['Day'] = pd.DatetimeIndex(consumption_df['Data']).day\n",
    "\n",
    "consumption_df"
   ]
  },
  {
   "cell_type": "code",
   "execution_count": 63,
   "id": "91b3c46f-d4ce-40cf-bedb-3ff3b0dd6fe0",
   "metadata": {},
   "outputs": [
    {
     "data": {
      "text/html": [
       "<div>\n",
       "<style scoped>\n",
       "    .dataframe tbody tr th:only-of-type {\n",
       "        vertical-align: middle;\n",
       "    }\n",
       "\n",
       "    .dataframe tbody tr th {\n",
       "        vertical-align: top;\n",
       "    }\n",
       "\n",
       "    .dataframe thead th {\n",
       "        text-align: right;\n",
       "    }\n",
       "</style>\n",
       "<table border=\"1\" class=\"dataframe\">\n",
       "  <thead>\n",
       "    <tr style=\"text-align: right;\">\n",
       "      <th></th>\n",
       "      <th>Temperatura Media (C)</th>\n",
       "      <th>Temperatura Minima (C)</th>\n",
       "      <th>Temperatura Maxima (C)</th>\n",
       "      <th>Precipitacao (mm)</th>\n",
       "      <th>Final de Semana</th>\n",
       "      <th>Consumo de cerveja (litros)</th>\n",
       "      <th>Month</th>\n",
       "      <th>Day</th>\n",
       "    </tr>\n",
       "    <tr>\n",
       "      <th>Data</th>\n",
       "      <th></th>\n",
       "      <th></th>\n",
       "      <th></th>\n",
       "      <th></th>\n",
       "      <th></th>\n",
       "      <th></th>\n",
       "      <th></th>\n",
       "      <th></th>\n",
       "    </tr>\n",
       "  </thead>\n",
       "  <tbody>\n",
       "    <tr>\n",
       "      <th>2015-01-01</th>\n",
       "      <td>27,3</td>\n",
       "      <td>23,9</td>\n",
       "      <td>32,5</td>\n",
       "      <td>0</td>\n",
       "      <td>0.0</td>\n",
       "      <td>25.461</td>\n",
       "      <td>1</td>\n",
       "      <td>1</td>\n",
       "    </tr>\n",
       "    <tr>\n",
       "      <th>2015-01-02</th>\n",
       "      <td>27,02</td>\n",
       "      <td>24,5</td>\n",
       "      <td>33,5</td>\n",
       "      <td>0</td>\n",
       "      <td>0.0</td>\n",
       "      <td>28.972</td>\n",
       "      <td>1</td>\n",
       "      <td>2</td>\n",
       "    </tr>\n",
       "    <tr>\n",
       "      <th>2015-01-03</th>\n",
       "      <td>24,82</td>\n",
       "      <td>22,4</td>\n",
       "      <td>29,9</td>\n",
       "      <td>0</td>\n",
       "      <td>1.0</td>\n",
       "      <td>30.814</td>\n",
       "      <td>1</td>\n",
       "      <td>3</td>\n",
       "    </tr>\n",
       "    <tr>\n",
       "      <th>2015-01-04</th>\n",
       "      <td>23,98</td>\n",
       "      <td>21,5</td>\n",
       "      <td>28,6</td>\n",
       "      <td>1,2</td>\n",
       "      <td>1.0</td>\n",
       "      <td>29.799</td>\n",
       "      <td>1</td>\n",
       "      <td>4</td>\n",
       "    </tr>\n",
       "    <tr>\n",
       "      <th>2015-01-05</th>\n",
       "      <td>23,82</td>\n",
       "      <td>21</td>\n",
       "      <td>28,3</td>\n",
       "      <td>0</td>\n",
       "      <td>0.0</td>\n",
       "      <td>28.900</td>\n",
       "      <td>1</td>\n",
       "      <td>5</td>\n",
       "    </tr>\n",
       "    <tr>\n",
       "      <th>...</th>\n",
       "      <td>...</td>\n",
       "      <td>...</td>\n",
       "      <td>...</td>\n",
       "      <td>...</td>\n",
       "      <td>...</td>\n",
       "      <td>...</td>\n",
       "      <td>...</td>\n",
       "      <td>...</td>\n",
       "    </tr>\n",
       "    <tr>\n",
       "      <th>2015-12-27</th>\n",
       "      <td>24</td>\n",
       "      <td>21,1</td>\n",
       "      <td>28,2</td>\n",
       "      <td>13,6</td>\n",
       "      <td>1.0</td>\n",
       "      <td>32.307</td>\n",
       "      <td>12</td>\n",
       "      <td>27</td>\n",
       "    </tr>\n",
       "    <tr>\n",
       "      <th>2015-12-28</th>\n",
       "      <td>22,64</td>\n",
       "      <td>21,1</td>\n",
       "      <td>26,7</td>\n",
       "      <td>0</td>\n",
       "      <td>0.0</td>\n",
       "      <td>26.095</td>\n",
       "      <td>12</td>\n",
       "      <td>28</td>\n",
       "    </tr>\n",
       "    <tr>\n",
       "      <th>2015-12-29</th>\n",
       "      <td>21,68</td>\n",
       "      <td>20,3</td>\n",
       "      <td>24,1</td>\n",
       "      <td>10,3</td>\n",
       "      <td>0.0</td>\n",
       "      <td>22.309</td>\n",
       "      <td>12</td>\n",
       "      <td>29</td>\n",
       "    </tr>\n",
       "    <tr>\n",
       "      <th>2015-12-30</th>\n",
       "      <td>21,38</td>\n",
       "      <td>19,3</td>\n",
       "      <td>22,4</td>\n",
       "      <td>6,3</td>\n",
       "      <td>0.0</td>\n",
       "      <td>20.467</td>\n",
       "      <td>12</td>\n",
       "      <td>30</td>\n",
       "    </tr>\n",
       "    <tr>\n",
       "      <th>2015-12-31</th>\n",
       "      <td>24,76</td>\n",
       "      <td>20,2</td>\n",
       "      <td>29</td>\n",
       "      <td>0</td>\n",
       "      <td>0.0</td>\n",
       "      <td>22.446</td>\n",
       "      <td>12</td>\n",
       "      <td>31</td>\n",
       "    </tr>\n",
       "  </tbody>\n",
       "</table>\n",
       "<p>365 rows × 8 columns</p>\n",
       "</div>"
      ],
      "text/plain": [
       "           Temperatura Media (C) Temperatura Minima (C)  \\\n",
       "Data                                                      \n",
       "2015-01-01                  27,3                   23,9   \n",
       "2015-01-02                 27,02                   24,5   \n",
       "2015-01-03                 24,82                   22,4   \n",
       "2015-01-04                 23,98                   21,5   \n",
       "2015-01-05                 23,82                     21   \n",
       "...                          ...                    ...   \n",
       "2015-12-27                    24                   21,1   \n",
       "2015-12-28                 22,64                   21,1   \n",
       "2015-12-29                 21,68                   20,3   \n",
       "2015-12-30                 21,38                   19,3   \n",
       "2015-12-31                 24,76                   20,2   \n",
       "\n",
       "           Temperatura Maxima (C) Precipitacao (mm)  Final de Semana  \\\n",
       "Data                                                                   \n",
       "2015-01-01                   32,5                 0              0.0   \n",
       "2015-01-02                   33,5                 0              0.0   \n",
       "2015-01-03                   29,9                 0              1.0   \n",
       "2015-01-04                   28,6               1,2              1.0   \n",
       "2015-01-05                   28,3                 0              0.0   \n",
       "...                           ...               ...              ...   \n",
       "2015-12-27                   28,2              13,6              1.0   \n",
       "2015-12-28                   26,7                 0              0.0   \n",
       "2015-12-29                   24,1              10,3              0.0   \n",
       "2015-12-30                   22,4               6,3              0.0   \n",
       "2015-12-31                     29                 0              0.0   \n",
       "\n",
       "            Consumo de cerveja (litros)  Month  Day  \n",
       "Data                                                 \n",
       "2015-01-01                       25.461      1    1  \n",
       "2015-01-02                       28.972      1    2  \n",
       "2015-01-03                       30.814      1    3  \n",
       "2015-01-04                       29.799      1    4  \n",
       "2015-01-05                       28.900      1    5  \n",
       "...                                 ...    ...  ...  \n",
       "2015-12-27                       32.307     12   27  \n",
       "2015-12-28                       26.095     12   28  \n",
       "2015-12-29                       22.309     12   29  \n",
       "2015-12-30                       20.467     12   30  \n",
       "2015-12-31                       22.446     12   31  \n",
       "\n",
       "[365 rows x 8 columns]"
      ]
     },
     "execution_count": 63,
     "metadata": {},
     "output_type": "execute_result"
    }
   ],
   "source": [
    "#Set values from the 'Data' column as indexes\n",
    "\n",
    "consumption_df.set_index('Data', inplace=True)\n",
    "consumption_df"
   ]
  },
  {
   "cell_type": "code",
   "execution_count": 64,
   "id": "d6deb09d-af73-41af-9b2b-2afa17983ff7",
   "metadata": {},
   "outputs": [
    {
     "data": {
      "text/plain": [
       "Temperatura Media (C)          0\n",
       "Temperatura Minima (C)         0\n",
       "Temperatura Maxima (C)         0\n",
       "Precipitacao (mm)              0\n",
       "Final de Semana                0\n",
       "Consumo de cerveja (litros)    0\n",
       "Month                          0\n",
       "Day                            0\n",
       "dtype: int64"
      ]
     },
     "execution_count": 64,
     "metadata": {},
     "output_type": "execute_result"
    }
   ],
   "source": [
    "#Check for null\n",
    "consumption_df.isnull().sum()"
   ]
  },
  {
   "cell_type": "code",
   "execution_count": 65,
   "id": "10d820b6-b591-4a2e-977b-f9847b27b27a",
   "metadata": {},
   "outputs": [
    {
     "data": {
      "text/plain": [
       "0"
      ]
     },
     "execution_count": 65,
     "metadata": {},
     "output_type": "execute_result"
    }
   ],
   "source": [
    "#Check for duplicates\n",
    "consumption_df.duplicated().sum()"
   ]
  },
  {
   "cell_type": "code",
   "execution_count": 66,
   "id": "bc4429f9-5b1a-455b-b31c-0ec4b55c754b",
   "metadata": {},
   "outputs": [
    {
     "data": {
      "text/plain": [
       "Temperatura Media (C)           object\n",
       "Temperatura Minima (C)          object\n",
       "Temperatura Maxima (C)          object\n",
       "Precipitacao (mm)               object\n",
       "Final de Semana                float64\n",
       "Consumo de cerveja (litros)    float64\n",
       "Month                            int32\n",
       "Day                              int32\n",
       "dtype: object"
      ]
     },
     "execution_count": 66,
     "metadata": {},
     "output_type": "execute_result"
    }
   ],
   "source": [
    "#Check the data type of the features and convert them to the appropriate data type\n",
    "\n",
    "consumption_df.dtypes\n"
   ]
  },
  {
   "cell_type": "code",
   "execution_count": 67,
   "id": "dd526e32-7453-4dc6-afbc-da8eed5787a3",
   "metadata": {},
   "outputs": [],
   "source": [
    "consumption_df['Temperatura Media (C)'] = pd.to_numeric(consumption_df['Temperatura Media (C)'].str.replace(',','.'))\n",
    "consumption_df['Temperatura Minima (C)'] = pd.to_numeric(consumption_df['Temperatura Minima (C)'].str.replace(',','.'))\n",
    "consumption_df['Temperatura Maxima (C)'] = pd.to_numeric(consumption_df['Temperatura Maxima (C)'].str.replace(',','.'))\n",
    "consumption_df['Precipitacao (mm)'] = pd.to_numeric(consumption_df['Precipitacao (mm)'].str.replace(',','.'))"
   ]
  },
  {
   "cell_type": "code",
   "execution_count": 37,
   "id": "ae16deae-9d70-4dc9-ae8a-abbc5924499a",
   "metadata": {},
   "outputs": [],
   "source": [
    "#consumption_df['Final de Semana'].replace(to_replace=0.0,value=False,inplace=True)\n",
    "#consumption_df['Final de Semana'].replace(to_replace=1.0,value=True,inplace=True)"
   ]
  },
  {
   "cell_type": "code",
   "execution_count": 68,
   "id": "a24244d8-348f-4b78-93de-ef81b00c2675",
   "metadata": {},
   "outputs": [
    {
     "data": {
      "text/plain": [
       "Temperatura Media (C)          float64\n",
       "Temperatura Minima (C)         float64\n",
       "Temperatura Maxima (C)         float64\n",
       "Precipitacao (mm)              float64\n",
       "Final de Semana                float64\n",
       "Consumo de cerveja (litros)    float64\n",
       "Month                            int32\n",
       "Day                              int32\n",
       "dtype: object"
      ]
     },
     "execution_count": 68,
     "metadata": {},
     "output_type": "execute_result"
    }
   ],
   "source": [
    "consumption_df.dtypes"
   ]
  },
  {
   "cell_type": "code",
   "execution_count": 69,
   "id": "3caed4de-60ea-4338-bfbc-62d3ec410c24",
   "metadata": {},
   "outputs": [
    {
     "name": "stdout",
     "output_type": "stream",
     "text": [
      "Categorical Variables:\n",
      "[]\n",
      "Numerical Variables:\n",
      "['Temperatura Media (C)', 'Temperatura Minima (C)', 'Temperatura Maxima (C)', 'Precipitacao (mm)', 'Final de Semana', 'Consumo de cerveja (litros)', 'Month', 'Day']\n"
     ]
    }
   ],
   "source": [
    "#Analyze features with outlier values\n",
    "\n",
    "#Before we do the graphical EDA, lets separate Numerical and categorical variables(if any) for easy analysis\n",
    "\n",
    "import numpy as np\n",
    "\n",
    "cat_cols = consumption_df.select_dtypes(include=['object']).columns.tolist()\n",
    "num_cols = consumption_df.select_dtypes(include=np.number).columns.tolist()\n",
    "print(\"Categorical Variables:\")\n",
    "print(cat_cols)\n",
    "print(\"Numerical Variables:\")\n",
    "print(num_cols)"
   ]
  },
  {
   "cell_type": "code",
   "execution_count": 70,
   "id": "68d72048-2f37-4cdb-bd1f-d83c6d37faf5",
   "metadata": {},
   "outputs": [
    {
     "name": "stdout",
     "output_type": "stream",
     "text": [
      "Temperatura Media (C)\n"
     ]
    },
    {
     "data": {
      "image/png": "[encoded data removed]",
      "text/plain": [
       "<Figure size 640x480 with 1 Axes>"
      ]
     },
     "metadata": {},
     "output_type": "display_data"
    },
    {
     "name": "stdout",
     "output_type": "stream",
     "text": [
      "Temperatura Minima (C)\n"
     ]
    },
    {
     "data": {
      "image/png": "[encoded data removed]",
      "text/plain": [
       "<Figure size 640x480 with 1 Axes>"
      ]
     },
     "metadata": {},
     "output_type": "display_data"
    },
    {
     "name": "stdout",
     "output_type": "stream",
     "text": [
      "Temperatura Maxima (C)\n"
     ]
    },
    {
     "data": {
      "image/png": "[encoded data removed]",
      "text/plain": [
       "<Figure size 640x480 with 1 Axes>"
      ]
     },
     "metadata": {},
     "output_type": "display_data"
    },
    {
     "name": "stdout",
     "output_type": "stream",
     "text": [
      "Precipitacao (mm)\n"
     ]
    },
    {
     "data": {
      "image/png": "[encoded data removed]",
      "text/plain": [
       "<Figure size 640x480 with 1 Axes>"
      ]
     },
     "metadata": {},
     "output_type": "display_data"
    },
    {
     "name": "stdout",
     "output_type": "stream",
     "text": [
      "Final de Semana\n"
     ]
    },
    {
     "data": {
      "image/png": "[encoded data removed]",
      "text/plain": [
       "<Figure size 640x480 with 1 Axes>"
      ]
     },
     "metadata": {},
     "output_type": "display_data"
    },
    {
     "name": "stdout",
     "output_type": "stream",
     "text": [
      "Consumo de cerveja (litros)\n"
     ]
    },
    {
     "data": {
      "image/png": "[encoded data removed]",
      "text/plain": [
       "<Figure size 640x480 with 1 Axes>"
      ]
     },
     "metadata": {},
     "output_type": "display_data"
    },
    {
     "name": "stdout",
     "output_type": "stream",
     "text": [
      "Month\n"
     ]
    },
    {
     "data": {
      "image/png": "[encoded data removed]",
      "text/plain": [
       "<Figure size 640x480 with 1 Axes>"
      ]
     },
     "metadata": {},
     "output_type": "display_data"
    },
    {
     "name": "stdout",
     "output_type": "stream",
     "text": [
      "Day\n"
     ]
    },
    {
     "data": {
      "image/png": "[encoded data removed]",
      "text/plain": [
       "<Figure size 640x480 with 1 Axes>"
      ]
     },
     "metadata": {},
     "output_type": "display_data"
    }
   ],
   "source": [
    "for col in num_cols:\n",
    "    print(col)\n",
    "    sns.boxplot(x=consumption_df[col])\n",
    "    plt.show()"
   ]
  },
  {
   "cell_type": "code",
   "execution_count": 71,
   "id": "5e4c7904-c9b3-46ed-b01e-100120bb9231",
   "metadata": {},
   "outputs": [
    {
     "data": {
      "image/png": "[encoded data removed]",
      "text/plain": [
       "<Figure size 1200x700 with 2 Axes>"
      ]
     },
     "metadata": {},
     "output_type": "display_data"
    }
   ],
   "source": [
    "#Plot and analyze the correlation\n",
    "\n",
    "plt.figure(figsize=(12, 7))\n",
    "sns.heatmap(consumption_df.corr(), annot = True, vmin = -1, vmax = 1)\n",
    "plt.show()"
   ]
  },
  {
   "cell_type": "code",
   "execution_count": 72,
   "id": "6db04e99-db1a-4b3f-bfeb-7babcbf59d1f",
   "metadata": {},
   "outputs": [],
   "source": [
    "#Split the dataset for training and testing\n",
    "\n",
    "x = consumption_df.drop(\"Consumo de cerveja (litros)\",axis=1)\n",
    "y = consumption_df[\"Consumo de cerveja (litros)\"]"
   ]
  },
  {
   "cell_type": "code",
   "execution_count": 73,
   "id": "8c1def09-5e7e-445b-9668-cb9cf9563962",
   "metadata": {},
   "outputs": [
    {
     "name": "stdout",
     "output_type": "stream",
     "text": [
      "Shape of x: (365, 7)\n",
      "Shape of y: (365,)\n"
     ]
    }
   ],
   "source": [
    "print(\"Shape of x:\",x.shape)\n",
    "print(\"Shape of y:\",y.shape)"
   ]
  },
  {
   "cell_type": "code",
   "execution_count": 74,
   "id": "5a8df590-1462-4733-8c4d-939a067981de",
   "metadata": {},
   "outputs": [],
   "source": [
    "from sklearn.model_selection import train_test_split\n",
    "\n",
    "x_train,x_test,y_train,y_test = train_test_split(x,y,test_size=0.2,random_state=21)"
   ]
  },
  {
   "cell_type": "code",
   "execution_count": 75,
   "id": "268ed648-492c-4e17-9722-369041838039",
   "metadata": {},
   "outputs": [
    {
     "name": "stdout",
     "output_type": "stream",
     "text": [
      "Shape of train dataset features\n",
      "(292, 7)\n",
      "Shape of test dataset features\n",
      "(73, 7)\n",
      "Shape of train dataset target\n",
      "(292,)\n",
      "Shape of test dataset target\n",
      "(73,)\n"
     ]
    }
   ],
   "source": [
    "print(\"Shape of train dataset features\")\n",
    "print(x_train.shape)\n",
    "print(\"Shape of test dataset features\")\n",
    "print(x_test.shape)\n",
    "print(\"Shape of train dataset target\")\n",
    "print(y_train.shape)\n",
    "print(\"Shape of test dataset target\")\n",
    "print(y_test.shape)"
   ]
  },
  {
   "cell_type": "code",
   "execution_count": 76,
   "id": "07323e08-b590-457e-9fa4-7d3501cfdf1f",
   "metadata": {},
   "outputs": [
    {
     "data": {
      "text/html": [
       "<style>#sk-container-id-2 {color: black;}#sk-container-id-2 pre{padding: 0;}#sk-container-id-2 div.sk-toggleable {background-color: white;}#sk-container-id-2 label.sk-toggleable__label {cursor: pointer;display: block;width: 100%;margin-bottom: 0;padding: 0.3em;box-sizing: border-box;text-align: center;}#sk-container-id-2 label.sk-toggleable__label-arrow:before {content: \"▸\";float: left;margin-right: 0.25em;color: #696969;}#sk-container-id-2 label.sk-toggleable__label-arrow:hover:before {color: black;}#sk-container-id-2 div.sk-estimator:hover label.sk-toggleable__label-arrow:before {color: black;}#sk-container-id-2 div.sk-toggleable__content {max-height: 0;max-width: 0;overflow: hidden;text-align: left;background-color: #f0f8ff;}#sk-container-id-2 div.sk-toggleable__content pre {margin: 0.2em;color: black;border-radius: 0.25em;background-color: #f0f8ff;}#sk-container-id-2 input.sk-toggleable__control:checked~div.sk-toggleable__content {max-height: 200px;max-width: 100%;overflow: auto;}#sk-container-id-2 input.sk-toggleable__control:checked~label.sk-toggleable__label-arrow:before {content: \"▾\";}#sk-container-id-2 div.sk-estimator input.sk-toggleable__control:checked~label.sk-toggleable__label {background-color: #d4ebff;}#sk-container-id-2 div.sk-label input.sk-toggleable__control:checked~label.sk-toggleable__label {background-color: #d4ebff;}#sk-container-id-2 input.sk-hidden--visually {border: 0;clip: rect(1px 1px 1px 1px);clip: rect(1px, 1px, 1px, 1px);height: 1px;margin: -1px;overflow: hidden;padding: 0;position: absolute;width: 1px;}#sk-container-id-2 div.sk-estimator {font-family: monospace;background-color: #f0f8ff;border: 1px dotted black;border-radius: 0.25em;box-sizing: border-box;margin-bottom: 0.5em;}#sk-container-id-2 div.sk-estimator:hover {background-color: #d4ebff;}#sk-container-id-2 div.sk-parallel-item::after {content: \"\";width: 100%;border-bottom: 1px solid gray;flex-grow: 1;}#sk-container-id-2 div.sk-label:hover label.sk-toggleable__label {background-color: #d4ebff;}#sk-container-id-2 div.sk-serial::before {content: \"\";position: absolute;border-left: 1px solid gray;box-sizing: border-box;top: 0;bottom: 0;left: 50%;z-index: 0;}#sk-container-id-2 div.sk-serial {display: flex;flex-direction: column;align-items: center;background-color: white;padding-right: 0.2em;padding-left: 0.2em;position: relative;}#sk-container-id-2 div.sk-item {position: relative;z-index: 1;}#sk-container-id-2 div.sk-parallel {display: flex;align-items: stretch;justify-content: center;background-color: white;position: relative;}#sk-container-id-2 div.sk-item::before, #sk-container-id-2 div.sk-parallel-item::before {content: \"\";position: absolute;border-left: 1px solid gray;box-sizing: border-box;top: 0;bottom: 0;left: 50%;z-index: -1;}#sk-container-id-2 div.sk-parallel-item {display: flex;flex-direction: column;z-index: 1;position: relative;background-color: white;}#sk-container-id-2 div.sk-parallel-item:first-child::after {align-self: flex-end;width: 50%;}#sk-container-id-2 div.sk-parallel-item:last-child::after {align-self: flex-start;width: 50%;}#sk-container-id-2 div.sk-parallel-item:only-child::after {width: 0;}#sk-container-id-2 div.sk-dashed-wrapped {border: 1px dashed gray;margin: 0 0.4em 0.5em 0.4em;box-sizing: border-box;padding-bottom: 0.4em;background-color: white;}#sk-container-id-2 div.sk-label label {font-family: monospace;font-weight: bold;display: inline-block;line-height: 1.2em;}#sk-container-id-2 div.sk-label-container {text-align: center;}#sk-container-id-2 div.sk-container {/* jupyter's `normalize.less` sets `[hidden] { display: none; }` but bootstrap.min.css set `[hidden] { display: none !important; }` so we also need the `!important` here to be able to override the default hidden behavior on the sphinx rendered scikit-learn.org. See: https://github.com/scikit-learn/scikit-learn/issues/21755 */display: inline-block !important;position: relative;}#sk-container-id-2 div.sk-text-repr-fallback {display: none;}</style><div id=\"sk-container-id-2\" class=\"sk-top-container\"><div class=\"sk-text-repr-fallback\"><pre>LinearRegression()</pre><b>In a Jupyter environment, please rerun this cell to show the HTML representation or trust the notebook. <br />On GitHub, the HTML representation is unable to render, please try loading this page with nbviewer.org.</b></div><div class=\"sk-container\" hidden><div class=\"sk-item\"><div class=\"sk-estimator sk-toggleable\"><input class=\"sk-toggleable__control sk-hidden--visually\" id=\"sk-estimator-id-2\" type=\"checkbox\" checked><label for=\"sk-estimator-id-2\" class=\"sk-toggleable__label sk-toggleable__label-arrow\">LinearRegression</label><div class=\"sk-toggleable__content\"><pre>LinearRegression()</pre></div></div></div></div></div>"
      ],
      "text/plain": [
       "LinearRegression()"
      ]
     },
     "execution_count": 76,
     "metadata": {},
     "output_type": "execute_result"
    }
   ],
   "source": [
    "#Train a linear regression model and print the intercept and coefficients\n",
    "\n",
    "from sklearn.linear_model import LinearRegression\n",
    "\n",
    "model_linreg = LinearRegression()\n",
    "model_linreg.fit(x_train,y_train)"
   ]
  },
  {
   "cell_type": "code",
   "execution_count": 77,
   "id": "7b8af260-8a9c-4551-896d-37c6d880fa67",
   "metadata": {},
   "outputs": [
    {
     "name": "stdout",
     "output_type": "stream",
     "text": [
      "The intercept(alpha value) for this Linear Regression Model on the beer consumption dataset is:  4.867891375174139\n",
      "The regression co-efficients(beta values) for this Linear Regression Model on the beer consumption dataset are:\n",
      "===============================================================\n",
      "[-1.88525042e-01  1.59195355e-01  7.39824677e-01 -6.35672398e-02\n",
      "  5.18916890e+00  1.53669489e-01 -4.21719518e-03]\n"
     ]
    }
   ],
   "source": [
    "print(\"The intercept(alpha value) for this Linear Regression Model on the beer consumption dataset is: \",model_linreg.intercept_)\n",
    "print(\"The regression co-efficients(beta values) for this Linear Regression Model on the beer consumption dataset are:\")\n",
    "print(\"===============================================================\")\n",
    "print(model_linreg.coef_)"
   ]
  },
  {
   "cell_type": "code",
   "execution_count": 78,
   "id": "4bbc4a47-f326-4920-8852-70956d2305e3",
   "metadata": {},
   "outputs": [
    {
     "name": "stdout",
     "output_type": "stream",
     "text": [
      "[31.03989187 29.70785613 26.63386278 19.80859342 23.08809287 28.6698519\n",
      " 24.4993822  24.29898289 28.73586726 23.49981996 28.79881196 29.67341859\n",
      " 28.53826522 25.22647032 24.63583797 26.17243272 24.18912618 22.03886958\n",
      " 24.25213929 33.40699316 34.59926334 27.01861062 20.87859855 31.94033515\n",
      " 27.75381411 23.90265989 27.8051072  23.86481411 25.02397103 22.99857933\n",
      " 26.11854136 25.18476331 33.94384898 31.69825422 20.46950657 25.87914568\n",
      " 29.2931907  28.77160097 24.86862888 30.23175492 34.68622598 20.37091529\n",
      " 24.22523686 32.54368252 25.49920244 19.59698908 31.72132195 28.48091607\n",
      " 22.12614968 26.3385881  23.53473753 31.87852167 22.22784995 17.67347735\n",
      " 23.11037426 25.42687235 29.17915077 24.04508211 31.19281607 19.08469509\n",
      " 25.85379403 23.81095306 24.99463249 18.97715631 24.17750801 28.50384052\n",
      " 25.04906284 23.65122019 21.7988135  27.99798513 30.58146509 21.79163525\n",
      " 24.7899492 ]\n"
     ]
    }
   ],
   "source": [
    "#Test the model with the test dataset\n",
    "y_test_pred=model_linreg.predict(x_test) \n",
    "print(y_test_pred)"
   ]
  },
  {
   "cell_type": "code",
   "execution_count": 79,
   "id": "43f83700-3fa3-4473-8551-9e88d7604760",
   "metadata": {},
   "outputs": [
    {
     "data": {
      "text/html": [
       "<div>\n",
       "<style scoped>\n",
       "    .dataframe tbody tr th:only-of-type {\n",
       "        vertical-align: middle;\n",
       "    }\n",
       "\n",
       "    .dataframe tbody tr th {\n",
       "        vertical-align: top;\n",
       "    }\n",
       "\n",
       "    .dataframe thead th {\n",
       "        text-align: right;\n",
       "    }\n",
       "</style>\n",
       "<table border=\"1\" class=\"dataframe\">\n",
       "  <thead>\n",
       "    <tr style=\"text-align: right;\">\n",
       "      <th></th>\n",
       "      <th>Actual</th>\n",
       "      <th>Predicted</th>\n",
       "    </tr>\n",
       "    <tr>\n",
       "      <th>Data</th>\n",
       "      <th></th>\n",
       "      <th></th>\n",
       "    </tr>\n",
       "  </thead>\n",
       "  <tbody>\n",
       "    <tr>\n",
       "      <th>2015-04-04</th>\n",
       "      <td>33.450</td>\n",
       "      <td>31.039892</td>\n",
       "    </tr>\n",
       "    <tr>\n",
       "      <th>2015-06-14</th>\n",
       "      <td>32.983</td>\n",
       "      <td>29.707856</td>\n",
       "    </tr>\n",
       "    <tr>\n",
       "      <th>2015-01-21</th>\n",
       "      <td>29.130</td>\n",
       "      <td>26.633863</td>\n",
       "    </tr>\n",
       "    <tr>\n",
       "      <th>2015-07-07</th>\n",
       "      <td>21.237</td>\n",
       "      <td>19.808593</td>\n",
       "    </tr>\n",
       "    <tr>\n",
       "      <th>2015-03-08</th>\n",
       "      <td>24.619</td>\n",
       "      <td>23.088093</td>\n",
       "    </tr>\n",
       "    <tr>\n",
       "      <th>...</th>\n",
       "      <td>...</td>\n",
       "      <td>...</td>\n",
       "    </tr>\n",
       "    <tr>\n",
       "      <th>2015-12-30</th>\n",
       "      <td>20.467</td>\n",
       "      <td>21.798813</td>\n",
       "    </tr>\n",
       "    <tr>\n",
       "      <th>2015-11-10</th>\n",
       "      <td>27.964</td>\n",
       "      <td>27.997985</td>\n",
       "    </tr>\n",
       "    <tr>\n",
       "      <th>2015-01-25</th>\n",
       "      <td>31.088</td>\n",
       "      <td>30.581465</td>\n",
       "    </tr>\n",
       "    <tr>\n",
       "      <th>2015-09-14</th>\n",
       "      <td>20.464</td>\n",
       "      <td>21.791635</td>\n",
       "    </tr>\n",
       "    <tr>\n",
       "      <th>2015-01-05</th>\n",
       "      <td>28.900</td>\n",
       "      <td>24.789949</td>\n",
       "    </tr>\n",
       "  </tbody>\n",
       "</table>\n",
       "<p>73 rows × 2 columns</p>\n",
       "</div>"
      ],
      "text/plain": [
       "            Actual  Predicted\n",
       "Data                         \n",
       "2015-04-04  33.450  31.039892\n",
       "2015-06-14  32.983  29.707856\n",
       "2015-01-21  29.130  26.633863\n",
       "2015-07-07  21.237  19.808593\n",
       "2015-03-08  24.619  23.088093\n",
       "...            ...        ...\n",
       "2015-12-30  20.467  21.798813\n",
       "2015-11-10  27.964  27.997985\n",
       "2015-01-25  31.088  30.581465\n",
       "2015-09-14  20.464  21.791635\n",
       "2015-01-05  28.900  24.789949\n",
       "\n",
       "[73 rows x 2 columns]"
      ]
     },
     "execution_count": 79,
     "metadata": {},
     "output_type": "execute_result"
    }
   ],
   "source": [
    "#check the diffrence between actual and predicted target\n",
    "actual_vs_pred_df = pd.DataFrame({'Actual': y_test, 'Predicted' : y_test_pred})\n",
    "actual_vs_pred_df"
   ]
  },
  {
   "cell_type": "code",
   "execution_count": 80,
   "id": "40acc8a7-9420-4aba-8e93-b76af545fa84",
   "metadata": {},
   "outputs": [
    {
     "name": "stdout",
     "output_type": "stream",
     "text": [
      "The MAE value of the MLR model on the test dataset is: \n",
      "1.7768194827065698\n",
      "The RMSE value of the MLR model on the test dataset is: \n",
      "2.1554495033825805\n",
      "The R2 score of the MLR model on the test dataset is:\n",
      "0.7565254821016848\n"
     ]
    }
   ],
   "source": [
    "#Evaluate the model using the R2 score, mean absolute error, and root mean squared error\n",
    "\n",
    "from sklearn.metrics import mean_squared_error as mse\n",
    "from sklearn.metrics import mean_absolute_error as mae\n",
    "import numpy as np\n",
    "\n",
    "print(\"The MAE value of the MLR model on the test dataset is: \")\n",
    "print(mae(y_test, y_test_pred))\n",
    "\n",
    "print(\"The RMSE value of the MLR model on the test dataset is: \")\n",
    "print(np.sqrt(mse(y_test, y_test_pred)))\n",
    "\n",
    "print(\"The R2 score of the MLR model on the test dataset is:\")\n",
    "print(model_linreg.score(x_test,y_test))"
   ]
  },
  {
   "cell_type": "code",
   "execution_count": 96,
   "id": "603994bf-d2f2-4fcd-a48d-b63e95ad59bb",
   "metadata": {},
   "outputs": [],
   "source": [
    "#Now try re-building the model after scaling the dataset\n",
    "#Before scaling your data, analyze outliers and remove them \n",
    "\n",
    "def outlier_removal(consumption_df):\n",
    "    # Create a copy of the original DataFrame to avoid modifying the original data\n",
    "    consumption_df_copy = consumption_df.copy()\n",
    "\n",
    "    # Define the features(including target variable)\n",
    "    features = num_cols\n",
    "\n",
    "    # Initialize an empty dictionary to store the lower and upper bounds for each variable\n",
    "    bounds = {}\n",
    "\n",
    "    # Calculate lower and upper bounds for each variable\n",
    "    for variable in features:\n",
    "        sorted(consumption_df_copy[variable])\n",
    "        Q1,Q3 = np.percentile(consumption_df_copy[variable],[25,75]) \n",
    "        IQR = Q3-Q1\n",
    "\n",
    "        # Calculate bounds\n",
    "        lower_bound = Q1-(1.5*IQR)\n",
    "        upper_bound = Q3+(1.5*IQR)\n",
    "\n",
    "        # Store bounds in the dictionary\n",
    "        bounds[variable] = {'lower_bound':lower_bound, 'upper_bound': upper_bound}\n",
    "\n",
    "    for variable in features:\n",
    "        consumption_df_copy = consumption_df_copy[(consumption_df_copy[variable] >= bounds[variable]['lower_bound']) & (consumption_df_copy[variable] <= bounds[variable]['upper_bound'])]\n",
    "        \n",
    "        return consumption_df_copy"
   ]
  },
  {
   "cell_type": "code",
   "execution_count": 83,
   "id": "fc22e738-aef1-43a0-92aa-ac8d0e5588b8",
   "metadata": {},
   "outputs": [
    {
     "data": {
      "text/html": [
       "<div>\n",
       "<style scoped>\n",
       "    .dataframe tbody tr th:only-of-type {\n",
       "        vertical-align: middle;\n",
       "    }\n",
       "\n",
       "    .dataframe tbody tr th {\n",
       "        vertical-align: top;\n",
       "    }\n",
       "\n",
       "    .dataframe thead th {\n",
       "        text-align: right;\n",
       "    }\n",
       "</style>\n",
       "<table border=\"1\" class=\"dataframe\">\n",
       "  <thead>\n",
       "    <tr style=\"text-align: right;\">\n",
       "      <th></th>\n",
       "      <th>Temperatura Media (C)</th>\n",
       "      <th>Temperatura Minima (C)</th>\n",
       "      <th>Temperatura Maxima (C)</th>\n",
       "      <th>Precipitacao (mm)</th>\n",
       "      <th>Final de Semana</th>\n",
       "      <th>Consumo de cerveja (litros)</th>\n",
       "      <th>Month</th>\n",
       "      <th>Day</th>\n",
       "    </tr>\n",
       "    <tr>\n",
       "      <th>Data</th>\n",
       "      <th></th>\n",
       "      <th></th>\n",
       "      <th></th>\n",
       "      <th></th>\n",
       "      <th></th>\n",
       "      <th></th>\n",
       "      <th></th>\n",
       "      <th></th>\n",
       "    </tr>\n",
       "  </thead>\n",
       "  <tbody>\n",
       "    <tr>\n",
       "      <th>2015-01-01</th>\n",
       "      <td>27.30</td>\n",
       "      <td>23.9</td>\n",
       "      <td>32.5</td>\n",
       "      <td>0.0</td>\n",
       "      <td>0.0</td>\n",
       "      <td>25.461</td>\n",
       "      <td>1</td>\n",
       "      <td>1</td>\n",
       "    </tr>\n",
       "    <tr>\n",
       "      <th>2015-01-02</th>\n",
       "      <td>27.02</td>\n",
       "      <td>24.5</td>\n",
       "      <td>33.5</td>\n",
       "      <td>0.0</td>\n",
       "      <td>0.0</td>\n",
       "      <td>28.972</td>\n",
       "      <td>1</td>\n",
       "      <td>2</td>\n",
       "    </tr>\n",
       "    <tr>\n",
       "      <th>2015-01-03</th>\n",
       "      <td>24.82</td>\n",
       "      <td>22.4</td>\n",
       "      <td>29.9</td>\n",
       "      <td>0.0</td>\n",
       "      <td>1.0</td>\n",
       "      <td>30.814</td>\n",
       "      <td>1</td>\n",
       "      <td>3</td>\n",
       "    </tr>\n",
       "    <tr>\n",
       "      <th>2015-01-04</th>\n",
       "      <td>23.98</td>\n",
       "      <td>21.5</td>\n",
       "      <td>28.6</td>\n",
       "      <td>1.2</td>\n",
       "      <td>1.0</td>\n",
       "      <td>29.799</td>\n",
       "      <td>1</td>\n",
       "      <td>4</td>\n",
       "    </tr>\n",
       "    <tr>\n",
       "      <th>2015-01-05</th>\n",
       "      <td>23.82</td>\n",
       "      <td>21.0</td>\n",
       "      <td>28.3</td>\n",
       "      <td>0.0</td>\n",
       "      <td>0.0</td>\n",
       "      <td>28.900</td>\n",
       "      <td>1</td>\n",
       "      <td>5</td>\n",
       "    </tr>\n",
       "    <tr>\n",
       "      <th>...</th>\n",
       "      <td>...</td>\n",
       "      <td>...</td>\n",
       "      <td>...</td>\n",
       "      <td>...</td>\n",
       "      <td>...</td>\n",
       "      <td>...</td>\n",
       "      <td>...</td>\n",
       "      <td>...</td>\n",
       "    </tr>\n",
       "    <tr>\n",
       "      <th>2015-12-27</th>\n",
       "      <td>24.00</td>\n",
       "      <td>21.1</td>\n",
       "      <td>28.2</td>\n",
       "      <td>13.6</td>\n",
       "      <td>1.0</td>\n",
       "      <td>32.307</td>\n",
       "      <td>12</td>\n",
       "      <td>27</td>\n",
       "    </tr>\n",
       "    <tr>\n",
       "      <th>2015-12-28</th>\n",
       "      <td>22.64</td>\n",
       "      <td>21.1</td>\n",
       "      <td>26.7</td>\n",
       "      <td>0.0</td>\n",
       "      <td>0.0</td>\n",
       "      <td>26.095</td>\n",
       "      <td>12</td>\n",
       "      <td>28</td>\n",
       "    </tr>\n",
       "    <tr>\n",
       "      <th>2015-12-29</th>\n",
       "      <td>21.68</td>\n",
       "      <td>20.3</td>\n",
       "      <td>24.1</td>\n",
       "      <td>10.3</td>\n",
       "      <td>0.0</td>\n",
       "      <td>22.309</td>\n",
       "      <td>12</td>\n",
       "      <td>29</td>\n",
       "    </tr>\n",
       "    <tr>\n",
       "      <th>2015-12-30</th>\n",
       "      <td>21.38</td>\n",
       "      <td>19.3</td>\n",
       "      <td>22.4</td>\n",
       "      <td>6.3</td>\n",
       "      <td>0.0</td>\n",
       "      <td>20.467</td>\n",
       "      <td>12</td>\n",
       "      <td>30</td>\n",
       "    </tr>\n",
       "    <tr>\n",
       "      <th>2015-12-31</th>\n",
       "      <td>24.76</td>\n",
       "      <td>20.2</td>\n",
       "      <td>29.0</td>\n",
       "      <td>0.0</td>\n",
       "      <td>0.0</td>\n",
       "      <td>22.446</td>\n",
       "      <td>12</td>\n",
       "      <td>31</td>\n",
       "    </tr>\n",
       "  </tbody>\n",
       "</table>\n",
       "<p>365 rows × 8 columns</p>\n",
       "</div>"
      ],
      "text/plain": [
       "            Temperatura Media (C)  Temperatura Minima (C)  \\\n",
       "Data                                                        \n",
       "2015-01-01                  27.30                    23.9   \n",
       "2015-01-02                  27.02                    24.5   \n",
       "2015-01-03                  24.82                    22.4   \n",
       "2015-01-04                  23.98                    21.5   \n",
       "2015-01-05                  23.82                    21.0   \n",
       "...                           ...                     ...   \n",
       "2015-12-27                  24.00                    21.1   \n",
       "2015-12-28                  22.64                    21.1   \n",
       "2015-12-29                  21.68                    20.3   \n",
       "2015-12-30                  21.38                    19.3   \n",
       "2015-12-31                  24.76                    20.2   \n",
       "\n",
       "            Temperatura Maxima (C)  Precipitacao (mm)  Final de Semana  \\\n",
       "Data                                                                     \n",
       "2015-01-01                    32.5                0.0              0.0   \n",
       "2015-01-02                    33.5                0.0              0.0   \n",
       "2015-01-03                    29.9                0.0              1.0   \n",
       "2015-01-04                    28.6                1.2              1.0   \n",
       "2015-01-05                    28.3                0.0              0.0   \n",
       "...                            ...                ...              ...   \n",
       "2015-12-27                    28.2               13.6              1.0   \n",
       "2015-12-28                    26.7                0.0              0.0   \n",
       "2015-12-29                    24.1               10.3              0.0   \n",
       "2015-12-30                    22.4                6.3              0.0   \n",
       "2015-12-31                    29.0                0.0              0.0   \n",
       "\n",
       "            Consumo de cerveja (litros)  Month  Day  \n",
       "Data                                                 \n",
       "2015-01-01                       25.461      1    1  \n",
       "2015-01-02                       28.972      1    2  \n",
       "2015-01-03                       30.814      1    3  \n",
       "2015-01-04                       29.799      1    4  \n",
       "2015-01-05                       28.900      1    5  \n",
       "...                                 ...    ...  ...  \n",
       "2015-12-27                       32.307     12   27  \n",
       "2015-12-28                       26.095     12   28  \n",
       "2015-12-29                       22.309     12   29  \n",
       "2015-12-30                       20.467     12   30  \n",
       "2015-12-31                       22.446     12   31  \n",
       "\n",
       "[365 rows x 8 columns]"
      ]
     },
     "execution_count": 83,
     "metadata": {},
     "output_type": "execute_result"
    }
   ],
   "source": [
    "filtered_consumption_df = outlier_removal(consumption_df)\n",
    "filtered_consumption_df"
   ]
  },
  {
   "cell_type": "code",
   "execution_count": 84,
   "id": "f9290072-8a53-4f22-8bde-976113457e99",
   "metadata": {},
   "outputs": [
    {
     "name": "stdout",
     "output_type": "stream",
     "text": [
      "            Temperatura Media (C)  Temperatura Minima (C)  \\\n",
      "Data                                                        \n",
      "2015-01-01               0.902256                0.956835   \n",
      "2015-01-02               0.884712                1.000000   \n",
      "2015-01-03               0.746867                0.848921   \n",
      "2015-01-04               0.694236                0.784173   \n",
      "2015-01-05               0.684211                0.748201   \n",
      "...                           ...                     ...   \n",
      "2015-12-27               0.695489                0.755396   \n",
      "2015-12-28               0.610276                0.755396   \n",
      "2015-12-29               0.550125                0.697842   \n",
      "2015-12-30               0.531328                0.625899   \n",
      "2015-12-31               0.743108                0.690647   \n",
      "\n",
      "            Temperatura Maxima (C)  Precipitacao (mm)  Final de Semana  \\\n",
      "Data                                                                     \n",
      "2015-01-01                0.818182           0.000000              0.0   \n",
      "2015-01-02                0.863636           0.000000              0.0   \n",
      "2015-01-03                0.700000           0.000000              1.0   \n",
      "2015-01-04                0.640909           0.012658              1.0   \n",
      "2015-01-05                0.627273           0.000000              0.0   \n",
      "...                            ...                ...              ...   \n",
      "2015-12-27                0.622727           0.143460              1.0   \n",
      "2015-12-28                0.554545           0.000000              0.0   \n",
      "2015-12-29                0.436364           0.108650              0.0   \n",
      "2015-12-30                0.359091           0.066456              0.0   \n",
      "2015-12-31                0.659091           0.000000              0.0   \n",
      "\n",
      "            Consumo de cerveja (litros)  Month       Day  \n",
      "Data                                                      \n",
      "2015-01-01                       25.461    0.0  0.000000  \n",
      "2015-01-02                       28.972    0.0  0.033333  \n",
      "2015-01-03                       30.814    0.0  0.066667  \n",
      "2015-01-04                       29.799    0.0  0.100000  \n",
      "2015-01-05                       28.900    0.0  0.133333  \n",
      "...                                 ...    ...       ...  \n",
      "2015-12-27                       32.307    1.0  0.866667  \n",
      "2015-12-28                       26.095    1.0  0.900000  \n",
      "2015-12-29                       22.309    1.0  0.933333  \n",
      "2015-12-30                       20.467    1.0  0.966667  \n",
      "2015-12-31                       22.446    1.0  1.000000  \n",
      "\n",
      "[365 rows x 8 columns]\n"
     ]
    }
   ],
   "source": [
    "#Scale/Normalize the data\n",
    "\n",
    "from sklearn.preprocessing import MinMaxScaler  # Import MinMaxScaler\n",
    "\n",
    "#Define Feature Columns(excluding target variable)\n",
    "features = ['Temperatura Media (C)', 'Temperatura Minima (C)', 'Temperatura Maxima (C)', 'Precipitacao (mm)', 'Final de Semana', 'Month', 'Day']\n",
    "\n",
    "#Initialize MinMaxScaler\n",
    "scaler = MinMaxScaler()\n",
    "\n",
    "#Fit and Transform\n",
    "filtered_consumption_df[features] = scaler.fit_transform(filtered_consumption_df[features])\n",
    "\n",
    "#Display Scaled DataFrame\n",
    "print(filtered_consumption_df)"
   ]
  },
  {
   "cell_type": "code",
   "execution_count": 85,
   "id": "0e341232-2cba-4561-ad2b-595799e55c2d",
   "metadata": {},
   "outputs": [],
   "source": [
    "#Split the dataset for training and testing\n",
    "\n",
    "x = filtered_consumption_df.drop(\"Consumo de cerveja (litros)\",axis=1)\n",
    "y = filtered_consumption_df[\"Consumo de cerveja (litros)\"]\n",
    "\n",
    "from sklearn.model_selection import train_test_split\n",
    "\n",
    "x_train,x_test,y_train,y_test = train_test_split(x,y,test_size=0.2,random_state=21)"
   ]
  },
  {
   "cell_type": "code",
   "execution_count": 87,
   "id": "04cf7a75-2a28-47f1-b6bb-e9657c289b9e",
   "metadata": {},
   "outputs": [
    {
     "data": {
      "text/html": [
       "<style>#sk-container-id-4 {color: black;}#sk-container-id-4 pre{padding: 0;}#sk-container-id-4 div.sk-toggleable {background-color: white;}#sk-container-id-4 label.sk-toggleable__label {cursor: pointer;display: block;width: 100%;margin-bottom: 0;padding: 0.3em;box-sizing: border-box;text-align: center;}#sk-container-id-4 label.sk-toggleable__label-arrow:before {content: \"▸\";float: left;margin-right: 0.25em;color: #696969;}#sk-container-id-4 label.sk-toggleable__label-arrow:hover:before {color: black;}#sk-container-id-4 div.sk-estimator:hover label.sk-toggleable__label-arrow:before {color: black;}#sk-container-id-4 div.sk-toggleable__content {max-height: 0;max-width: 0;overflow: hidden;text-align: left;background-color: #f0f8ff;}#sk-container-id-4 div.sk-toggleable__content pre {margin: 0.2em;color: black;border-radius: 0.25em;background-color: #f0f8ff;}#sk-container-id-4 input.sk-toggleable__control:checked~div.sk-toggleable__content {max-height: 200px;max-width: 100%;overflow: auto;}#sk-container-id-4 input.sk-toggleable__control:checked~label.sk-toggleable__label-arrow:before {content: \"▾\";}#sk-container-id-4 div.sk-estimator input.sk-toggleable__control:checked~label.sk-toggleable__label {background-color: #d4ebff;}#sk-container-id-4 div.sk-label input.sk-toggleable__control:checked~label.sk-toggleable__label {background-color: #d4ebff;}#sk-container-id-4 input.sk-hidden--visually {border: 0;clip: rect(1px 1px 1px 1px);clip: rect(1px, 1px, 1px, 1px);height: 1px;margin: -1px;overflow: hidden;padding: 0;position: absolute;width: 1px;}#sk-container-id-4 div.sk-estimator {font-family: monospace;background-color: #f0f8ff;border: 1px dotted black;border-radius: 0.25em;box-sizing: border-box;margin-bottom: 0.5em;}#sk-container-id-4 div.sk-estimator:hover {background-color: #d4ebff;}#sk-container-id-4 div.sk-parallel-item::after {content: \"\";width: 100%;border-bottom: 1px solid gray;flex-grow: 1;}#sk-container-id-4 div.sk-label:hover label.sk-toggleable__label {background-color: #d4ebff;}#sk-container-id-4 div.sk-serial::before {content: \"\";position: absolute;border-left: 1px solid gray;box-sizing: border-box;top: 0;bottom: 0;left: 50%;z-index: 0;}#sk-container-id-4 div.sk-serial {display: flex;flex-direction: column;align-items: center;background-color: white;padding-right: 0.2em;padding-left: 0.2em;position: relative;}#sk-container-id-4 div.sk-item {position: relative;z-index: 1;}#sk-container-id-4 div.sk-parallel {display: flex;align-items: stretch;justify-content: center;background-color: white;position: relative;}#sk-container-id-4 div.sk-item::before, #sk-container-id-4 div.sk-parallel-item::before {content: \"\";position: absolute;border-left: 1px solid gray;box-sizing: border-box;top: 0;bottom: 0;left: 50%;z-index: -1;}#sk-container-id-4 div.sk-parallel-item {display: flex;flex-direction: column;z-index: 1;position: relative;background-color: white;}#sk-container-id-4 div.sk-parallel-item:first-child::after {align-self: flex-end;width: 50%;}#sk-container-id-4 div.sk-parallel-item:last-child::after {align-self: flex-start;width: 50%;}#sk-container-id-4 div.sk-parallel-item:only-child::after {width: 0;}#sk-container-id-4 div.sk-dashed-wrapped {border: 1px dashed gray;margin: 0 0.4em 0.5em 0.4em;box-sizing: border-box;padding-bottom: 0.4em;background-color: white;}#sk-container-id-4 div.sk-label label {font-family: monospace;font-weight: bold;display: inline-block;line-height: 1.2em;}#sk-container-id-4 div.sk-label-container {text-align: center;}#sk-container-id-4 div.sk-container {/* jupyter's `normalize.less` sets `[hidden] { display: none; }` but bootstrap.min.css set `[hidden] { display: none !important; }` so we also need the `!important` here to be able to override the default hidden behavior on the sphinx rendered scikit-learn.org. See: https://github.com/scikit-learn/scikit-learn/issues/21755 */display: inline-block !important;position: relative;}#sk-container-id-4 div.sk-text-repr-fallback {display: none;}</style><div id=\"sk-container-id-4\" class=\"sk-top-container\"><div class=\"sk-text-repr-fallback\"><pre>LinearRegression()</pre><b>In a Jupyter environment, please rerun this cell to show the HTML representation or trust the notebook. <br />On GitHub, the HTML representation is unable to render, please try loading this page with nbviewer.org.</b></div><div class=\"sk-container\" hidden><div class=\"sk-item\"><div class=\"sk-estimator sk-toggleable\"><input class=\"sk-toggleable__control sk-hidden--visually\" id=\"sk-estimator-id-4\" type=\"checkbox\" checked><label for=\"sk-estimator-id-4\" class=\"sk-toggleable__label sk-toggleable__label-arrow\">LinearRegression</label><div class=\"sk-toggleable__content\"><pre>LinearRegression()</pre></div></div></div></div></div>"
      ],
      "text/plain": [
       "LinearRegression()"
      ]
     },
     "execution_count": 87,
     "metadata": {},
     "output_type": "execute_result"
    }
   ],
   "source": [
    "#Train a linear regression model and print the intercept and coefficients\n",
    "\n",
    "from sklearn.linear_model import LinearRegression\n",
    "\n",
    "model_linreg_scaled = LinearRegression()\n",
    "model_linreg_scaled.fit(x_train,y_train)"
   ]
  },
  {
   "cell_type": "code",
   "execution_count": 88,
   "id": "4092ead9-ae45-4f19-a49e-990c9fe79fba",
   "metadata": {},
   "outputs": [
    {
     "name": "stdout",
     "output_type": "stream",
     "text": [
      "The intercept(alpha value) for this Linear Regression Model on the beer consumption dataset is:  15.000299205168872\n",
      "The regression co-efficients(beta values) for this Linear Regression Model on the beer consumption dataset are:\n",
      "===============================================================\n",
      "[-3.00885967  2.21281543 16.27614289 -6.02617433  5.1891689   1.69036438\n",
      " -0.12651586]\n"
     ]
    }
   ],
   "source": [
    "print(\"The intercept(alpha value) for this Linear Regression Model on the beer consumption dataset is: \",model_linreg_scaled.intercept_)\n",
    "print(\"The regression co-efficients(beta values) for this Linear Regression Model on the beer consumption dataset are:\")\n",
    "print(\"===============================================================\")\n",
    "print(model_linreg_scaled.coef_)"
   ]
  },
  {
   "cell_type": "code",
   "execution_count": 89,
   "id": "faaf0272-9893-4096-9514-8137d26e4c6d",
   "metadata": {},
   "outputs": [
    {
     "name": "stdout",
     "output_type": "stream",
     "text": [
      "[31.03989187 29.70785613 26.63386278 19.80859342 23.08809287 28.6698519\n",
      " 24.4993822  24.29898289 28.73586726 23.49981996 28.79881196 29.67341859\n",
      " 28.53826522 25.22647032 24.63583797 26.17243272 24.18912618 22.03886958\n",
      " 24.25213929 33.40699316 34.59926334 27.01861062 20.87859855 31.94033515\n",
      " 27.75381411 23.90265989 27.8051072  23.86481411 25.02397103 22.99857933\n",
      " 26.11854136 25.18476331 33.94384898 31.69825422 20.46950657 25.87914568\n",
      " 29.2931907  28.77160097 24.86862888 30.23175492 34.68622598 20.37091529\n",
      " 24.22523686 32.54368252 25.49920244 19.59698908 31.72132195 28.48091607\n",
      " 22.12614968 26.3385881  23.53473753 31.87852167 22.22784995 17.67347735\n",
      " 23.11037426 25.42687235 29.17915077 24.04508211 31.19281607 19.08469509\n",
      " 25.85379403 23.81095306 24.99463249 18.97715631 24.17750801 28.50384052\n",
      " 25.04906284 23.65122019 21.7988135  27.99798513 30.58146509 21.79163525\n",
      " 24.7899492 ]\n"
     ]
    }
   ],
   "source": [
    "#Test the model with the test dataset\n",
    "y_test_pred_scaled=model_linreg_scaled.predict(x_test) \n",
    "print(y_test_pred_scaled)"
   ]
  },
  {
   "cell_type": "code",
   "execution_count": 90,
   "id": "cf4ed81b-9b15-430d-b424-5e4f71d6b660",
   "metadata": {},
   "outputs": [
    {
     "name": "stdout",
     "output_type": "stream",
     "text": [
      "The MAE value of the MLR model on the test dataset is: \n",
      "1.7768194827065689\n",
      "The RMSE value of the MLR model on the test dataset is: \n",
      "2.15544950338258\n",
      "The R2 score of the MLR model on the test dataset is:\n",
      "0.7565254821016849\n"
     ]
    }
   ],
   "source": [
    "#Evaluate the model using the R2 score, mean absolute error, and root mean squared error\n",
    "\n",
    "from sklearn.metrics import mean_squared_error as mse\n",
    "from sklearn.metrics import mean_absolute_error as mae\n",
    "import numpy as np\n",
    "\n",
    "print(\"The MAE value of the MLR model on the test dataset is: \")\n",
    "print(mae(y_test, y_test_pred_scaled))\n",
    "\n",
    "print(\"The RMSE value of the MLR model on the test dataset is: \")\n",
    "print(np.sqrt(mse(y_test, y_test_pred_scaled)))\n",
    "\n",
    "print(\"The R2 score of the MLR model on the test dataset is:\")\n",
    "print(model_linreg_scaled.score(x_test,y_test))"
   ]
  },
  {
   "cell_type": "markdown",
   "id": "efd7992e-c413-4943-8b8f-a0d347df0fe3",
   "metadata": {},
   "source": [
    "Note: We see that evaluation metrics for this use case remain same, even after scaling the dataset"
   ]
  },
  {
   "cell_type": "code",
   "execution_count": null,
   "id": "30c2a156-8b5e-4f12-b109-37627d102c0f",
   "metadata": {},
   "outputs": [],
   "source": []
  },
  {
   "cell_type": "markdown",
   "id": "653d9674-8985-46f4-a9c2-4320390b60c4",
   "metadata": {},
   "source": [
    "Problem Statement 2: You are provided with the California housing dataset. Based on the given parameters of a house, predict its price.\n",
    "\n",
    "Dataset Description:The dataset contains nine features:\n",
    "I.longitude: A measure of how far west a house is; a higher value is farther west\n",
    "II.latitude: A measure of how far north a house is; a higher value is farther north\n",
    "III.housingMedianAge: Median age of a house within a block; a lower number is a newer building\n",
    "IV.total rooms: Total number of rooms within a block\n",
    "V.total bedrooms: Total number of bedrooms within a block\n",
    "VI.population: Total number of people residing within a block\n",
    "VII.households: Total number of households, a group of people residing within a home unit, for a block\n",
    "VIII.median income: Median income for households within a block of houses (measured in tens of thousands of US Dollars)\n",
    "IX.median house value:Median house value for households within a block (measured in US Dollars)\n",
    "\n",
    "Write a Python code to perform the following tasks mentioned:\n",
    "\n",
    "1. Load the data, check its shape and check for null values\n",
    "2. Split the dataset for training and testing -1000 instances for testing\n",
    "3. Train the model using sklearn (Apply linear regression to train a model for prediction)\n",
    "4. Predict the prices on test data and evaluate the modelby r2 score and mean absolute error\n",
    "5. Find coefficient and intercept using the trained model"
   ]
  },
  {
   "cell_type": "code",
   "execution_count": 93,
   "id": "f0d510c4-51f0-4901-b296-7ea0f381850d",
   "metadata": {},
   "outputs": [
    {
     "data": {
      "text/html": [
       "<div>\n",
       "<style scoped>\n",
       "    .dataframe tbody tr th:only-of-type {\n",
       "        vertical-align: middle;\n",
       "    }\n",
       "\n",
       "    .dataframe tbody tr th {\n",
       "        vertical-align: top;\n",
       "    }\n",
       "\n",
       "    .dataframe thead th {\n",
       "        text-align: right;\n",
       "    }\n",
       "</style>\n",
       "<table border=\"1\" class=\"dataframe\">\n",
       "  <thead>\n",
       "    <tr style=\"text-align: right;\">\n",
       "      <th></th>\n",
       "      <th>longitude</th>\n",
       "      <th>latitude</th>\n",
       "      <th>housing_median_age</th>\n",
       "      <th>total_rooms</th>\n",
       "      <th>total_bedrooms</th>\n",
       "      <th>population</th>\n",
       "      <th>households</th>\n",
       "      <th>median_income</th>\n",
       "      <th>median_house_value</th>\n",
       "    </tr>\n",
       "  </thead>\n",
       "  <tbody>\n",
       "    <tr>\n",
       "      <th>0</th>\n",
       "      <td>-114.31</td>\n",
       "      <td>34.19</td>\n",
       "      <td>15.0</td>\n",
       "      <td>5612.0</td>\n",
       "      <td>1283.0</td>\n",
       "      <td>1015.0</td>\n",
       "      <td>472.0</td>\n",
       "      <td>1.4936</td>\n",
       "      <td>66900.0</td>\n",
       "    </tr>\n",
       "    <tr>\n",
       "      <th>1</th>\n",
       "      <td>-114.47</td>\n",
       "      <td>34.40</td>\n",
       "      <td>19.0</td>\n",
       "      <td>7650.0</td>\n",
       "      <td>1901.0</td>\n",
       "      <td>1129.0</td>\n",
       "      <td>463.0</td>\n",
       "      <td>1.8200</td>\n",
       "      <td>80100.0</td>\n",
       "    </tr>\n",
       "    <tr>\n",
       "      <th>2</th>\n",
       "      <td>-114.56</td>\n",
       "      <td>33.69</td>\n",
       "      <td>17.0</td>\n",
       "      <td>720.0</td>\n",
       "      <td>174.0</td>\n",
       "      <td>333.0</td>\n",
       "      <td>117.0</td>\n",
       "      <td>1.6509</td>\n",
       "      <td>85700.0</td>\n",
       "    </tr>\n",
       "    <tr>\n",
       "      <th>3</th>\n",
       "      <td>-114.57</td>\n",
       "      <td>33.64</td>\n",
       "      <td>14.0</td>\n",
       "      <td>1501.0</td>\n",
       "      <td>337.0</td>\n",
       "      <td>515.0</td>\n",
       "      <td>226.0</td>\n",
       "      <td>3.1917</td>\n",
       "      <td>73400.0</td>\n",
       "    </tr>\n",
       "    <tr>\n",
       "      <th>4</th>\n",
       "      <td>-114.57</td>\n",
       "      <td>33.57</td>\n",
       "      <td>20.0</td>\n",
       "      <td>1454.0</td>\n",
       "      <td>326.0</td>\n",
       "      <td>624.0</td>\n",
       "      <td>262.0</td>\n",
       "      <td>1.9250</td>\n",
       "      <td>65500.0</td>\n",
       "    </tr>\n",
       "  </tbody>\n",
       "</table>\n",
       "</div>"
      ],
      "text/plain": [
       "   longitude  latitude  housing_median_age  total_rooms  total_bedrooms  \\\n",
       "0    -114.31     34.19                15.0       5612.0          1283.0   \n",
       "1    -114.47     34.40                19.0       7650.0          1901.0   \n",
       "2    -114.56     33.69                17.0        720.0           174.0   \n",
       "3    -114.57     33.64                14.0       1501.0           337.0   \n",
       "4    -114.57     33.57                20.0       1454.0           326.0   \n",
       "\n",
       "   population  households  median_income  median_house_value  \n",
       "0      1015.0       472.0         1.4936             66900.0  \n",
       "1      1129.0       463.0         1.8200             80100.0  \n",
       "2       333.0       117.0         1.6509             85700.0  \n",
       "3       515.0       226.0         3.1917             73400.0  \n",
       "4       624.0       262.0         1.9250             65500.0  "
      ]
     },
     "execution_count": 93,
     "metadata": {},
     "output_type": "execute_result"
    }
   ],
   "source": [
    "import pandas as pd\n",
    "import matplotlib.pyplot as plt\n",
    "import seaborn as sns\n",
    "import warnings\n",
    "warnings.filterwarnings('ignore')\n",
    "\n",
    "#Load the dataset\n",
    "housing_df=pd.read_csv(r\"C:\\Users\\827180\\AppData\\Local\\Programs\\Python\\Python311\\Scripts\\Data Science & ML Training Docs\\california_housing_train.csv\")\n",
    "housing_df.head()"
   ]
  },
  {
   "cell_type": "code",
   "execution_count": 94,
   "id": "2f8e45f9-8885-42c8-b08f-b3d9d9f0acf8",
   "metadata": {},
   "outputs": [
    {
     "data": {
      "text/plain": [
       "(17000, 9)"
      ]
     },
     "execution_count": 94,
     "metadata": {},
     "output_type": "execute_result"
    }
   ],
   "source": [
    "housing_df.shape"
   ]
  },
  {
   "cell_type": "code",
   "execution_count": 95,
   "id": "27114b65-d9ad-4b84-8f63-f22b3c1e0460",
   "metadata": {},
   "outputs": [
    {
     "data": {
      "text/plain": [
       "longitude             0\n",
       "latitude              0\n",
       "housing_median_age    0\n",
       "total_rooms           0\n",
       "total_bedrooms        0\n",
       "population            0\n",
       "households            0\n",
       "median_income         0\n",
       "median_house_value    0\n",
       "dtype: int64"
      ]
     },
     "execution_count": 95,
     "metadata": {},
     "output_type": "execute_result"
    }
   ],
   "source": [
    "housing_df.isnull().sum()"
   ]
  },
  {
   "cell_type": "code",
   "execution_count": 97,
   "id": "c0c5b337-d522-48ad-a6c8-e96c06283e0f",
   "metadata": {},
   "outputs": [
    {
     "data": {
      "text/plain": [
       "longitude             float64\n",
       "latitude              float64\n",
       "housing_median_age    float64\n",
       "total_rooms           float64\n",
       "total_bedrooms        float64\n",
       "population            float64\n",
       "households            float64\n",
       "median_income         float64\n",
       "median_house_value    float64\n",
       "dtype: object"
      ]
     },
     "execution_count": 97,
     "metadata": {},
     "output_type": "execute_result"
    }
   ],
   "source": [
    "housing_df.dtypes"
   ]
  },
  {
   "cell_type": "code",
   "execution_count": 98,
   "id": "d6ce58d1-bac6-4099-a03e-134ef94f5166",
   "metadata": {},
   "outputs": [],
   "source": [
    "#Split the dataset for training and testing\n",
    "\n",
    "x = housing_df.drop(\"median_house_value\",axis=1)\n",
    "y = housing_df[\"median_house_value\"]"
   ]
  },
  {
   "cell_type": "code",
   "execution_count": 99,
   "id": "4f036e36-42d4-4554-9781-250b18c15c2d",
   "metadata": {},
   "outputs": [],
   "source": [
    "from sklearn.model_selection import train_test_split\n",
    "\n",
    "x_train,x_test,y_train,y_test = train_test_split(x,y,test_size=0.2,random_state=21)"
   ]
  },
  {
   "cell_type": "code",
   "execution_count": 100,
   "id": "2dccb6e1-6f35-48bd-aba4-0200d34046d7",
   "metadata": {},
   "outputs": [
    {
     "data": {
      "text/html": [
       "<style>#sk-container-id-5 {color: black;}#sk-container-id-5 pre{padding: 0;}#sk-container-id-5 div.sk-toggleable {background-color: white;}#sk-container-id-5 label.sk-toggleable__label {cursor: pointer;display: block;width: 100%;margin-bottom: 0;padding: 0.3em;box-sizing: border-box;text-align: center;}#sk-container-id-5 label.sk-toggleable__label-arrow:before {content: \"▸\";float: left;margin-right: 0.25em;color: #696969;}#sk-container-id-5 label.sk-toggleable__label-arrow:hover:before {color: black;}#sk-container-id-5 div.sk-estimator:hover label.sk-toggleable__label-arrow:before {color: black;}#sk-container-id-5 div.sk-toggleable__content {max-height: 0;max-width: 0;overflow: hidden;text-align: left;background-color: #f0f8ff;}#sk-container-id-5 div.sk-toggleable__content pre {margin: 0.2em;color: black;border-radius: 0.25em;background-color: #f0f8ff;}#sk-container-id-5 input.sk-toggleable__control:checked~div.sk-toggleable__content {max-height: 200px;max-width: 100%;overflow: auto;}#sk-container-id-5 input.sk-toggleable__control:checked~label.sk-toggleable__label-arrow:before {content: \"▾\";}#sk-container-id-5 div.sk-estimator input.sk-toggleable__control:checked~label.sk-toggleable__label {background-color: #d4ebff;}#sk-container-id-5 div.sk-label input.sk-toggleable__control:checked~label.sk-toggleable__label {background-color: #d4ebff;}#sk-container-id-5 input.sk-hidden--visually {border: 0;clip: rect(1px 1px 1px 1px);clip: rect(1px, 1px, 1px, 1px);height: 1px;margin: -1px;overflow: hidden;padding: 0;position: absolute;width: 1px;}#sk-container-id-5 div.sk-estimator {font-family: monospace;background-color: #f0f8ff;border: 1px dotted black;border-radius: 0.25em;box-sizing: border-box;margin-bottom: 0.5em;}#sk-container-id-5 div.sk-estimator:hover {background-color: #d4ebff;}#sk-container-id-5 div.sk-parallel-item::after {content: \"\";width: 100%;border-bottom: 1px solid gray;flex-grow: 1;}#sk-container-id-5 div.sk-label:hover label.sk-toggleable__label {background-color: #d4ebff;}#sk-container-id-5 div.sk-serial::before {content: \"\";position: absolute;border-left: 1px solid gray;box-sizing: border-box;top: 0;bottom: 0;left: 50%;z-index: 0;}#sk-container-id-5 div.sk-serial {display: flex;flex-direction: column;align-items: center;background-color: white;padding-right: 0.2em;padding-left: 0.2em;position: relative;}#sk-container-id-5 div.sk-item {position: relative;z-index: 1;}#sk-container-id-5 div.sk-parallel {display: flex;align-items: stretch;justify-content: center;background-color: white;position: relative;}#sk-container-id-5 div.sk-item::before, #sk-container-id-5 div.sk-parallel-item::before {content: \"\";position: absolute;border-left: 1px solid gray;box-sizing: border-box;top: 0;bottom: 0;left: 50%;z-index: -1;}#sk-container-id-5 div.sk-parallel-item {display: flex;flex-direction: column;z-index: 1;position: relative;background-color: white;}#sk-container-id-5 div.sk-parallel-item:first-child::after {align-self: flex-end;width: 50%;}#sk-container-id-5 div.sk-parallel-item:last-child::after {align-self: flex-start;width: 50%;}#sk-container-id-5 div.sk-parallel-item:only-child::after {width: 0;}#sk-container-id-5 div.sk-dashed-wrapped {border: 1px dashed gray;margin: 0 0.4em 0.5em 0.4em;box-sizing: border-box;padding-bottom: 0.4em;background-color: white;}#sk-container-id-5 div.sk-label label {font-family: monospace;font-weight: bold;display: inline-block;line-height: 1.2em;}#sk-container-id-5 div.sk-label-container {text-align: center;}#sk-container-id-5 div.sk-container {/* jupyter's `normalize.less` sets `[hidden] { display: none; }` but bootstrap.min.css set `[hidden] { display: none !important; }` so we also need the `!important` here to be able to override the default hidden behavior on the sphinx rendered scikit-learn.org. See: https://github.com/scikit-learn/scikit-learn/issues/21755 */display: inline-block !important;position: relative;}#sk-container-id-5 div.sk-text-repr-fallback {display: none;}</style><div id=\"sk-container-id-5\" class=\"sk-top-container\"><div class=\"sk-text-repr-fallback\"><pre>LinearRegression()</pre><b>In a Jupyter environment, please rerun this cell to show the HTML representation or trust the notebook. <br />On GitHub, the HTML representation is unable to render, please try loading this page with nbviewer.org.</b></div><div class=\"sk-container\" hidden><div class=\"sk-item\"><div class=\"sk-estimator sk-toggleable\"><input class=\"sk-toggleable__control sk-hidden--visually\" id=\"sk-estimator-id-5\" type=\"checkbox\" checked><label for=\"sk-estimator-id-5\" class=\"sk-toggleable__label sk-toggleable__label-arrow\">LinearRegression</label><div class=\"sk-toggleable__content\"><pre>LinearRegression()</pre></div></div></div></div></div>"
      ],
      "text/plain": [
       "LinearRegression()"
      ]
     },
     "execution_count": 100,
     "metadata": {},
     "output_type": "execute_result"
    }
   ],
   "source": [
    "#Train a linear regression model and print the intercept and coefficients\n",
    "\n",
    "from sklearn.linear_model import LinearRegression\n",
    "\n",
    "model_linreg = LinearRegression()\n",
    "model_linreg.fit(x_train,y_train)"
   ]
  },
  {
   "cell_type": "code",
   "execution_count": 102,
   "id": "e7c34f98-15d3-4f47-becb-6e31778e4772",
   "metadata": {},
   "outputs": [
    {
     "name": "stdout",
     "output_type": "stream",
     "text": [
      "The intercept(alpha value) for this Linear Regression Model on the housing dataset is:  -3661030.2196276514\n",
      "The regression co-efficients(beta values) for this Linear Regression Model on the housing dataset are:\n",
      "===============================================================\n",
      "[-4.36318964e+04 -4.33718462e+04  1.16447563e+03 -7.42708558e+00\n",
      "  1.17217986e+02 -4.44005649e+01  5.54507348e+01  4.00053355e+04]\n"
     ]
    }
   ],
   "source": [
    "print(\"The intercept(alpha value) for this Linear Regression Model on the housing dataset is: \",model_linreg.intercept_)\n",
    "print(\"The regression co-efficients(beta values) for this Linear Regression Model on the housing dataset are:\")\n",
    "print(\"===============================================================\")\n",
    "print(model_linreg.coef_)"
   ]
  },
  {
   "cell_type": "code",
   "execution_count": 103,
   "id": "311aa4c1-943d-404c-a7c9-34a061e5b15f",
   "metadata": {},
   "outputs": [
    {
     "name": "stdout",
     "output_type": "stream",
     "text": [
      "[ 24929.80865638 319067.4639075  361778.43116673 ... 271101.56657607\n",
      " 150060.63534998 192434.84539737]\n"
     ]
    }
   ],
   "source": [
    "#Test the model with the test dataset\n",
    "y_test_pred=model_linreg.predict(x_test) \n",
    "print(y_test_pred)"
   ]
  },
  {
   "cell_type": "code",
   "execution_count": 105,
   "id": "f26c0b31-2c85-424e-bea6-d97b9687a202",
   "metadata": {},
   "outputs": [
    {
     "name": "stdout",
     "output_type": "stream",
     "text": [
      "The MAE value of the MLR model on the test dataset is: \n",
      "52020.86496785569\n",
      "The R2 score of the MLR model on the test dataset is:\n",
      "0.6198116924738883\n"
     ]
    }
   ],
   "source": [
    "#Evaluate the model using the R2 score, and mean absolute error\n",
    "\n",
    "from sklearn.metrics import mean_absolute_error as mae\n",
    "\n",
    "print(\"The MAE value of the MLR model on the test dataset is: \")\n",
    "print(mae(y_test, y_test_pred))\n",
    "\n",
    "print(\"The R2 score of the MLR model on the test dataset is:\")\n",
    "print(model_linreg.score(x_test,y_test))"
   ]
  },
  {
   "cell_type": "code",
   "execution_count": null,
   "id": "a6b8e055-23b0-4612-9989-75aa83664c22",
   "metadata": {},
   "outputs": [],
   "source": []
  },
  {
   "cell_type": "markdown",
   "id": "71822cf3-3710-478d-8a51-fabb38048e70",
   "metadata": {},
   "source": [
    "Problem Statement 3: You are provided with the medical cost dataset. You need to predict individual medical costs billed by health insurance.\n",
    "\n",
    "Dataset Description: \n",
    "I.age: age of the primary beneficiary\n",
    "II.sex: gender of primary beneficiary female, male\n",
    "III.bmi: Body mass index, providing an understanding of the body, weights that are relatively high or low relative to height, an objective index of body\n",
    "IV.weight (kg / m ^ 2) using the ratio of height to weight, ideally 18.5 to 24.9\n",
    "V.children: Number of children covered by health insurance / Number of dependents\n",
    "VI.smoker: Smokes or not\n",
    "VII.region: the beneficiary's residential area in the US, northeast, southeast, southwest, northwest\n",
    "VIII.charges: Individual medical costs billed by health insurance\n",
    "\n",
    "Write a Python code to perform the following tasks mentioned: \n",
    "1. Load the data, check its shape and check for null values\n",
    "2. Convert categorical features to numerical values (Use One-Hot Encoding)\n",
    "3. Split the dataset for training and testing\n",
    "4. Train the model using sklearn –Linear Regression\n",
    "5. Find the intercept and coefficient from the trained model\n",
    "6. Predict the prices of test data and evaluate the model using calculated r2 score and root mean squared error"
   ]
  },
  {
   "cell_type": "code",
   "execution_count": 121,
   "id": "dc242935-0fb7-47c2-8245-699e74676e49",
   "metadata": {},
   "outputs": [
    {
     "data": {
      "text/html": [
       "<div>\n",
       "<style scoped>\n",
       "    .dataframe tbody tr th:only-of-type {\n",
       "        vertical-align: middle;\n",
       "    }\n",
       "\n",
       "    .dataframe tbody tr th {\n",
       "        vertical-align: top;\n",
       "    }\n",
       "\n",
       "    .dataframe thead th {\n",
       "        text-align: right;\n",
       "    }\n",
       "</style>\n",
       "<table border=\"1\" class=\"dataframe\">\n",
       "  <thead>\n",
       "    <tr style=\"text-align: right;\">\n",
       "      <th></th>\n",
       "      <th>age</th>\n",
       "      <th>sex</th>\n",
       "      <th>bmi</th>\n",
       "      <th>children</th>\n",
       "      <th>smoker</th>\n",
       "      <th>region</th>\n",
       "      <th>charges</th>\n",
       "    </tr>\n",
       "  </thead>\n",
       "  <tbody>\n",
       "    <tr>\n",
       "      <th>0</th>\n",
       "      <td>19</td>\n",
       "      <td>female</td>\n",
       "      <td>27.900</td>\n",
       "      <td>0</td>\n",
       "      <td>yes</td>\n",
       "      <td>southwest</td>\n",
       "      <td>16884.92400</td>\n",
       "    </tr>\n",
       "    <tr>\n",
       "      <th>1</th>\n",
       "      <td>18</td>\n",
       "      <td>male</td>\n",
       "      <td>33.770</td>\n",
       "      <td>1</td>\n",
       "      <td>no</td>\n",
       "      <td>southeast</td>\n",
       "      <td>1725.55230</td>\n",
       "    </tr>\n",
       "    <tr>\n",
       "      <th>2</th>\n",
       "      <td>28</td>\n",
       "      <td>male</td>\n",
       "      <td>33.000</td>\n",
       "      <td>3</td>\n",
       "      <td>no</td>\n",
       "      <td>southeast</td>\n",
       "      <td>4449.46200</td>\n",
       "    </tr>\n",
       "    <tr>\n",
       "      <th>3</th>\n",
       "      <td>33</td>\n",
       "      <td>male</td>\n",
       "      <td>22.705</td>\n",
       "      <td>0</td>\n",
       "      <td>no</td>\n",
       "      <td>northwest</td>\n",
       "      <td>21984.47061</td>\n",
       "    </tr>\n",
       "    <tr>\n",
       "      <th>4</th>\n",
       "      <td>32</td>\n",
       "      <td>male</td>\n",
       "      <td>28.880</td>\n",
       "      <td>0</td>\n",
       "      <td>no</td>\n",
       "      <td>northwest</td>\n",
       "      <td>3866.85520</td>\n",
       "    </tr>\n",
       "  </tbody>\n",
       "</table>\n",
       "</div>"
      ],
      "text/plain": [
       "   age     sex     bmi  children smoker     region      charges\n",
       "0   19  female  27.900         0    yes  southwest  16884.92400\n",
       "1   18    male  33.770         1     no  southeast   1725.55230\n",
       "2   28    male  33.000         3     no  southeast   4449.46200\n",
       "3   33    male  22.705         0     no  northwest  21984.47061\n",
       "4   32    male  28.880         0     no  northwest   3866.85520"
      ]
     },
     "execution_count": 121,
     "metadata": {},
     "output_type": "execute_result"
    }
   ],
   "source": [
    "import pandas as pd\n",
    "import matplotlib.pyplot as plt\n",
    "import seaborn as sns\n",
    "import warnings\n",
    "warnings.filterwarnings('ignore')\n",
    "\n",
    "#Load the dataset\n",
    "insurance_df=pd.read_csv(r\"C:\\Users\\827180\\AppData\\Local\\Programs\\Python\\Python311\\Scripts\\Data Science & ML Training Docs\\insurance.csv\")\n",
    "insurance_df.head()"
   ]
  },
  {
   "cell_type": "code",
   "execution_count": 122,
   "id": "ee2929a7-fe20-4b06-ad7d-0baa64b62588",
   "metadata": {},
   "outputs": [
    {
     "data": {
      "text/plain": [
       "(1338, 7)"
      ]
     },
     "execution_count": 122,
     "metadata": {},
     "output_type": "execute_result"
    }
   ],
   "source": [
    "insurance_df.shape"
   ]
  },
  {
   "cell_type": "code",
   "execution_count": 123,
   "id": "c19f2447-7a30-483e-9815-5e6dcd8e36fd",
   "metadata": {},
   "outputs": [
    {
     "data": {
      "text/plain": [
       "age         0\n",
       "sex         0\n",
       "bmi         0\n",
       "children    0\n",
       "smoker      0\n",
       "region      0\n",
       "charges     0\n",
       "dtype: int64"
      ]
     },
     "execution_count": 123,
     "metadata": {},
     "output_type": "execute_result"
    }
   ],
   "source": [
    "insurance_df.isnull().sum()"
   ]
  },
  {
   "cell_type": "code",
   "execution_count": 124,
   "id": "0dd5a7a6-5af8-4ceb-b726-4c355ee6e613",
   "metadata": {},
   "outputs": [
    {
     "data": {
      "text/plain": [
       "age           int64\n",
       "sex          object\n",
       "bmi         float64\n",
       "children      int64\n",
       "smoker       object\n",
       "region       object\n",
       "charges     float64\n",
       "dtype: object"
      ]
     },
     "execution_count": 124,
     "metadata": {},
     "output_type": "execute_result"
    }
   ],
   "source": [
    "insurance_df.dtypes"
   ]
  },
  {
   "cell_type": "code",
   "execution_count": 125,
   "id": "0c697d80-dc94-41f4-a2b9-a93386ba1103",
   "metadata": {},
   "outputs": [
    {
     "name": "stdout",
     "output_type": "stream",
     "text": [
      "      age     bmi  children      charges  sex_female  sex_male  smoker_no  \\\n",
      "0      19  27.900         0  16884.92400        True     False      False   \n",
      "1      18  33.770         1   1725.55230       False      True       True   \n",
      "2      28  33.000         3   4449.46200       False      True       True   \n",
      "3      33  22.705         0  21984.47061       False      True       True   \n",
      "4      32  28.880         0   3866.85520       False      True       True   \n",
      "...   ...     ...       ...          ...         ...       ...        ...   \n",
      "1333   50  30.970         3  10600.54830       False      True       True   \n",
      "1334   18  31.920         0   2205.98080        True     False       True   \n",
      "1335   18  36.850         0   1629.83350        True     False       True   \n",
      "1336   21  25.800         0   2007.94500        True     False       True   \n",
      "1337   61  29.070         0  29141.36030        True     False      False   \n",
      "\n",
      "      smoker_yes  region_northeast  region_northwest  region_southeast  \\\n",
      "0           True             False             False             False   \n",
      "1          False             False             False              True   \n",
      "2          False             False             False              True   \n",
      "3          False             False              True             False   \n",
      "4          False             False              True             False   \n",
      "...          ...               ...               ...               ...   \n",
      "1333       False             False              True             False   \n",
      "1334       False              True             False             False   \n",
      "1335       False             False             False              True   \n",
      "1336       False             False             False             False   \n",
      "1337        True             False              True             False   \n",
      "\n",
      "      region_southwest  \n",
      "0                 True  \n",
      "1                False  \n",
      "2                False  \n",
      "3                False  \n",
      "4                False  \n",
      "...                ...  \n",
      "1333             False  \n",
      "1334             False  \n",
      "1335             False  \n",
      "1336              True  \n",
      "1337             False  \n",
      "\n",
      "[1338 rows x 12 columns]\n"
     ]
    }
   ],
   "source": [
    "#Convert categorical features to numerical values (Use One-Hot Encoding)\n",
    "\n",
    "insurance_df_ohe = pd.get_dummies(insurance_df, columns = ['sex', 'smoker', 'region']) \n",
    "print(insurance_df_ohe)\n"
   ]
  },
  {
   "cell_type": "code",
   "execution_count": 126,
   "id": "cd09766a-6f96-41be-ba2e-90044b2a3269",
   "metadata": {},
   "outputs": [],
   "source": [
    "#Split the dataset for training and testing\n",
    "\n",
    "x = insurance_df_ohe.drop(\"charges\",axis=1)\n",
    "y = insurance_df_ohe[\"charges\"]\n",
    "\n",
    "from sklearn.model_selection import train_test_split\n",
    "\n",
    "x_train,x_test,y_train,y_test = train_test_split(x,y,test_size=0.2,random_state=21)"
   ]
  },
  {
   "cell_type": "code",
   "execution_count": 127,
   "id": "d9fb9ced-589f-457e-b1c4-22bef3a38e47",
   "metadata": {},
   "outputs": [
    {
     "data": {
      "text/html": [
       "<style>#sk-container-id-7 {color: black;}#sk-container-id-7 pre{padding: 0;}#sk-container-id-7 div.sk-toggleable {background-color: white;}#sk-container-id-7 label.sk-toggleable__label {cursor: pointer;display: block;width: 100%;margin-bottom: 0;padding: 0.3em;box-sizing: border-box;text-align: center;}#sk-container-id-7 label.sk-toggleable__label-arrow:before {content: \"▸\";float: left;margin-right: 0.25em;color: #696969;}#sk-container-id-7 label.sk-toggleable__label-arrow:hover:before {color: black;}#sk-container-id-7 div.sk-estimator:hover label.sk-toggleable__label-arrow:before {color: black;}#sk-container-id-7 div.sk-toggleable__content {max-height: 0;max-width: 0;overflow: hidden;text-align: left;background-color: #f0f8ff;}#sk-container-id-7 div.sk-toggleable__content pre {margin: 0.2em;color: black;border-radius: 0.25em;background-color: #f0f8ff;}#sk-container-id-7 input.sk-toggleable__control:checked~div.sk-toggleable__content {max-height: 200px;max-width: 100%;overflow: auto;}#sk-container-id-7 input.sk-toggleable__control:checked~label.sk-toggleable__label-arrow:before {content: \"▾\";}#sk-container-id-7 div.sk-estimator input.sk-toggleable__control:checked~label.sk-toggleable__label {background-color: #d4ebff;}#sk-container-id-7 div.sk-label input.sk-toggleable__control:checked~label.sk-toggleable__label {background-color: #d4ebff;}#sk-container-id-7 input.sk-hidden--visually {border: 0;clip: rect(1px 1px 1px 1px);clip: rect(1px, 1px, 1px, 1px);height: 1px;margin: -1px;overflow: hidden;padding: 0;position: absolute;width: 1px;}#sk-container-id-7 div.sk-estimator {font-family: monospace;background-color: #f0f8ff;border: 1px dotted black;border-radius: 0.25em;box-sizing: border-box;margin-bottom: 0.5em;}#sk-container-id-7 div.sk-estimator:hover {background-color: #d4ebff;}#sk-container-id-7 div.sk-parallel-item::after {content: \"\";width: 100%;border-bottom: 1px solid gray;flex-grow: 1;}#sk-container-id-7 div.sk-label:hover label.sk-toggleable__label {background-color: #d4ebff;}#sk-container-id-7 div.sk-serial::before {content: \"\";position: absolute;border-left: 1px solid gray;box-sizing: border-box;top: 0;bottom: 0;left: 50%;z-index: 0;}#sk-container-id-7 div.sk-serial {display: flex;flex-direction: column;align-items: center;background-color: white;padding-right: 0.2em;padding-left: 0.2em;position: relative;}#sk-container-id-7 div.sk-item {position: relative;z-index: 1;}#sk-container-id-7 div.sk-parallel {display: flex;align-items: stretch;justify-content: center;background-color: white;position: relative;}#sk-container-id-7 div.sk-item::before, #sk-container-id-7 div.sk-parallel-item::before {content: \"\";position: absolute;border-left: 1px solid gray;box-sizing: border-box;top: 0;bottom: 0;left: 50%;z-index: -1;}#sk-container-id-7 div.sk-parallel-item {display: flex;flex-direction: column;z-index: 1;position: relative;background-color: white;}#sk-container-id-7 div.sk-parallel-item:first-child::after {align-self: flex-end;width: 50%;}#sk-container-id-7 div.sk-parallel-item:last-child::after {align-self: flex-start;width: 50%;}#sk-container-id-7 div.sk-parallel-item:only-child::after {width: 0;}#sk-container-id-7 div.sk-dashed-wrapped {border: 1px dashed gray;margin: 0 0.4em 0.5em 0.4em;box-sizing: border-box;padding-bottom: 0.4em;background-color: white;}#sk-container-id-7 div.sk-label label {font-family: monospace;font-weight: bold;display: inline-block;line-height: 1.2em;}#sk-container-id-7 div.sk-label-container {text-align: center;}#sk-container-id-7 div.sk-container {/* jupyter's `normalize.less` sets `[hidden] { display: none; }` but bootstrap.min.css set `[hidden] { display: none !important; }` so we also need the `!important` here to be able to override the default hidden behavior on the sphinx rendered scikit-learn.org. See: https://github.com/scikit-learn/scikit-learn/issues/21755 */display: inline-block !important;position: relative;}#sk-container-id-7 div.sk-text-repr-fallback {display: none;}</style><div id=\"sk-container-id-7\" class=\"sk-top-container\"><div class=\"sk-text-repr-fallback\"><pre>LinearRegression()</pre><b>In a Jupyter environment, please rerun this cell to show the HTML representation or trust the notebook. <br />On GitHub, the HTML representation is unable to render, please try loading this page with nbviewer.org.</b></div><div class=\"sk-container\" hidden><div class=\"sk-item\"><div class=\"sk-estimator sk-toggleable\"><input class=\"sk-toggleable__control sk-hidden--visually\" id=\"sk-estimator-id-7\" type=\"checkbox\" checked><label for=\"sk-estimator-id-7\" class=\"sk-toggleable__label sk-toggleable__label-arrow\">LinearRegression</label><div class=\"sk-toggleable__content\"><pre>LinearRegression()</pre></div></div></div></div></div>"
      ],
      "text/plain": [
       "LinearRegression()"
      ]
     },
     "execution_count": 127,
     "metadata": {},
     "output_type": "execute_result"
    }
   ],
   "source": [
    "#Train the model using sklearn –Linear Regression\n",
    "\n",
    "from sklearn.linear_model import LinearRegression\n",
    "\n",
    "model_linreg = LinearRegression()\n",
    "model_linreg.fit(x_train,y_train)"
   ]
  },
  {
   "cell_type": "code",
   "execution_count": 128,
   "id": "b983ffa1-0280-498e-8a6b-7374af2744a9",
   "metadata": {},
   "outputs": [
    {
     "name": "stdout",
     "output_type": "stream",
     "text": [
      "The intercept(alpha value) for this Linear Regression Model on the insurance dataset is:  -646.9828984909363\n",
      "The regression co-efficients(beta values) for this Linear Regression Model on the insurance dataset are:\n",
      "===============================================================\n",
      "[   258.88534208    337.48080714    481.1448713     100.59917336\n",
      "   -100.59917336 -12017.81688871  12017.81688871    791.71450198\n",
      "     84.67512434   -556.04639168   -320.34323464]\n"
     ]
    }
   ],
   "source": [
    "#Find the intercept and coefficient from the trained model\n",
    "\n",
    "print(\"The intercept(alpha value) for this Linear Regression Model on the insurance dataset is: \",model_linreg.intercept_)\n",
    "print(\"The regression co-efficients(beta values) for this Linear Regression Model on the insurance dataset are:\")\n",
    "print(\"===============================================================\")\n",
    "print(model_linreg.coef_)"
   ]
  },
  {
   "cell_type": "code",
   "execution_count": 129,
   "id": "0d97cc34-1df0-4e1a-b603-04f87941df45",
   "metadata": {},
   "outputs": [
    {
     "name": "stdout",
     "output_type": "stream",
     "text": [
      "[ 5.56085088e+03  5.65722624e+03  9.51235679e+03  3.13208661e+04\n",
      "  1.06783690e+04  1.07866450e+04  3.44391939e+04  1.26042001e+04\n",
      "  3.39785708e+04  3.82269189e+04  2.33932449e+04  2.77374487e+04\n",
      "  1.11857727e+04  3.34117483e+03  1.12852632e+04  1.03344042e+04\n",
      "  2.87999369e+04  3.69855919e+04  1.23354881e+04  3.60141068e+03\n",
      "  7.73317861e+03  5.94151188e+03  2.99028999e+04  8.24108648e+03\n",
      "  9.81202694e+03  7.89749955e+03  3.19290874e+04  3.54734929e+04\n",
      "  1.27095902e+04  1.13602808e+03  1.51526360e+04  1.20387159e+04\n",
      "  4.98702023e+03  1.23487226e+04  5.43056535e+03  1.08315448e+04\n",
      "  4.34991112e+03  2.85229535e+04  4.03744851e+03  8.22941031e+03\n",
      "  1.26143801e+04  3.30856957e+03  3.93575572e+04  3.39795024e+04\n",
      "  1.00997441e+04  3.07791485e+04  1.31297091e+04  3.23187815e+04\n",
      "  1.16281573e+04  3.92689557e+04  7.00652069e+03  3.83577524e+03\n",
      "  3.46321149e+03  1.48183338e+04  1.20541151e+04  1.37409857e+04\n",
      "  3.82482530e+04  7.80300303e+03  1.25332602e+04  8.93827782e+03\n",
      "  1.10599299e+04  3.05068455e+03  1.24466779e+04  1.11091210e+04\n",
      "  3.22011387e+04  9.66901743e+03  3.00749949e+04  3.34500326e+04\n",
      "  6.90910379e+03  6.49750684e+03  1.38283823e+04  1.43653445e+04\n",
      "  1.35809200e+01  6.48117696e+03  3.71586812e+04  6.25109076e+03\n",
      "  3.36388398e+03  2.53408245e+04  3.92451908e+04  8.07568851e+03\n",
      "  1.60310393e+04  2.69843200e+04  1.57953371e+03  2.79630172e+04\n",
      "  1.09258959e+04  1.09973743e+04  3.05478007e+03  2.82328670e+04\n",
      "  1.60389235e+04  1.29160578e+04  1.80970262e+04  5.39205283e+03\n",
      "  1.10899216e+04 -1.31461287e+02  1.06532134e+04  8.74979688e+03\n",
      "  3.49985475e+04  8.19819976e+03  3.72828394e+03  1.22415614e+03\n",
      "  9.81546793e+03  8.05216434e+03  2.24753313e+03  3.71039317e+03\n",
      "  1.29523908e+04  3.04998021e+03  1.36435944e+04  2.59704554e+04\n",
      "  1.07791631e+04  3.17613495e+04  8.06258381e+03  7.45646649e+03\n",
      "  1.38800433e+04  8.99095112e+03  1.41759931e+04  1.12973894e+04\n",
      "  9.39163729e+03  3.89172886e+04  2.83972905e+03  9.42477455e+03\n",
      "  6.29705106e+03  3.43695100e+03  1.89867910e+03  3.10346500e+04\n",
      "  8.79578768e+03  1.02541788e+04  1.08487673e+04  4.18934251e+03\n",
      "  8.47271175e+03 -1.95856398e+03  6.31037905e+03  8.03063952e+03\n",
      "  2.99988052e+04  1.46002385e+04 -1.92755462e+03  6.88604339e+03\n",
      "  1.30280700e+04  1.19989247e+04  6.73680077e+03  4.98778566e+03\n",
      "  3.03866320e+04  6.66485274e+03  1.68997784e+04  7.73284677e+03\n",
      "  1.29382595e+04  1.35890973e+04  1.69084396e+04  1.61398551e+04\n",
      "  1.13110848e+04  1.26023387e+04  1.46229429e+04  1.17424364e+04\n",
      "  1.08797805e+04  5.60367759e+03  3.79346418e+04  1.11986339e+04\n",
      "  8.67847574e+03  6.89843520e+03  1.29417413e+04  1.15291713e+04\n",
      "  1.17798190e+04  8.47074272e+03  2.70645528e+04  1.29778100e+04\n",
      "  1.35534629e+04  1.50123135e+04  3.88466716e+04  3.62712770e+03\n",
      "  3.55695506e+04  1.15576198e+04  7.47032398e+03  9.07778204e+03\n",
      "  6.02210089e+03  1.54400828e+04  2.75938624e+04  5.64346225e+03\n",
      "  1.55499988e+04  1.49137155e+04  1.17305666e+04  1.12764594e+04\n",
      "  1.19177494e+04  1.43201704e+03  3.35174877e+04  1.00323509e+04\n",
      "  6.35060839e+03  6.81515553e+03  1.32471945e+04  5.12433052e+03\n",
      "  3.40634303e+04  1.73212318e+04  1.20578453e+04  1.10492700e+04\n",
      "  1.48102752e+04  1.38160792e+04  1.25583558e+04  8.04020291e+03\n",
      "  1.19985513e+04  4.25385366e+03  3.52499418e+03  7.74771597e+03\n",
      "  3.77562237e+04  1.19135212e+04  2.78151439e+04  1.89796978e+03\n",
      "  1.01171729e+03  4.43005908e+03  1.77566175e+04  1.16363267e+04\n",
      "  5.77298125e+03  1.17740991e+04  1.39063651e+04  3.88744867e+03\n",
      "  3.39594413e+04  1.62723597e+04  1.28154207e+04  4.72503935e+03\n",
      "  3.32370717e+04  8.23466084e+03  8.69923192e+03  1.38277369e+04\n",
      "  1.13995288e+04  5.44469657e+03  2.74301515e+04  1.12474329e+04\n",
      "  9.83529475e+03 -6.80353719e+01  1.23415971e+04  1.23753567e+04\n",
      "  2.67542499e+04 -3.10311901e+02  3.72015051e+04  9.45054685e+03\n",
      "  2.67460603e+03  3.13739621e+03  2.87407972e+04  1.54850433e+04\n",
      "  2.38321224e+03  2.66061036e+04  1.85247429e+04  2.65774380e+04\n",
      "  1.78747298e+03  3.33040072e+04  1.16473146e+04  1.01852631e+04\n",
      "  5.12666645e+03  3.14384128e+04  4.96159324e+03  4.57580545e+03\n",
      "  8.68564468e+03  8.08721871e+03  1.37213670e+04  3.81325816e+03\n",
      "  1.12125829e+04  1.46566993e+04  8.98111669e+03  7.04927690e+03\n",
      "  2.90168442e+04  3.22030079e+04  8.71112462e+03  3.31259599e+04\n",
      "  8.82885891e+03  2.97463188e+04  1.29895137e+04  1.15910010e+04\n",
      "  5.92868333e+03  3.19221591e+04  2.98305122e+04  6.64974883e+03]\n"
     ]
    }
   ],
   "source": [
    "#Predict the prices of test data\n",
    "\n",
    "#Test the model with the test dataset\n",
    "y_test_pred=model_linreg.predict(x_test) \n",
    "print(y_test_pred)"
   ]
  },
  {
   "cell_type": "code",
   "execution_count": 131,
   "id": "9b3094c4-80ed-4b4e-84bc-72a9ac054653",
   "metadata": {},
   "outputs": [
    {
     "name": "stdout",
     "output_type": "stream",
     "text": [
      "The RMSE value of the MLR model on the test dataset is: \n",
      "6084.908179066211\n",
      "The R2 score of the MLR model on the test dataset is:\n",
      "0.7333045867702144\n"
     ]
    }
   ],
   "source": [
    "#Evaluate the model using calculated r2 score and root mean squared error\n",
    "\n",
    "from sklearn.metrics import mean_squared_error\n",
    "import numpy as np\n",
    "\n",
    "print(\"The RMSE value of the MLR model on the test dataset is: \")\n",
    "print(np.sqrt(mean_squared_error(y_test, y_test_pred)))\n",
    "\n",
    "print(\"The R2 score of the MLR model on the test dataset is:\")\n",
    "print(model_linreg.score(x_test,y_test))"
   ]
  },
  {
   "cell_type": "code",
   "execution_count": null,
   "id": "00d65525-5f10-4a92-850d-133bdd3ddbcf",
   "metadata": {},
   "outputs": [],
   "source": []
  },
  {
   "cell_type": "markdown",
   "id": "ece6f01e-d3d5-48ee-95c8-5bfe19791e8b",
   "metadata": {},
   "source": [
    "Problem Statement 4: You are provided with the '50_Startups' data. Using the given features, you must predict the profit of these startups.\n",
    "\n",
    "Dataset Description:\n",
    "I.R&D Spend: Expenditures in Research and Development\n",
    "II.Administration: Expenditures in Administration\n",
    "III.Marketing Spend: Expenditures in Marketing\n",
    "IV.State: In which state the company belongs to\n",
    "V.Profit: The profit made by the company\n",
    "\n",
    "Write a Python code to perform the following tasks mentioned:\n",
    "1. Load the data, check its shape and check for null values\n",
    "2. Convert categorical features to numerical values using Label Encoder\n",
    "3. Split the dataset for training and testing\n",
    "4. Train the model using sklearn(linear regression), also find the intercept and coefficient from the trained model\n",
    "5. Predict the profits of test data and evaluate the model using r2 score and mean squared error\n",
    "6. Regularize the model using Ridge Regression and find the Score\n",
    "7. Regularize the model using LassoRegression and find the Score"
   ]
  },
  {
   "cell_type": "code",
   "execution_count": 133,
   "id": "9c686cde-f01b-48da-9ee7-9d19b9136d27",
   "metadata": {},
   "outputs": [
    {
     "data": {
      "text/html": [
       "<div>\n",
       "<style scoped>\n",
       "    .dataframe tbody tr th:only-of-type {\n",
       "        vertical-align: middle;\n",
       "    }\n",
       "\n",
       "    .dataframe tbody tr th {\n",
       "        vertical-align: top;\n",
       "    }\n",
       "\n",
       "    .dataframe thead th {\n",
       "        text-align: right;\n",
       "    }\n",
       "</style>\n",
       "<table border=\"1\" class=\"dataframe\">\n",
       "  <thead>\n",
       "    <tr style=\"text-align: right;\">\n",
       "      <th></th>\n",
       "      <th>R&amp;D Spend</th>\n",
       "      <th>Administration</th>\n",
       "      <th>Marketing Spend</th>\n",
       "      <th>State</th>\n",
       "      <th>Profit</th>\n",
       "    </tr>\n",
       "  </thead>\n",
       "  <tbody>\n",
       "    <tr>\n",
       "      <th>0</th>\n",
       "      <td>165349.20</td>\n",
       "      <td>136897.80</td>\n",
       "      <td>471784.10</td>\n",
       "      <td>New York</td>\n",
       "      <td>192261.83</td>\n",
       "    </tr>\n",
       "    <tr>\n",
       "      <th>1</th>\n",
       "      <td>162597.70</td>\n",
       "      <td>151377.59</td>\n",
       "      <td>443898.53</td>\n",
       "      <td>California</td>\n",
       "      <td>191792.06</td>\n",
       "    </tr>\n",
       "    <tr>\n",
       "      <th>2</th>\n",
       "      <td>153441.51</td>\n",
       "      <td>101145.55</td>\n",
       "      <td>407934.54</td>\n",
       "      <td>Florida</td>\n",
       "      <td>191050.39</td>\n",
       "    </tr>\n",
       "    <tr>\n",
       "      <th>3</th>\n",
       "      <td>144372.41</td>\n",
       "      <td>118671.85</td>\n",
       "      <td>383199.62</td>\n",
       "      <td>New York</td>\n",
       "      <td>182901.99</td>\n",
       "    </tr>\n",
       "    <tr>\n",
       "      <th>4</th>\n",
       "      <td>142107.34</td>\n",
       "      <td>91391.77</td>\n",
       "      <td>366168.42</td>\n",
       "      <td>Florida</td>\n",
       "      <td>166187.94</td>\n",
       "    </tr>\n",
       "  </tbody>\n",
       "</table>\n",
       "</div>"
      ],
      "text/plain": [
       "   R&D Spend  Administration  Marketing Spend       State     Profit\n",
       "0  165349.20       136897.80        471784.10    New York  192261.83\n",
       "1  162597.70       151377.59        443898.53  California  191792.06\n",
       "2  153441.51       101145.55        407934.54     Florida  191050.39\n",
       "3  144372.41       118671.85        383199.62    New York  182901.99\n",
       "4  142107.34        91391.77        366168.42     Florida  166187.94"
      ]
     },
     "execution_count": 133,
     "metadata": {},
     "output_type": "execute_result"
    }
   ],
   "source": [
    "import pandas as pd\n",
    "import matplotlib.pyplot as plt\n",
    "import seaborn as sns\n",
    "import warnings\n",
    "warnings.filterwarnings('ignore')\n",
    "\n",
    "#Load the dataset\n",
    "profit_df=pd.read_csv(r\"C:\\Users\\827180\\AppData\\Local\\Programs\\Python\\Python311\\Scripts\\Data Science & ML Training Docs\\50_Startups.csv\")\n",
    "profit_df.head()"
   ]
  },
  {
   "cell_type": "code",
   "execution_count": 134,
   "id": "e95f22e8-3d62-4066-8a60-d0910946c166",
   "metadata": {},
   "outputs": [
    {
     "data": {
      "text/plain": [
       "(50, 5)"
      ]
     },
     "execution_count": 134,
     "metadata": {},
     "output_type": "execute_result"
    }
   ],
   "source": [
    "profit_df.shape"
   ]
  },
  {
   "cell_type": "code",
   "execution_count": 135,
   "id": "b1cc5ce5-dfad-46f7-beef-2b5b5f4a8b0e",
   "metadata": {},
   "outputs": [
    {
     "data": {
      "text/plain": [
       "R&D Spend          0\n",
       "Administration     0\n",
       "Marketing Spend    0\n",
       "State              0\n",
       "Profit             0\n",
       "dtype: int64"
      ]
     },
     "execution_count": 135,
     "metadata": {},
     "output_type": "execute_result"
    }
   ],
   "source": [
    "profit_df.isnull().sum()"
   ]
  },
  {
   "cell_type": "code",
   "execution_count": 136,
   "id": "e0b72f69-e75d-465f-9b56-abf48dbe5844",
   "metadata": {},
   "outputs": [
    {
     "data": {
      "text/plain": [
       "R&D Spend          float64\n",
       "Administration     float64\n",
       "Marketing Spend    float64\n",
       "State               object\n",
       "Profit             float64\n",
       "dtype: object"
      ]
     },
     "execution_count": 136,
     "metadata": {},
     "output_type": "execute_result"
    }
   ],
   "source": [
    "profit_df.dtypes"
   ]
  },
  {
   "cell_type": "code",
   "execution_count": 138,
   "id": "f1736242-e886-4519-a0db-fbe990f0d6c6",
   "metadata": {},
   "outputs": [
    {
     "data": {
      "text/plain": [
       "array(['New York', 'California', 'Florida'], dtype=object)"
      ]
     },
     "execution_count": 138,
     "metadata": {},
     "output_type": "execute_result"
    }
   ],
   "source": [
    "#Check the unique values of the categorical feature\n",
    "\n",
    "profit_df['State'].unique()"
   ]
  },
  {
   "cell_type": "code",
   "execution_count": 139,
   "id": "381961bc-a1b5-4434-a716-638446c9caec",
   "metadata": {},
   "outputs": [
    {
     "data": {
      "text/plain": [
       "array([2, 0, 1])"
      ]
     },
     "execution_count": 139,
     "metadata": {},
     "output_type": "execute_result"
    }
   ],
   "source": [
    "#Convert categorical feature to numerical values using Label Encoder\n",
    "\n",
    "from sklearn.preprocessing import LabelEncoder\n",
    "\n",
    "label_encoder = LabelEncoder() \n",
    "  \n",
    "# Encode labels in column 'State'\n",
    "profit_df['State']= label_encoder.fit_transform(profit_df['State']) \n",
    "profit_df['State'].unique()"
   ]
  },
  {
   "cell_type": "code",
   "execution_count": 141,
   "id": "5386299d-889e-4226-a4b7-cc2d3ad549b5",
   "metadata": {},
   "outputs": [
    {
     "data": {
      "text/html": [
       "<div>\n",
       "<style scoped>\n",
       "    .dataframe tbody tr th:only-of-type {\n",
       "        vertical-align: middle;\n",
       "    }\n",
       "\n",
       "    .dataframe tbody tr th {\n",
       "        vertical-align: top;\n",
       "    }\n",
       "\n",
       "    .dataframe thead th {\n",
       "        text-align: right;\n",
       "    }\n",
       "</style>\n",
       "<table border=\"1\" class=\"dataframe\">\n",
       "  <thead>\n",
       "    <tr style=\"text-align: right;\">\n",
       "      <th></th>\n",
       "      <th>R&amp;D Spend</th>\n",
       "      <th>Administration</th>\n",
       "      <th>Marketing Spend</th>\n",
       "      <th>State</th>\n",
       "      <th>Profit</th>\n",
       "    </tr>\n",
       "  </thead>\n",
       "  <tbody>\n",
       "    <tr>\n",
       "      <th>0</th>\n",
       "      <td>165349.20</td>\n",
       "      <td>136897.80</td>\n",
       "      <td>471784.10</td>\n",
       "      <td>2</td>\n",
       "      <td>192261.83</td>\n",
       "    </tr>\n",
       "    <tr>\n",
       "      <th>1</th>\n",
       "      <td>162597.70</td>\n",
       "      <td>151377.59</td>\n",
       "      <td>443898.53</td>\n",
       "      <td>0</td>\n",
       "      <td>191792.06</td>\n",
       "    </tr>\n",
       "    <tr>\n",
       "      <th>2</th>\n",
       "      <td>153441.51</td>\n",
       "      <td>101145.55</td>\n",
       "      <td>407934.54</td>\n",
       "      <td>1</td>\n",
       "      <td>191050.39</td>\n",
       "    </tr>\n",
       "    <tr>\n",
       "      <th>3</th>\n",
       "      <td>144372.41</td>\n",
       "      <td>118671.85</td>\n",
       "      <td>383199.62</td>\n",
       "      <td>2</td>\n",
       "      <td>182901.99</td>\n",
       "    </tr>\n",
       "    <tr>\n",
       "      <th>4</th>\n",
       "      <td>142107.34</td>\n",
       "      <td>91391.77</td>\n",
       "      <td>366168.42</td>\n",
       "      <td>1</td>\n",
       "      <td>166187.94</td>\n",
       "    </tr>\n",
       "  </tbody>\n",
       "</table>\n",
       "</div>"
      ],
      "text/plain": [
       "   R&D Spend  Administration  Marketing Spend  State     Profit\n",
       "0  165349.20       136897.80        471784.10      2  192261.83\n",
       "1  162597.70       151377.59        443898.53      0  191792.06\n",
       "2  153441.51       101145.55        407934.54      1  191050.39\n",
       "3  144372.41       118671.85        383199.62      2  182901.99\n",
       "4  142107.34        91391.77        366168.42      1  166187.94"
      ]
     },
     "execution_count": 141,
     "metadata": {},
     "output_type": "execute_result"
    }
   ],
   "source": [
    "profit_df.head()"
   ]
  },
  {
   "cell_type": "code",
   "execution_count": 148,
   "id": "fb79a784-94b9-4abf-8726-60181b08ca13",
   "metadata": {},
   "outputs": [],
   "source": [
    "def outlier_removal(profit_df):\n",
    "    # Create a copy of the original DataFrame to avoid modifying the original data\n",
    "    profit_df_copy = profit_df.copy()\n",
    "\n",
    "    # Define the features(including target variable)\n",
    "    features = ['R&D Spend','Administration','Marketing Spend','State','Profit']\n",
    "\n",
    "    # Initialize an empty dictionary to store the lower and upper bounds for each variable\n",
    "    bounds = {}\n",
    "\n",
    "    # Calculate lower and upper bounds for each variable\n",
    "    for variable in features:\n",
    "        sorted(profit_df_copy[variable])\n",
    "        Q1,Q3 = np.percentile(profit_df_copy[variable],[25,75]) \n",
    "        IQR = Q3-Q1\n",
    "\n",
    "        # Calculate bounds\n",
    "        lower_bound = Q1-(1.5*IQR)\n",
    "        upper_bound = Q3+(1.5*IQR)\n",
    "\n",
    "        # Store bounds in the dictionary\n",
    "        bounds[variable] = {'lower_bound':lower_bound, 'upper_bound': upper_bound}\n",
    "\n",
    "    for variable in features:\n",
    "        profit_df_copy = profit_df_copy[(profit_df_copy[variable] >= bounds[variable]['lower_bound']) & (profit_df_copy[variable] <= bounds[variable]['upper_bound'])]\n",
    "        \n",
    "        return profit_df_copy"
   ]
  },
  {
   "cell_type": "code",
   "execution_count": 149,
   "id": "d71842e8-b38f-4300-8c88-6873c8deac0a",
   "metadata": {},
   "outputs": [
    {
     "data": {
      "text/html": [
       "<div>\n",
       "<style scoped>\n",
       "    .dataframe tbody tr th:only-of-type {\n",
       "        vertical-align: middle;\n",
       "    }\n",
       "\n",
       "    .dataframe tbody tr th {\n",
       "        vertical-align: top;\n",
       "    }\n",
       "\n",
       "    .dataframe thead th {\n",
       "        text-align: right;\n",
       "    }\n",
       "</style>\n",
       "<table border=\"1\" class=\"dataframe\">\n",
       "  <thead>\n",
       "    <tr style=\"text-align: right;\">\n",
       "      <th></th>\n",
       "      <th>R&amp;D Spend</th>\n",
       "      <th>Administration</th>\n",
       "      <th>Marketing Spend</th>\n",
       "      <th>State</th>\n",
       "      <th>Profit</th>\n",
       "    </tr>\n",
       "  </thead>\n",
       "  <tbody>\n",
       "    <tr>\n",
       "      <th>0</th>\n",
       "      <td>165349.20</td>\n",
       "      <td>136897.80</td>\n",
       "      <td>471784.10</td>\n",
       "      <td>2</td>\n",
       "      <td>192261.83</td>\n",
       "    </tr>\n",
       "    <tr>\n",
       "      <th>1</th>\n",
       "      <td>162597.70</td>\n",
       "      <td>151377.59</td>\n",
       "      <td>443898.53</td>\n",
       "      <td>0</td>\n",
       "      <td>191792.06</td>\n",
       "    </tr>\n",
       "    <tr>\n",
       "      <th>2</th>\n",
       "      <td>153441.51</td>\n",
       "      <td>101145.55</td>\n",
       "      <td>407934.54</td>\n",
       "      <td>1</td>\n",
       "      <td>191050.39</td>\n",
       "    </tr>\n",
       "    <tr>\n",
       "      <th>3</th>\n",
       "      <td>144372.41</td>\n",
       "      <td>118671.85</td>\n",
       "      <td>383199.62</td>\n",
       "      <td>2</td>\n",
       "      <td>182901.99</td>\n",
       "    </tr>\n",
       "    <tr>\n",
       "      <th>4</th>\n",
       "      <td>142107.34</td>\n",
       "      <td>91391.77</td>\n",
       "      <td>366168.42</td>\n",
       "      <td>1</td>\n",
       "      <td>166187.94</td>\n",
       "    </tr>\n",
       "    <tr>\n",
       "      <th>5</th>\n",
       "      <td>131876.90</td>\n",
       "      <td>99814.71</td>\n",
       "      <td>362861.36</td>\n",
       "      <td>2</td>\n",
       "      <td>156991.12</td>\n",
       "    </tr>\n",
       "    <tr>\n",
       "      <th>6</th>\n",
       "      <td>134615.46</td>\n",
       "      <td>147198.87</td>\n",
       "      <td>127716.82</td>\n",
       "      <td>0</td>\n",
       "      <td>156122.51</td>\n",
       "    </tr>\n",
       "    <tr>\n",
       "      <th>7</th>\n",
       "      <td>130298.13</td>\n",
       "      <td>145530.06</td>\n",
       "      <td>323876.68</td>\n",
       "      <td>1</td>\n",
       "      <td>155752.60</td>\n",
       "    </tr>\n",
       "    <tr>\n",
       "      <th>8</th>\n",
       "      <td>120542.52</td>\n",
       "      <td>148718.95</td>\n",
       "      <td>311613.29</td>\n",
       "      <td>2</td>\n",
       "      <td>152211.77</td>\n",
       "    </tr>\n",
       "    <tr>\n",
       "      <th>9</th>\n",
       "      <td>123334.88</td>\n",
       "      <td>108679.17</td>\n",
       "      <td>304981.62</td>\n",
       "      <td>0</td>\n",
       "      <td>149759.96</td>\n",
       "    </tr>\n",
       "    <tr>\n",
       "      <th>10</th>\n",
       "      <td>101913.08</td>\n",
       "      <td>110594.11</td>\n",
       "      <td>229160.95</td>\n",
       "      <td>1</td>\n",
       "      <td>146121.95</td>\n",
       "    </tr>\n",
       "    <tr>\n",
       "      <th>11</th>\n",
       "      <td>100671.96</td>\n",
       "      <td>91790.61</td>\n",
       "      <td>249744.55</td>\n",
       "      <td>0</td>\n",
       "      <td>144259.40</td>\n",
       "    </tr>\n",
       "    <tr>\n",
       "      <th>12</th>\n",
       "      <td>93863.75</td>\n",
       "      <td>127320.38</td>\n",
       "      <td>249839.44</td>\n",
       "      <td>1</td>\n",
       "      <td>141585.52</td>\n",
       "    </tr>\n",
       "    <tr>\n",
       "      <th>13</th>\n",
       "      <td>91992.39</td>\n",
       "      <td>135495.07</td>\n",
       "      <td>252664.93</td>\n",
       "      <td>0</td>\n",
       "      <td>134307.35</td>\n",
       "    </tr>\n",
       "    <tr>\n",
       "      <th>14</th>\n",
       "      <td>119943.24</td>\n",
       "      <td>156547.42</td>\n",
       "      <td>256512.92</td>\n",
       "      <td>1</td>\n",
       "      <td>132602.65</td>\n",
       "    </tr>\n",
       "    <tr>\n",
       "      <th>15</th>\n",
       "      <td>114523.61</td>\n",
       "      <td>122616.84</td>\n",
       "      <td>261776.23</td>\n",
       "      <td>2</td>\n",
       "      <td>129917.04</td>\n",
       "    </tr>\n",
       "    <tr>\n",
       "      <th>16</th>\n",
       "      <td>78013.11</td>\n",
       "      <td>121597.55</td>\n",
       "      <td>264346.06</td>\n",
       "      <td>0</td>\n",
       "      <td>126992.93</td>\n",
       "    </tr>\n",
       "    <tr>\n",
       "      <th>17</th>\n",
       "      <td>94657.16</td>\n",
       "      <td>145077.58</td>\n",
       "      <td>282574.31</td>\n",
       "      <td>2</td>\n",
       "      <td>125370.37</td>\n",
       "    </tr>\n",
       "    <tr>\n",
       "      <th>18</th>\n",
       "      <td>91749.16</td>\n",
       "      <td>114175.79</td>\n",
       "      <td>294919.57</td>\n",
       "      <td>1</td>\n",
       "      <td>124266.90</td>\n",
       "    </tr>\n",
       "    <tr>\n",
       "      <th>19</th>\n",
       "      <td>86419.70</td>\n",
       "      <td>153514.11</td>\n",
       "      <td>0.00</td>\n",
       "      <td>2</td>\n",
       "      <td>122776.86</td>\n",
       "    </tr>\n",
       "    <tr>\n",
       "      <th>20</th>\n",
       "      <td>76253.86</td>\n",
       "      <td>113867.30</td>\n",
       "      <td>298664.47</td>\n",
       "      <td>0</td>\n",
       "      <td>118474.03</td>\n",
       "    </tr>\n",
       "    <tr>\n",
       "      <th>21</th>\n",
       "      <td>78389.47</td>\n",
       "      <td>153773.43</td>\n",
       "      <td>299737.29</td>\n",
       "      <td>2</td>\n",
       "      <td>111313.02</td>\n",
       "    </tr>\n",
       "    <tr>\n",
       "      <th>22</th>\n",
       "      <td>73994.56</td>\n",
       "      <td>122782.75</td>\n",
       "      <td>303319.26</td>\n",
       "      <td>1</td>\n",
       "      <td>110352.25</td>\n",
       "    </tr>\n",
       "    <tr>\n",
       "      <th>23</th>\n",
       "      <td>67532.53</td>\n",
       "      <td>105751.03</td>\n",
       "      <td>304768.73</td>\n",
       "      <td>1</td>\n",
       "      <td>108733.99</td>\n",
       "    </tr>\n",
       "    <tr>\n",
       "      <th>24</th>\n",
       "      <td>77044.01</td>\n",
       "      <td>99281.34</td>\n",
       "      <td>140574.81</td>\n",
       "      <td>2</td>\n",
       "      <td>108552.04</td>\n",
       "    </tr>\n",
       "    <tr>\n",
       "      <th>25</th>\n",
       "      <td>64664.71</td>\n",
       "      <td>139553.16</td>\n",
       "      <td>137962.62</td>\n",
       "      <td>0</td>\n",
       "      <td>107404.34</td>\n",
       "    </tr>\n",
       "    <tr>\n",
       "      <th>26</th>\n",
       "      <td>75328.87</td>\n",
       "      <td>144135.98</td>\n",
       "      <td>134050.07</td>\n",
       "      <td>1</td>\n",
       "      <td>105733.54</td>\n",
       "    </tr>\n",
       "    <tr>\n",
       "      <th>27</th>\n",
       "      <td>72107.60</td>\n",
       "      <td>127864.55</td>\n",
       "      <td>353183.81</td>\n",
       "      <td>2</td>\n",
       "      <td>105008.31</td>\n",
       "    </tr>\n",
       "    <tr>\n",
       "      <th>28</th>\n",
       "      <td>66051.52</td>\n",
       "      <td>182645.56</td>\n",
       "      <td>118148.20</td>\n",
       "      <td>1</td>\n",
       "      <td>103282.38</td>\n",
       "    </tr>\n",
       "    <tr>\n",
       "      <th>29</th>\n",
       "      <td>65605.48</td>\n",
       "      <td>153032.06</td>\n",
       "      <td>107138.38</td>\n",
       "      <td>2</td>\n",
       "      <td>101004.64</td>\n",
       "    </tr>\n",
       "    <tr>\n",
       "      <th>30</th>\n",
       "      <td>61994.48</td>\n",
       "      <td>115641.28</td>\n",
       "      <td>91131.24</td>\n",
       "      <td>1</td>\n",
       "      <td>99937.59</td>\n",
       "    </tr>\n",
       "    <tr>\n",
       "      <th>31</th>\n",
       "      <td>61136.38</td>\n",
       "      <td>152701.92</td>\n",
       "      <td>88218.23</td>\n",
       "      <td>2</td>\n",
       "      <td>97483.56</td>\n",
       "    </tr>\n",
       "    <tr>\n",
       "      <th>32</th>\n",
       "      <td>63408.86</td>\n",
       "      <td>129219.61</td>\n",
       "      <td>46085.25</td>\n",
       "      <td>0</td>\n",
       "      <td>97427.84</td>\n",
       "    </tr>\n",
       "    <tr>\n",
       "      <th>33</th>\n",
       "      <td>55493.95</td>\n",
       "      <td>103057.49</td>\n",
       "      <td>214634.81</td>\n",
       "      <td>1</td>\n",
       "      <td>96778.92</td>\n",
       "    </tr>\n",
       "    <tr>\n",
       "      <th>34</th>\n",
       "      <td>46426.07</td>\n",
       "      <td>157693.92</td>\n",
       "      <td>210797.67</td>\n",
       "      <td>0</td>\n",
       "      <td>96712.80</td>\n",
       "    </tr>\n",
       "    <tr>\n",
       "      <th>35</th>\n",
       "      <td>46014.02</td>\n",
       "      <td>85047.44</td>\n",
       "      <td>205517.64</td>\n",
       "      <td>2</td>\n",
       "      <td>96479.51</td>\n",
       "    </tr>\n",
       "    <tr>\n",
       "      <th>36</th>\n",
       "      <td>28663.76</td>\n",
       "      <td>127056.21</td>\n",
       "      <td>201126.82</td>\n",
       "      <td>1</td>\n",
       "      <td>90708.19</td>\n",
       "    </tr>\n",
       "    <tr>\n",
       "      <th>37</th>\n",
       "      <td>44069.95</td>\n",
       "      <td>51283.14</td>\n",
       "      <td>197029.42</td>\n",
       "      <td>0</td>\n",
       "      <td>89949.14</td>\n",
       "    </tr>\n",
       "    <tr>\n",
       "      <th>38</th>\n",
       "      <td>20229.59</td>\n",
       "      <td>65947.93</td>\n",
       "      <td>185265.10</td>\n",
       "      <td>2</td>\n",
       "      <td>81229.06</td>\n",
       "    </tr>\n",
       "    <tr>\n",
       "      <th>39</th>\n",
       "      <td>38558.51</td>\n",
       "      <td>82982.09</td>\n",
       "      <td>174999.30</td>\n",
       "      <td>0</td>\n",
       "      <td>81005.76</td>\n",
       "    </tr>\n",
       "    <tr>\n",
       "      <th>40</th>\n",
       "      <td>28754.33</td>\n",
       "      <td>118546.05</td>\n",
       "      <td>172795.67</td>\n",
       "      <td>0</td>\n",
       "      <td>78239.91</td>\n",
       "    </tr>\n",
       "    <tr>\n",
       "      <th>41</th>\n",
       "      <td>27892.92</td>\n",
       "      <td>84710.77</td>\n",
       "      <td>164470.71</td>\n",
       "      <td>1</td>\n",
       "      <td>77798.83</td>\n",
       "    </tr>\n",
       "    <tr>\n",
       "      <th>42</th>\n",
       "      <td>23640.93</td>\n",
       "      <td>96189.63</td>\n",
       "      <td>148001.11</td>\n",
       "      <td>0</td>\n",
       "      <td>71498.49</td>\n",
       "    </tr>\n",
       "    <tr>\n",
       "      <th>43</th>\n",
       "      <td>15505.73</td>\n",
       "      <td>127382.30</td>\n",
       "      <td>35534.17</td>\n",
       "      <td>2</td>\n",
       "      <td>69758.98</td>\n",
       "    </tr>\n",
       "    <tr>\n",
       "      <th>44</th>\n",
       "      <td>22177.74</td>\n",
       "      <td>154806.14</td>\n",
       "      <td>28334.72</td>\n",
       "      <td>0</td>\n",
       "      <td>65200.33</td>\n",
       "    </tr>\n",
       "    <tr>\n",
       "      <th>45</th>\n",
       "      <td>1000.23</td>\n",
       "      <td>124153.04</td>\n",
       "      <td>1903.93</td>\n",
       "      <td>2</td>\n",
       "      <td>64926.08</td>\n",
       "    </tr>\n",
       "    <tr>\n",
       "      <th>46</th>\n",
       "      <td>1315.46</td>\n",
       "      <td>115816.21</td>\n",
       "      <td>297114.46</td>\n",
       "      <td>1</td>\n",
       "      <td>49490.75</td>\n",
       "    </tr>\n",
       "    <tr>\n",
       "      <th>47</th>\n",
       "      <td>0.00</td>\n",
       "      <td>135426.92</td>\n",
       "      <td>0.00</td>\n",
       "      <td>0</td>\n",
       "      <td>42559.73</td>\n",
       "    </tr>\n",
       "    <tr>\n",
       "      <th>48</th>\n",
       "      <td>542.05</td>\n",
       "      <td>51743.15</td>\n",
       "      <td>0.00</td>\n",
       "      <td>2</td>\n",
       "      <td>35673.41</td>\n",
       "    </tr>\n",
       "    <tr>\n",
       "      <th>49</th>\n",
       "      <td>0.00</td>\n",
       "      <td>116983.80</td>\n",
       "      <td>45173.06</td>\n",
       "      <td>0</td>\n",
       "      <td>14681.40</td>\n",
       "    </tr>\n",
       "  </tbody>\n",
       "</table>\n",
       "</div>"
      ],
      "text/plain": [
       "    R&D Spend  Administration  Marketing Spend  State     Profit\n",
       "0   165349.20       136897.80        471784.10      2  192261.83\n",
       "1   162597.70       151377.59        443898.53      0  191792.06\n",
       "2   153441.51       101145.55        407934.54      1  191050.39\n",
       "3   144372.41       118671.85        383199.62      2  182901.99\n",
       "4   142107.34        91391.77        366168.42      1  166187.94\n",
       "5   131876.90        99814.71        362861.36      2  156991.12\n",
       "6   134615.46       147198.87        127716.82      0  156122.51\n",
       "7   130298.13       145530.06        323876.68      1  155752.60\n",
       "8   120542.52       148718.95        311613.29      2  152211.77\n",
       "9   123334.88       108679.17        304981.62      0  149759.96\n",
       "10  101913.08       110594.11        229160.95      1  146121.95\n",
       "11  100671.96        91790.61        249744.55      0  144259.40\n",
       "12   93863.75       127320.38        249839.44      1  141585.52\n",
       "13   91992.39       135495.07        252664.93      0  134307.35\n",
       "14  119943.24       156547.42        256512.92      1  132602.65\n",
       "15  114523.61       122616.84        261776.23      2  129917.04\n",
       "16   78013.11       121597.55        264346.06      0  126992.93\n",
       "17   94657.16       145077.58        282574.31      2  125370.37\n",
       "18   91749.16       114175.79        294919.57      1  124266.90\n",
       "19   86419.70       153514.11             0.00      2  122776.86\n",
       "20   76253.86       113867.30        298664.47      0  118474.03\n",
       "21   78389.47       153773.43        299737.29      2  111313.02\n",
       "22   73994.56       122782.75        303319.26      1  110352.25\n",
       "23   67532.53       105751.03        304768.73      1  108733.99\n",
       "24   77044.01        99281.34        140574.81      2  108552.04\n",
       "25   64664.71       139553.16        137962.62      0  107404.34\n",
       "26   75328.87       144135.98        134050.07      1  105733.54\n",
       "27   72107.60       127864.55        353183.81      2  105008.31\n",
       "28   66051.52       182645.56        118148.20      1  103282.38\n",
       "29   65605.48       153032.06        107138.38      2  101004.64\n",
       "30   61994.48       115641.28         91131.24      1   99937.59\n",
       "31   61136.38       152701.92         88218.23      2   97483.56\n",
       "32   63408.86       129219.61         46085.25      0   97427.84\n",
       "33   55493.95       103057.49        214634.81      1   96778.92\n",
       "34   46426.07       157693.92        210797.67      0   96712.80\n",
       "35   46014.02        85047.44        205517.64      2   96479.51\n",
       "36   28663.76       127056.21        201126.82      1   90708.19\n",
       "37   44069.95        51283.14        197029.42      0   89949.14\n",
       "38   20229.59        65947.93        185265.10      2   81229.06\n",
       "39   38558.51        82982.09        174999.30      0   81005.76\n",
       "40   28754.33       118546.05        172795.67      0   78239.91\n",
       "41   27892.92        84710.77        164470.71      1   77798.83\n",
       "42   23640.93        96189.63        148001.11      0   71498.49\n",
       "43   15505.73       127382.30         35534.17      2   69758.98\n",
       "44   22177.74       154806.14         28334.72      0   65200.33\n",
       "45    1000.23       124153.04          1903.93      2   64926.08\n",
       "46    1315.46       115816.21        297114.46      1   49490.75\n",
       "47       0.00       135426.92             0.00      0   42559.73\n",
       "48     542.05        51743.15             0.00      2   35673.41\n",
       "49       0.00       116983.80         45173.06      0   14681.40"
      ]
     },
     "execution_count": 149,
     "metadata": {},
     "output_type": "execute_result"
    }
   ],
   "source": [
    "filtered_profit_df = outlier_removal(profit_df)\n",
    "filtered_profit_df"
   ]
  },
  {
   "cell_type": "code",
   "execution_count": 150,
   "id": "d77765ed-3d50-4f88-a9e8-2e3af4de4eb9",
   "metadata": {},
   "outputs": [
    {
     "name": "stdout",
     "output_type": "stream",
     "text": [
      "    R&D Spend  Administration  Marketing Spend  State     Profit\n",
      "0    1.000000        0.651744         1.000000    1.0  192261.83\n",
      "1    0.983359        0.761972         0.940893    0.0  191792.06\n",
      "2    0.927985        0.379579         0.864664    0.5  191050.39\n",
      "3    0.873136        0.512998         0.812235    1.0  182901.99\n",
      "4    0.859438        0.305328         0.776136    0.5  166187.94\n",
      "5    0.797566        0.369448         0.769126    1.0  156991.12\n",
      "6    0.814128        0.730161         0.270710    0.0  156122.51\n",
      "7    0.788018        0.717457         0.686493    0.5  155752.60\n",
      "8    0.729018        0.741733         0.660500    1.0  152211.77\n",
      "9    0.745906        0.436929         0.646443    0.0  149759.96\n",
      "10   0.616351        0.451506         0.485733    0.5  146121.95\n",
      "11   0.608845        0.308364         0.529362    0.0  144259.40\n",
      "12   0.567670        0.578836         0.529563    0.5  141585.52\n",
      "13   0.556352        0.641066         0.535552    0.0  134307.35\n",
      "14   0.725394        0.801327         0.543708    0.5  132602.65\n",
      "15   0.692617        0.543030         0.554864    1.0  129917.04\n",
      "16   0.471808        0.535270         0.560312    0.0  126992.93\n",
      "17   0.572468        0.714013         0.598948    1.0  125370.37\n",
      "18   0.554881        0.478772         0.625116    0.5  124266.90\n",
      "19   0.522650        0.778236         0.000000    1.0  122776.86\n",
      "20   0.461169        0.476424         0.633053    0.0  118474.03\n",
      "21   0.474084        0.780210         0.635327    1.0  111313.02\n",
      "22   0.447505        0.544293         0.642920    0.5  110352.25\n",
      "23   0.408424        0.414638         0.645992    0.5  108733.99\n",
      "24   0.465947        0.365388         0.297964    1.0  108552.04\n",
      "25   0.391080        0.671958         0.292427    0.0  107404.34\n",
      "26   0.455574        0.706845         0.284134    0.5  105733.54\n",
      "27   0.436093        0.582978         0.748613    1.0  105008.31\n",
      "28   0.399467        1.000000         0.250429    0.5  103282.38\n",
      "29   0.396769        0.774566         0.227092    1.0  101004.64\n",
      "30   0.374931        0.489928         0.193163    0.5   99937.59\n",
      "31   0.369741        0.772053         0.186989    1.0   97483.56\n",
      "32   0.383485        0.593294         0.097683    0.0   97427.84\n",
      "33   0.335617        0.394134         0.454943    0.5   96778.92\n",
      "34   0.280776        0.810055         0.446810    0.0   96712.80\n",
      "35   0.278284        0.257032         0.435618    1.0   96479.51\n",
      "36   0.173353        0.576825         0.426311    0.5   90708.19\n",
      "37   0.266527        0.000000         0.417626    0.0   89949.14\n",
      "38   0.122345        0.111636         0.392690    1.0   81229.06\n",
      "39   0.233194        0.241309         0.370931    0.0   81005.76\n",
      "40   0.173901        0.512041         0.366260    0.0   78239.91\n",
      "41   0.168691        0.254469         0.348614    0.5   77798.83\n",
      "42   0.142976        0.341852         0.313705    0.0   71498.49\n",
      "43   0.093776        0.579307         0.075319    1.0   69758.98\n",
      "44   0.134127        0.788072         0.060059    0.0   65200.33\n",
      "45   0.006049        0.554724         0.004036    1.0   64926.08\n",
      "46   0.007956        0.491260         0.629768    0.5   49490.75\n",
      "47   0.000000        0.640547         0.000000    0.0   42559.73\n",
      "48   0.003278        0.003502         0.000000    1.0   35673.41\n",
      "49   0.000000        0.500148         0.095749    0.0   14681.40\n"
     ]
    }
   ],
   "source": [
    "#Scale/Normalize the data\n",
    "\n",
    "from sklearn.preprocessing import MinMaxScaler  # Import MinMaxScaler\n",
    "\n",
    "#Define Feature Columns(excluding target variable)\n",
    "features = ['R&D Spend','Administration','Marketing Spend','State']\n",
    "\n",
    "#Initialize MinMaxScaler\n",
    "scaler = MinMaxScaler()\n",
    "\n",
    "#Fit and Transform\n",
    "filtered_profit_df[features] = scaler.fit_transform(filtered_profit_df[features])\n",
    "\n",
    "#Display Scaled DataFrame\n",
    "print(filtered_profit_df)"
   ]
  },
  {
   "cell_type": "code",
   "execution_count": 151,
   "id": "b659c490-cef1-4eed-b73b-a9a6e702fb0c",
   "metadata": {},
   "outputs": [
    {
     "name": "stdout",
     "output_type": "stream",
     "text": [
      "Shape of X: (50, 4)\n",
      "Shape of Y: (50,)\n",
      "Shape of train dataset features\n",
      "(40, 4)\n",
      "Shape of test dataset features\n",
      "(10, 4)\n",
      "Shape of train dataset target\n",
      "(40,)\n",
      "Shape of test dataset target\n",
      "(10,)\n"
     ]
    }
   ],
   "source": [
    "#Split the dataset for training and testing\n",
    "\n",
    "x = filtered_profit_df.drop(\"State\",axis=1)\n",
    "y = filtered_profit_df[\"State\"]\n",
    "\n",
    "print(\"Shape of X:\",x.shape)\n",
    "print(\"Shape of Y:\",y.shape)\n",
    "\n",
    "from sklearn.model_selection import train_test_split\n",
    "\n",
    "x_train,x_test,y_train,y_test = train_test_split(x,y,test_size=0.2,random_state=21)\n",
    "\n",
    "print(\"Shape of train dataset features\")\n",
    "print(x_train.shape)\n",
    "print(\"Shape of test dataset features\")\n",
    "print(x_test.shape)\n",
    "print(\"Shape of train dataset target\")\n",
    "print(y_train.shape)\n",
    "print(\"Shape of test dataset target\")\n",
    "print(y_test.shape)"
   ]
  },
  {
   "cell_type": "code",
   "execution_count": 152,
   "id": "f8b9cea5-d542-4db8-84d2-2507345e95eb",
   "metadata": {},
   "outputs": [
    {
     "data": {
      "text/html": [
       "<style>#sk-container-id-9 {color: black;}#sk-container-id-9 pre{padding: 0;}#sk-container-id-9 div.sk-toggleable {background-color: white;}#sk-container-id-9 label.sk-toggleable__label {cursor: pointer;display: block;width: 100%;margin-bottom: 0;padding: 0.3em;box-sizing: border-box;text-align: center;}#sk-container-id-9 label.sk-toggleable__label-arrow:before {content: \"▸\";float: left;margin-right: 0.25em;color: #696969;}#sk-container-id-9 label.sk-toggleable__label-arrow:hover:before {color: black;}#sk-container-id-9 div.sk-estimator:hover label.sk-toggleable__label-arrow:before {color: black;}#sk-container-id-9 div.sk-toggleable__content {max-height: 0;max-width: 0;overflow: hidden;text-align: left;background-color: #f0f8ff;}#sk-container-id-9 div.sk-toggleable__content pre {margin: 0.2em;color: black;border-radius: 0.25em;background-color: #f0f8ff;}#sk-container-id-9 input.sk-toggleable__control:checked~div.sk-toggleable__content {max-height: 200px;max-width: 100%;overflow: auto;}#sk-container-id-9 input.sk-toggleable__control:checked~label.sk-toggleable__label-arrow:before {content: \"▾\";}#sk-container-id-9 div.sk-estimator input.sk-toggleable__control:checked~label.sk-toggleable__label {background-color: #d4ebff;}#sk-container-id-9 div.sk-label input.sk-toggleable__control:checked~label.sk-toggleable__label {background-color: #d4ebff;}#sk-container-id-9 input.sk-hidden--visually {border: 0;clip: rect(1px 1px 1px 1px);clip: rect(1px, 1px, 1px, 1px);height: 1px;margin: -1px;overflow: hidden;padding: 0;position: absolute;width: 1px;}#sk-container-id-9 div.sk-estimator {font-family: monospace;background-color: #f0f8ff;border: 1px dotted black;border-radius: 0.25em;box-sizing: border-box;margin-bottom: 0.5em;}#sk-container-id-9 div.sk-estimator:hover {background-color: #d4ebff;}#sk-container-id-9 div.sk-parallel-item::after {content: \"\";width: 100%;border-bottom: 1px solid gray;flex-grow: 1;}#sk-container-id-9 div.sk-label:hover label.sk-toggleable__label {background-color: #d4ebff;}#sk-container-id-9 div.sk-serial::before {content: \"\";position: absolute;border-left: 1px solid gray;box-sizing: border-box;top: 0;bottom: 0;left: 50%;z-index: 0;}#sk-container-id-9 div.sk-serial {display: flex;flex-direction: column;align-items: center;background-color: white;padding-right: 0.2em;padding-left: 0.2em;position: relative;}#sk-container-id-9 div.sk-item {position: relative;z-index: 1;}#sk-container-id-9 div.sk-parallel {display: flex;align-items: stretch;justify-content: center;background-color: white;position: relative;}#sk-container-id-9 div.sk-item::before, #sk-container-id-9 div.sk-parallel-item::before {content: \"\";position: absolute;border-left: 1px solid gray;box-sizing: border-box;top: 0;bottom: 0;left: 50%;z-index: -1;}#sk-container-id-9 div.sk-parallel-item {display: flex;flex-direction: column;z-index: 1;position: relative;background-color: white;}#sk-container-id-9 div.sk-parallel-item:first-child::after {align-self: flex-end;width: 50%;}#sk-container-id-9 div.sk-parallel-item:last-child::after {align-self: flex-start;width: 50%;}#sk-container-id-9 div.sk-parallel-item:only-child::after {width: 0;}#sk-container-id-9 div.sk-dashed-wrapped {border: 1px dashed gray;margin: 0 0.4em 0.5em 0.4em;box-sizing: border-box;padding-bottom: 0.4em;background-color: white;}#sk-container-id-9 div.sk-label label {font-family: monospace;font-weight: bold;display: inline-block;line-height: 1.2em;}#sk-container-id-9 div.sk-label-container {text-align: center;}#sk-container-id-9 div.sk-container {/* jupyter's `normalize.less` sets `[hidden] { display: none; }` but bootstrap.min.css set `[hidden] { display: none !important; }` so we also need the `!important` here to be able to override the default hidden behavior on the sphinx rendered scikit-learn.org. See: https://github.com/scikit-learn/scikit-learn/issues/21755 */display: inline-block !important;position: relative;}#sk-container-id-9 div.sk-text-repr-fallback {display: none;}</style><div id=\"sk-container-id-9\" class=\"sk-top-container\"><div class=\"sk-text-repr-fallback\"><pre>LinearRegression()</pre><b>In a Jupyter environment, please rerun this cell to show the HTML representation or trust the notebook. <br />On GitHub, the HTML representation is unable to render, please try loading this page with nbviewer.org.</b></div><div class=\"sk-container\" hidden><div class=\"sk-item\"><div class=\"sk-estimator sk-toggleable\"><input class=\"sk-toggleable__control sk-hidden--visually\" id=\"sk-estimator-id-9\" type=\"checkbox\" checked><label for=\"sk-estimator-id-9\" class=\"sk-toggleable__label sk-toggleable__label-arrow\">LinearRegression</label><div class=\"sk-toggleable__content\"><pre>LinearRegression()</pre></div></div></div></div></div>"
      ],
      "text/plain": [
       "LinearRegression()"
      ]
     },
     "execution_count": 152,
     "metadata": {},
     "output_type": "execute_result"
    }
   ],
   "source": [
    "#Train the model using sklearn(linear regression), also find the intercept and coefficient from the trained model\n",
    "\n",
    "from sklearn.linear_model import LinearRegression\n",
    "\n",
    "model_linreg = LinearRegression()\n",
    "model_linreg.fit(x_train,y_train)"
   ]
  },
  {
   "cell_type": "code",
   "execution_count": 153,
   "id": "11624a28-617f-4aab-9bbb-d8b0e4c318ff",
   "metadata": {},
   "outputs": [
    {
     "name": "stdout",
     "output_type": "stream",
     "text": [
      "Intercept of the Linear Regression Model:  0.49367481267614455\n",
      "Coefficients of the Linear Regression Model:  [ 2.32167517e-01 -2.05364704e-02 -3.11255976e-02 -6.46194604e-07]\n"
     ]
    }
   ],
   "source": [
    "print(\"Intercept of the Linear Regression Model: \",model_linreg.intercept_)\n",
    "print(\"Coefficients of the Linear Regression Model: \",model_linreg.coef_)"
   ]
  },
  {
   "cell_type": "code",
   "execution_count": 156,
   "id": "6813b9b8-abb2-4aa4-a81b-e34587503cca",
   "metadata": {},
   "outputs": [
    {
     "name": "stdout",
     "output_type": "stream",
     "text": [
      "[0.53987893 0.464629   0.45612734 0.49216508 0.54302083 0.55095858\n",
      " 0.48961212 0.49484794 0.51226375 0.45301837]\n",
      "============================================\n",
      "    Actual      Pred\n",
      "7      0.5  0.539879\n",
      "44     0.0  0.464629\n",
      "43     1.0  0.456127\n",
      "25     0.0  0.492165\n",
      "14     0.5  0.543021\n",
      "2      0.5  0.550959\n",
      "23     0.5  0.489612\n",
      "31     1.0  0.494848\n",
      "17     1.0  0.512264\n",
      "47     0.0  0.453018\n"
     ]
    }
   ],
   "source": [
    "#Predict the profits of test data and evaluate the model using r2 score and mean squared error\n",
    "\n",
    "y_test_pred_linreg = model_linreg.predict(x_test)\n",
    "print(y_test_pred_linreg)\n",
    "\n",
    "print(\"============================================\")\n",
    "\n",
    "act_vs_pred_df = pd.DataFrame({ \"Actual\": y_test, \"Pred\": y_test_pred_linreg})\n",
    "print(act_vs_pred_df)\n"
   ]
  },
  {
   "cell_type": "code",
   "execution_count": 158,
   "id": "abdbdca2-d470-4411-a7b9-46ee79cc32b0",
   "metadata": {},
   "outputs": [
    {
     "name": "stdout",
     "output_type": "stream",
     "text": [
      "The MAE value of the MLR model on the test dataset is: \n",
      "0.3090819646744013\n",
      "The RMSE value of the MLR model on the test dataset is: \n",
      "0.3818822794503882\n",
      "The R2 score of the MLR model on the test dataset is:\n",
      "0.02777283094517069\n"
     ]
    }
   ],
   "source": [
    "#Evaluate the model using the R2 score, mean absolute error, and root mean squared error\n",
    "\n",
    "from sklearn.metrics import mean_squared_error as mse\n",
    "from sklearn.metrics import mean_absolute_error as mae\n",
    "import numpy as np\n",
    "\n",
    "print(\"The MAE value of the MLR model on the test dataset is: \")\n",
    "print(mae(y_test, y_test_pred_linreg))\n",
    "\n",
    "print(\"The RMSE value of the MLR model on the test dataset is: \")\n",
    "print(np.sqrt(mse(y_test, y_test_pred_linreg)))\n",
    "\n",
    "print(\"The R2 score of the MLR model on the test dataset is:\")\n",
    "print(model_linreg.score(x_test,y_test))"
   ]
  },
  {
   "cell_type": "code",
   "execution_count": 160,
   "id": "814d26d6-0e52-4fd0-83e0-e12e8232e467",
   "metadata": {},
   "outputs": [],
   "source": [
    "#Regularize the model using Ridge Regression and find the Score\n",
    "\n",
    "from sklearn.linear_model import Ridge\n",
    "ridge_model=Ridge()"
   ]
  },
  {
   "cell_type": "code",
   "execution_count": 161,
   "id": "602ee819-2226-42a9-aa33-4849a4339ac0",
   "metadata": {},
   "outputs": [
    {
     "data": {
      "text/html": [
       "<style>#sk-container-id-10 {color: black;}#sk-container-id-10 pre{padding: 0;}#sk-container-id-10 div.sk-toggleable {background-color: white;}#sk-container-id-10 label.sk-toggleable__label {cursor: pointer;display: block;width: 100%;margin-bottom: 0;padding: 0.3em;box-sizing: border-box;text-align: center;}#sk-container-id-10 label.sk-toggleable__label-arrow:before {content: \"▸\";float: left;margin-right: 0.25em;color: #696969;}#sk-container-id-10 label.sk-toggleable__label-arrow:hover:before {color: black;}#sk-container-id-10 div.sk-estimator:hover label.sk-toggleable__label-arrow:before {color: black;}#sk-container-id-10 div.sk-toggleable__content {max-height: 0;max-width: 0;overflow: hidden;text-align: left;background-color: #f0f8ff;}#sk-container-id-10 div.sk-toggleable__content pre {margin: 0.2em;color: black;border-radius: 0.25em;background-color: #f0f8ff;}#sk-container-id-10 input.sk-toggleable__control:checked~div.sk-toggleable__content {max-height: 200px;max-width: 100%;overflow: auto;}#sk-container-id-10 input.sk-toggleable__control:checked~label.sk-toggleable__label-arrow:before {content: \"▾\";}#sk-container-id-10 div.sk-estimator input.sk-toggleable__control:checked~label.sk-toggleable__label {background-color: #d4ebff;}#sk-container-id-10 div.sk-label input.sk-toggleable__control:checked~label.sk-toggleable__label {background-color: #d4ebff;}#sk-container-id-10 input.sk-hidden--visually {border: 0;clip: rect(1px 1px 1px 1px);clip: rect(1px, 1px, 1px, 1px);height: 1px;margin: -1px;overflow: hidden;padding: 0;position: absolute;width: 1px;}#sk-container-id-10 div.sk-estimator {font-family: monospace;background-color: #f0f8ff;border: 1px dotted black;border-radius: 0.25em;box-sizing: border-box;margin-bottom: 0.5em;}#sk-container-id-10 div.sk-estimator:hover {background-color: #d4ebff;}#sk-container-id-10 div.sk-parallel-item::after {content: \"\";width: 100%;border-bottom: 1px solid gray;flex-grow: 1;}#sk-container-id-10 div.sk-label:hover label.sk-toggleable__label {background-color: #d4ebff;}#sk-container-id-10 div.sk-serial::before {content: \"\";position: absolute;border-left: 1px solid gray;box-sizing: border-box;top: 0;bottom: 0;left: 50%;z-index: 0;}#sk-container-id-10 div.sk-serial {display: flex;flex-direction: column;align-items: center;background-color: white;padding-right: 0.2em;padding-left: 0.2em;position: relative;}#sk-container-id-10 div.sk-item {position: relative;z-index: 1;}#sk-container-id-10 div.sk-parallel {display: flex;align-items: stretch;justify-content: center;background-color: white;position: relative;}#sk-container-id-10 div.sk-item::before, #sk-container-id-10 div.sk-parallel-item::before {content: \"\";position: absolute;border-left: 1px solid gray;box-sizing: border-box;top: 0;bottom: 0;left: 50%;z-index: -1;}#sk-container-id-10 div.sk-parallel-item {display: flex;flex-direction: column;z-index: 1;position: relative;background-color: white;}#sk-container-id-10 div.sk-parallel-item:first-child::after {align-self: flex-end;width: 50%;}#sk-container-id-10 div.sk-parallel-item:last-child::after {align-self: flex-start;width: 50%;}#sk-container-id-10 div.sk-parallel-item:only-child::after {width: 0;}#sk-container-id-10 div.sk-dashed-wrapped {border: 1px dashed gray;margin: 0 0.4em 0.5em 0.4em;box-sizing: border-box;padding-bottom: 0.4em;background-color: white;}#sk-container-id-10 div.sk-label label {font-family: monospace;font-weight: bold;display: inline-block;line-height: 1.2em;}#sk-container-id-10 div.sk-label-container {text-align: center;}#sk-container-id-10 div.sk-container {/* jupyter's `normalize.less` sets `[hidden] { display: none; }` but bootstrap.min.css set `[hidden] { display: none !important; }` so we also need the `!important` here to be able to override the default hidden behavior on the sphinx rendered scikit-learn.org. See: https://github.com/scikit-learn/scikit-learn/issues/21755 */display: inline-block !important;position: relative;}#sk-container-id-10 div.sk-text-repr-fallback {display: none;}</style><div id=\"sk-container-id-10\" class=\"sk-top-container\"><div class=\"sk-text-repr-fallback\"><pre>Ridge()</pre><b>In a Jupyter environment, please rerun this cell to show the HTML representation or trust the notebook. <br />On GitHub, the HTML representation is unable to render, please try loading this page with nbviewer.org.</b></div><div class=\"sk-container\" hidden><div class=\"sk-item\"><div class=\"sk-estimator sk-toggleable\"><input class=\"sk-toggleable__control sk-hidden--visually\" id=\"sk-estimator-id-10\" type=\"checkbox\" checked><label for=\"sk-estimator-id-10\" class=\"sk-toggleable__label sk-toggleable__label-arrow\">Ridge</label><div class=\"sk-toggleable__content\"><pre>Ridge()</pre></div></div></div></div></div>"
      ],
      "text/plain": [
       "Ridge()"
      ]
     },
     "execution_count": 161,
     "metadata": {},
     "output_type": "execute_result"
    }
   ],
   "source": [
    "#Fit the train dataset\n",
    "\n",
    "ridge_model.fit(x_train,y_train)"
   ]
  },
  {
   "cell_type": "code",
   "execution_count": 162,
   "id": "1242ddbc-1df4-4c62-a0b5-75473a589c53",
   "metadata": {},
   "outputs": [],
   "source": [
    "#Pass train dataset\n",
    "y_pred_train_ridgereg = ridge_model.predict(x_train)\n",
    "\n",
    "#Pass test dataset\n",
    "y_pred_test_ridgereg = ridge_model.predict(x_test)"
   ]
  },
  {
   "cell_type": "code",
   "execution_count": 163,
   "id": "dc833c04-d51b-4fbe-a4fc-f0adbab969f7",
   "metadata": {},
   "outputs": [
    {
     "name": "stdout",
     "output_type": "stream",
     "text": [
      "The RMSE value of the MLR model on the train dataset is: \n",
      "0.41724840459343066\n",
      "The RMSE value of the MLR model on the test dataset is: \n",
      "0.38142780202781784\n"
     ]
    }
   ],
   "source": [
    "from sklearn.metrics import mean_squared_error\n",
    "import numpy as np\n",
    "\n",
    "#RMSE for Train Dataset\n",
    "print(\"The RMSE value of the MLR model on the train dataset is: \")\n",
    "print(np.sqrt(mean_squared_error(y_train, y_pred_train_ridgereg)))\n",
    "\n",
    "#RMSE for Test Dataset\n",
    "print(\"The RMSE value of the MLR model on the test dataset is: \")\n",
    "print(np.sqrt(mean_squared_error(y_test, y_pred_test_ridgereg)))"
   ]
  },
  {
   "cell_type": "code",
   "execution_count": 176,
   "id": "37249ae4-922e-4409-afe8-68ec37388035",
   "metadata": {},
   "outputs": [],
   "source": [
    "#Regularize the model using LassoRegression and find the Score\n",
    "\n",
    "from sklearn.linear_model import Lasso\n",
    "lasso_model=Lasso(alpha=0.1)"
   ]
  },
  {
   "cell_type": "code",
   "execution_count": 177,
   "id": "34c5b535-8785-4eba-85ac-70aff2bb72f1",
   "metadata": {},
   "outputs": [
    {
     "data": {
      "text/html": [
       "<style>#sk-container-id-14 {color: black;}#sk-container-id-14 pre{padding: 0;}#sk-container-id-14 div.sk-toggleable {background-color: white;}#sk-container-id-14 label.sk-toggleable__label {cursor: pointer;display: block;width: 100%;margin-bottom: 0;padding: 0.3em;box-sizing: border-box;text-align: center;}#sk-container-id-14 label.sk-toggleable__label-arrow:before {content: \"▸\";float: left;margin-right: 0.25em;color: #696969;}#sk-container-id-14 label.sk-toggleable__label-arrow:hover:before {color: black;}#sk-container-id-14 div.sk-estimator:hover label.sk-toggleable__label-arrow:before {color: black;}#sk-container-id-14 div.sk-toggleable__content {max-height: 0;max-width: 0;overflow: hidden;text-align: left;background-color: #f0f8ff;}#sk-container-id-14 div.sk-toggleable__content pre {margin: 0.2em;color: black;border-radius: 0.25em;background-color: #f0f8ff;}#sk-container-id-14 input.sk-toggleable__control:checked~div.sk-toggleable__content {max-height: 200px;max-width: 100%;overflow: auto;}#sk-container-id-14 input.sk-toggleable__control:checked~label.sk-toggleable__label-arrow:before {content: \"▾\";}#sk-container-id-14 div.sk-estimator input.sk-toggleable__control:checked~label.sk-toggleable__label {background-color: #d4ebff;}#sk-container-id-14 div.sk-label input.sk-toggleable__control:checked~label.sk-toggleable__label {background-color: #d4ebff;}#sk-container-id-14 input.sk-hidden--visually {border: 0;clip: rect(1px 1px 1px 1px);clip: rect(1px, 1px, 1px, 1px);height: 1px;margin: -1px;overflow: hidden;padding: 0;position: absolute;width: 1px;}#sk-container-id-14 div.sk-estimator {font-family: monospace;background-color: #f0f8ff;border: 1px dotted black;border-radius: 0.25em;box-sizing: border-box;margin-bottom: 0.5em;}#sk-container-id-14 div.sk-estimator:hover {background-color: #d4ebff;}#sk-container-id-14 div.sk-parallel-item::after {content: \"\";width: 100%;border-bottom: 1px solid gray;flex-grow: 1;}#sk-container-id-14 div.sk-label:hover label.sk-toggleable__label {background-color: #d4ebff;}#sk-container-id-14 div.sk-serial::before {content: \"\";position: absolute;border-left: 1px solid gray;box-sizing: border-box;top: 0;bottom: 0;left: 50%;z-index: 0;}#sk-container-id-14 div.sk-serial {display: flex;flex-direction: column;align-items: center;background-color: white;padding-right: 0.2em;padding-left: 0.2em;position: relative;}#sk-container-id-14 div.sk-item {position: relative;z-index: 1;}#sk-container-id-14 div.sk-parallel {display: flex;align-items: stretch;justify-content: center;background-color: white;position: relative;}#sk-container-id-14 div.sk-item::before, #sk-container-id-14 div.sk-parallel-item::before {content: \"\";position: absolute;border-left: 1px solid gray;box-sizing: border-box;top: 0;bottom: 0;left: 50%;z-index: -1;}#sk-container-id-14 div.sk-parallel-item {display: flex;flex-direction: column;z-index: 1;position: relative;background-color: white;}#sk-container-id-14 div.sk-parallel-item:first-child::after {align-self: flex-end;width: 50%;}#sk-container-id-14 div.sk-parallel-item:last-child::after {align-self: flex-start;width: 50%;}#sk-container-id-14 div.sk-parallel-item:only-child::after {width: 0;}#sk-container-id-14 div.sk-dashed-wrapped {border: 1px dashed gray;margin: 0 0.4em 0.5em 0.4em;box-sizing: border-box;padding-bottom: 0.4em;background-color: white;}#sk-container-id-14 div.sk-label label {font-family: monospace;font-weight: bold;display: inline-block;line-height: 1.2em;}#sk-container-id-14 div.sk-label-container {text-align: center;}#sk-container-id-14 div.sk-container {/* jupyter's `normalize.less` sets `[hidden] { display: none; }` but bootstrap.min.css set `[hidden] { display: none !important; }` so we also need the `!important` here to be able to override the default hidden behavior on the sphinx rendered scikit-learn.org. See: https://github.com/scikit-learn/scikit-learn/issues/21755 */display: inline-block !important;position: relative;}#sk-container-id-14 div.sk-text-repr-fallback {display: none;}</style><div id=\"sk-container-id-14\" class=\"sk-top-container\"><div class=\"sk-text-repr-fallback\"><pre>Lasso(alpha=0.1)</pre><b>In a Jupyter environment, please rerun this cell to show the HTML representation or trust the notebook. <br />On GitHub, the HTML representation is unable to render, please try loading this page with nbviewer.org.</b></div><div class=\"sk-container\" hidden><div class=\"sk-item\"><div class=\"sk-estimator sk-toggleable\"><input class=\"sk-toggleable__control sk-hidden--visually\" id=\"sk-estimator-id-14\" type=\"checkbox\" checked><label for=\"sk-estimator-id-14\" class=\"sk-toggleable__label sk-toggleable__label-arrow\">Lasso</label><div class=\"sk-toggleable__content\"><pre>Lasso(alpha=0.1)</pre></div></div></div></div></div>"
      ],
      "text/plain": [
       "Lasso(alpha=0.1)"
      ]
     },
     "execution_count": 177,
     "metadata": {},
     "output_type": "execute_result"
    }
   ],
   "source": [
    "#Fit the train dataset\n",
    "\n",
    "lasso_model.fit(x_train,y_train)"
   ]
  },
  {
   "cell_type": "code",
   "execution_count": 178,
   "id": "7f74fd18-8e55-4998-b1e8-a41b026634aa",
   "metadata": {},
   "outputs": [],
   "source": [
    "#Pass train dataset\n",
    "y_pred_train_lassoreg = lasso_model.predict(x_train)\n",
    "\n",
    "#Pass test dataset\n",
    "y_pred_test_lassoreg = lasso_model.predict(x_test)"
   ]
  },
  {
   "cell_type": "code",
   "execution_count": 179,
   "id": "ffc279d4-d2ba-4907-964a-724279a7fa33",
   "metadata": {},
   "outputs": [
    {
     "name": "stdout",
     "output_type": "stream",
     "text": [
      "The RMSE value of the MLR model on the train dataset is: \n",
      "0.41734900697932104\n",
      "The RMSE value of the MLR model on the test dataset is: \n",
      "0.3811886618619048\n"
     ]
    }
   ],
   "source": [
    "from sklearn.metrics import mean_squared_error\n",
    "import numpy as np\n",
    "\n",
    "#RMSE for Train Dataset\n",
    "print(\"The RMSE value of the MLR model on the train dataset is: \")\n",
    "print(np.sqrt(mean_squared_error(y_train, y_pred_train_lassoreg)))\n",
    "\n",
    "#RMSE for Test Dataset\n",
    "print(\"The RMSE value of the MLR model on the test dataset is: \")\n",
    "print(np.sqrt(mean_squared_error(y_test, y_pred_test_lassoreg)))"
   ]
  }
 ],
 "metadata": {
  "kernelspec": {
   "display_name": "Python 3 (ipykernel)",
   "language": "python",
   "name": "python3"
  },
  "language_info": {
   "codemirror_mode": {
    "name": "ipython",
    "version": 3
   },
   "file_extension": ".py",
   "mimetype": "text/x-python",
   "name": "python",
   "nbconvert_exporter": "python",
   "pygments_lexer": "ipython3",
   "version": "3.11.4"
  }
 },
 "nbformat": 4,
 "nbformat_minor": 5
}
