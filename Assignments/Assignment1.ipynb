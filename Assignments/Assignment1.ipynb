{
 "cells": [
  {
   "cell_type": "code",
   "execution_count": 1,
   "id": "9f39154d-06f7-4791-a7c5-50c3fbea8e4f",
   "metadata": {},
   "outputs": [],
   "source": [
    "#Start Assignment 1"
   ]
  },
  {
   "cell_type": "code",
   "execution_count": 2,
   "id": "b670fdd1-fdc2-4875-a8f1-228fad99454c",
   "metadata": {},
   "outputs": [
    {
     "name": "stdin",
     "output_type": "stream",
     "text": [
      "Enter value of M: 5\n",
      "Enter value of N: 3\n",
      "Enter value of A: 2\n"
     ]
    },
    {
     "name": "stdout",
     "output_type": "stream",
     "text": [
      "First array:\n",
      "[[0.92825664 0.62790011 0.80130199]\n",
      " [0.64283876 0.16558409 0.54573802]\n",
      " [0.04319311 0.80229079 0.72512472]\n",
      " [0.8005622  0.98844625 0.6982794 ]\n",
      " [0.46600134 0.51451131 0.6415925 ]]\n",
      "Second array:\n",
      "[[0.31898348 0.49050318]\n",
      " [0.53845583 0.48259499]\n",
      " [0.89102055 0.35539951]]\n",
      "Dot product of two arrays:\n",
      "[[1.34817155 1.04311662]\n",
      " [0.78047845 0.58917953]\n",
      " [1.09187707 0.66607684]\n",
      " [1.40978206 1.11786567]\n",
      " [0.99736045 0.70489738]]\n"
     ]
    }
   ],
   "source": [
    "#Problem Statement1: Write a Python program to multiply a 푀×푁matrix by 푁×퐴matrix and create a real matrix product\n",
    "\n",
    "import numpy as np\n",
    "M=int(input(\"Enter value of M:\"))\n",
    "N=int(input(\"Enter value of N:\"))\n",
    "A=int(input(\"Enter value of A:\"))\n",
    "\n",
    "#First matrix(M X N)\n",
    "mat1=np.array([[0.92825664,0.62790011,0.80130199],[0.64283876,0.16558409,0.54573802],[0.04319311,0.80229079,0.72512472],[0.8005622,0.98844625,0.6982794 ],[0.46600134,0.51451131,0.6415925 ]])\n",
    "print(\"First array:\")\n",
    "print(mat1)\n",
    "\n",
    "#Second matrix(N X A)\n",
    "mat2=np.array([[0.31898348,0.49050318],[0.53845583,0.48259499],[0.89102055,0.35539951]])\n",
    "print(\"Second array:\")\n",
    "print(mat2)\n",
    "\n",
    "#Matrix Product(Dimension of output matrix = M X A)\n",
    "print(\"Dot product of two arrays:\")\n",
    "matprod = np.array(np.dot(mat1,mat2))\n",
    "print(matprod)"
   ]
  },
  {
   "cell_type": "code",
   "execution_count": 3,
   "id": "2f2dccba-0d34-4e6d-928a-edc10e0af7b6",
   "metadata": {},
   "outputs": [
    {
     "name": "stdout",
     "output_type": "stream",
     "text": [
      "Original Array:\n",
      "['Python' 'PHP' 'JS' 'Examples' 'html5' '5']\n",
      "Digits only = ['False' 'False' 'False' 'False' 'False' 'True']\n",
      "Lower cases only = ['False' 'False' 'False' 'False' 'True' 'False']\n",
      "Upper cases only = ['False' 'True' 'True' 'False' 'False' 'False']\n"
     ]
    }
   ],
   "source": [
    "# Problem Statement2: Write a NumPy program to check if each element of an array of your choice is composed of digits, lower case letters, and upper case letters only\n",
    "\n",
    "import numpy as np\n",
    "print(\"Original Array:\")\n",
    "inp_arr=np.array(['Python','PHP','JS','Examples','html5','5'])\n",
    "print(inp_arr)\n",
    "\n",
    "dig_arr=np.array([])\n",
    "for elem in inp_arr:\n",
    "    chkdig=elem.isdigit()\n",
    "    if chkdig==0:\n",
    "        val=\"False\"\n",
    "    else:\n",
    "        val=\"True\"\n",
    "    dig_arr=np.append(dig_arr,[val])\n",
    "print(\"Digits only =\",np.array(dig_arr))\n",
    "\n",
    "lowr_arr=np.array([])\n",
    "for elem in inp_arr:\n",
    "    chklowr=elem.islower()\n",
    "    if chklowr==0:\n",
    "        val=\"False\"\n",
    "    else:\n",
    "        val=\"True\"\n",
    "    lowr_arr=np.append(lowr_arr,[val])\n",
    "print(\"Lower cases only =\",np.array(lowr_arr))\n",
    "\n",
    "uppr_arr=np.array([])\n",
    "for elem in inp_arr:\n",
    "    chkuppr=elem.isupper()\n",
    "    if chkuppr==0:\n",
    "        val=\"False\"\n",
    "    else:\n",
    "        val=\"True\"\n",
    "    uppr_arr=np.append(uppr_arr,[val])\n",
    "print(\"Upper cases only =\",np.array(uppr_arr))"
   ]
  },
  {
   "cell_type": "code",
   "execution_count": 4,
   "id": "b3807b4e-e6d2-4a93-84c1-4690c2de4204",
   "metadata": {},
   "outputs": [
    {
     "name": "stdin",
     "output_type": "stream",
     "text": [
      "Enter value of X: 7\n",
      "Enter value of Y: 9\n"
     ]
    },
    {
     "name": "stdout",
     "output_type": "stream",
     "text": [
      "[  1   8  15  22  29  36  43  50  57  64  71  78  85  92  99 106]\n",
      "[  1  10  19  28  37  46  55  64  73  82  91 100 109 118 127 136]\n",
      "[  1   8  15  22  29  36  43  50  57  64  71  78  85  92  99 106]\n",
      "[  1  10  19  28  37  46  55  64  73  82  91 100 109 118 127 136]\n",
      "[[  1   8  15  22]\n",
      " [ 29  36  43  50]\n",
      " [ 57  64  71  78]\n",
      " [ 85  92  99 106]]\n",
      "[[  1  10  19  28]\n",
      " [ 37  46  55  64]\n",
      " [ 73  82  91 100]\n",
      " [109 118 127 136]]\n",
      "[[  0  -2  -4  -6]\n",
      " [ -8 -10 -12 -14]\n",
      " [-16 -18 -20 -22]\n",
      " [-24 -26 -28 -30]]\n",
      "[  0  -2  -4  -6  -8 -10 -12 -14 -16 -18 -20 -22 -24 -26 -28 -30]\n"
     ]
    }
   ],
   "source": [
    "# Problem Statement3:Write a program thatreads two space-separated positive integers 푋and 푌as input and perform the following tasks:\n",
    "\n",
    "import numpy as np\n",
    "X = int(input(\"Enter value of X:\"))\n",
    "Y = int(input(\"Enter value of Y:\"))\n",
    "lst1 = np.arange(1,16+(15*(X-1))+1,X) #16 elements with step of X, starting from 1. So last element should be 16+(15 * (X-1)).\n",
    "print(lst1)\n",
    "lst2 = np.arange(1,16+(15*(Y-1))+1,Y) #16 elements with step of Y, starting from 1. So last element should be 16+(15 * (Y-1)).\n",
    "print(lst2)\n",
    "np1=np.array(lst1)\n",
    "print(np1)\n",
    "np2=np.array(lst2)\n",
    "print(np2)\n",
    "res_np1=np1.reshape(4,4)\n",
    "print(res_np1)\n",
    "res_np2=np2.reshape(4,4)\n",
    "print(res_np2)\n",
    "np3=np.array(np.subtract(res_np1,res_np2))\n",
    "print(np3)\n",
    "print(np.ravel(np3))"
   ]
  },
  {
   "cell_type": "code",
   "execution_count": 5,
   "id": "b32f8e36-f5de-4cee-90ab-0fc6b7f96f75",
   "metadata": {},
   "outputs": [
    {
     "name": "stdout",
     "output_type": "stream",
     "text": [
      "[[23 56 87]\n",
      " [ 3  6 96]\n",
      " [ 4  6 78]]\n",
      "[[12 34 54]\n",
      " [ 7  2 54]\n",
      " [ 6  2 78]]\n",
      "[[-112  616 1824]\n",
      " [ -39  378  315]\n",
      " [ -98  452  282]]\n",
      "[[  135  -560 -1737]\n",
      " [   42  -372  -219]\n",
      " [  102  -446  -204]]\n"
     ]
    }
   ],
   "source": [
    "# Problem Statement4: Write a Python program that takes two integer-NumPy arrays, 푃and 푄of shape [3∗3]and performthe following task:\n",
    "\n",
    "import numpy as np\n",
    "P = np.array([23,56,87,3,6,96,4,6,78])\n",
    "P = np.reshape(P, (3,3))\n",
    "print(P)\n",
    "Q = np.array([12,34,54,7,2,54,6,2,78])\n",
    "Q = np.reshape(Q, (3,3))\n",
    "print(Q)\n",
    "res1=np.array(np.dot(Q,np.subtract(P,Q)))\n",
    "print(res1)\n",
    "res2=np.array(np.subtract(P,res1))\n",
    "print(res2)"
   ]
  }
 ],
 "metadata": {
  "kernelspec": {
   "display_name": "Python 3 (ipykernel)",
   "language": "python",
   "name": "python3"
  },
  "language_info": {
   "codemirror_mode": {
    "name": "ipython",
    "version": 3
   },
   "file_extension": ".py",
   "mimetype": "text/x-python",
   "name": "python",
   "nbconvert_exporter": "python",
   "pygments_lexer": "ipython3",
   "version": "3.11.4"
  }
 },
 "nbformat": 4,
 "nbformat_minor": 5
}
