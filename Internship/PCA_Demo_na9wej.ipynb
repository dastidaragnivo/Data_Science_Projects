{
 "cells": [
  {
   "cell_type": "code",
   "execution_count": 3,
   "metadata": {},
   "outputs": [],
   "source": [
    "from sklearn.datasets import load_iris\n",
    "import pandas as pd\n",
    "\n",
    "iris_bunch = load_iris()"
   ]
  },
  {
   "cell_type": "code",
   "execution_count": 4,
   "metadata": {},
   "outputs": [
    {
     "data": {
      "text/html": [
       "<div>\n",
       "<style scoped>\n",
       "    .dataframe tbody tr th:only-of-type {\n",
       "        vertical-align: middle;\n",
       "    }\n",
       "\n",
       "    .dataframe tbody tr th {\n",
       "        vertical-align: top;\n",
       "    }\n",
       "\n",
       "    .dataframe thead th {\n",
       "        text-align: right;\n",
       "    }\n",
       "</style>\n",
       "<table border=\"1\" class=\"dataframe\">\n",
       "  <thead>\n",
       "    <tr style=\"text-align: right;\">\n",
       "      <th></th>\n",
       "      <th>sepal length (cm)</th>\n",
       "      <th>sepal width (cm)</th>\n",
       "      <th>petal length (cm)</th>\n",
       "      <th>petal width (cm)</th>\n",
       "      <th>Class</th>\n",
       "    </tr>\n",
       "  </thead>\n",
       "  <tbody>\n",
       "    <tr>\n",
       "      <td>0</td>\n",
       "      <td>5.1</td>\n",
       "      <td>3.5</td>\n",
       "      <td>1.4</td>\n",
       "      <td>0.2</td>\n",
       "      <td>0</td>\n",
       "    </tr>\n",
       "    <tr>\n",
       "      <td>1</td>\n",
       "      <td>4.9</td>\n",
       "      <td>3.0</td>\n",
       "      <td>1.4</td>\n",
       "      <td>0.2</td>\n",
       "      <td>0</td>\n",
       "    </tr>\n",
       "    <tr>\n",
       "      <td>2</td>\n",
       "      <td>4.7</td>\n",
       "      <td>3.2</td>\n",
       "      <td>1.3</td>\n",
       "      <td>0.2</td>\n",
       "      <td>0</td>\n",
       "    </tr>\n",
       "    <tr>\n",
       "      <td>3</td>\n",
       "      <td>4.6</td>\n",
       "      <td>3.1</td>\n",
       "      <td>1.5</td>\n",
       "      <td>0.2</td>\n",
       "      <td>0</td>\n",
       "    </tr>\n",
       "    <tr>\n",
       "      <td>4</td>\n",
       "      <td>5.0</td>\n",
       "      <td>3.6</td>\n",
       "      <td>1.4</td>\n",
       "      <td>0.2</td>\n",
       "      <td>0</td>\n",
       "    </tr>\n",
       "  </tbody>\n",
       "</table>\n",
       "</div>"
      ],
      "text/plain": [
       "   sepal length (cm)  sepal width (cm)  petal length (cm)  petal width (cm)  \\\n",
       "0                5.1               3.5                1.4               0.2   \n",
       "1                4.9               3.0                1.4               0.2   \n",
       "2                4.7               3.2                1.3               0.2   \n",
       "3                4.6               3.1                1.5               0.2   \n",
       "4                5.0               3.6                1.4               0.2   \n",
       "\n",
       "   Class  \n",
       "0      0  \n",
       "1      0  \n",
       "2      0  \n",
       "3      0  \n",
       "4      0  "
      ]
     },
     "execution_count": 4,
     "metadata": {},
     "output_type": "execute_result"
    }
   ],
   "source": [
    "#Creating a dataframe\n",
    "\n",
    "iris_df = pd.DataFrame(iris_bunch.data , columns = iris_bunch.feature_names)\n",
    "iris_df[\"Class\"] = iris_bunch.target\n",
    "iris_df.head()"
   ]
  },
  {
   "cell_type": "code",
   "execution_count": 5,
   "metadata": {},
   "outputs": [
    {
     "data": {
      "text/plain": [
       "2    50\n",
       "1    50\n",
       "0    50\n",
       "Name: Class, dtype: int64"
      ]
     },
     "execution_count": 5,
     "metadata": {},
     "output_type": "execute_result"
    }
   ],
   "source": [
    "iris_df[\"Class\"].value_counts()"
   ]
  },
  {
   "cell_type": "code",
   "execution_count": 6,
   "metadata": {},
   "outputs": [],
   "source": [
    "# Split the data into X & y\n",
    "\n",
    "X = iris_df.drop(\"Class\", axis=1)\n",
    "y = iris_df[\"Class\"]"
   ]
  },
  {
   "cell_type": "code",
   "execution_count": 9,
   "metadata": {},
   "outputs": [],
   "source": [
    "# Split the data into train and test sets\n",
    "\n",
    "from sklearn.model_selection import train_test_split\n",
    "\n",
    "X_train, X_test, y_train, y_test = train_test_split(X,y, test_size=0.25, random_state=21)"
   ]
  },
  {
   "cell_type": "code",
   "execution_count": 10,
   "metadata": {},
   "outputs": [
    {
     "name": "stdout",
     "output_type": "stream",
     "text": [
      "Shape of X_train is :  (112, 4)\n",
      "Shape of X_test is :  (38, 4)\n",
      "Shape of y_train is :  (112,)\n",
      "Shape of y_test is :  (38,)\n"
     ]
    }
   ],
   "source": [
    "print(\"Shape of X_train is : \",X_train.shape)\n",
    "print(\"Shape of X_test is : \",X_test.shape)\n",
    "print(\"Shape of y_train is : \",y_train.shape)\n",
    "print(\"Shape of y_test is : \",y_test.shape)"
   ]
  },
  {
   "cell_type": "markdown",
   "metadata": {},
   "source": [
    "PCA always performs well in a normalized dataset.Hence, we are going to normalise our input numerical features."
   ]
  },
  {
   "cell_type": "code",
   "execution_count": 11,
   "metadata": {},
   "outputs": [],
   "source": [
    "from sklearn.preprocessing import StandardScaler\n",
    "\n",
    "sc = StandardScaler()\n",
    "X_train_scaled = sc.fit_transform(X_train)\n",
    "X_test_scaled = sc.fit_transform(X_test)"
   ]
  },
  {
   "cell_type": "code",
   "execution_count": 13,
   "metadata": {},
   "outputs": [
    {
     "name": "stdout",
     "output_type": "stream",
     "text": [
      "Before Scaling\n",
      "======================================================\n",
      "X train :       sepal length (cm)  sepal width (cm)  petal length (cm)  petal width (cm)\n",
      "38                 4.4               3.0                1.3               0.2\n",
      "101                5.8               2.7                5.1               1.9\n",
      "149                5.9               3.0                5.1               1.8\n",
      "136                6.3               3.4                5.6               2.4\n",
      "113                5.7               2.5                5.0               2.0\n",
      "..                 ...               ...                ...               ...\n",
      "120                6.9               3.2                5.7               2.3\n",
      "112                6.8               3.0                5.5               2.1\n",
      "48                 5.3               3.7                1.5               0.2\n",
      "4                  5.0               3.6                1.4               0.2\n",
      "56                 6.3               3.3                4.7               1.6\n",
      "\n",
      "[112 rows x 4 columns]\n",
      "X test :       sepal length (cm)  sepal width (cm)  petal length (cm)  petal width (cm)\n",
      "92                 5.8               2.6                4.0               1.2\n",
      "44                 5.1               3.8                1.9               0.4\n",
      "7                  5.0               3.4                1.5               0.2\n",
      "21                 5.1               3.7                1.5               0.4\n",
      "95                 5.7               3.0                4.2               1.2\n",
      "75                 6.6               3.0                4.4               1.4\n",
      "20                 5.4               3.4                1.7               0.2\n",
      "121                5.6               2.8                4.9               2.0\n",
      "26                 5.0               3.4                1.6               0.4\n",
      "19                 5.1               3.8                1.5               0.3\n",
      "81                 5.5               2.4                3.7               1.0\n",
      "88                 5.6               3.0                4.1               1.3\n",
      "143                6.8               3.2                5.9               2.3\n",
      "117                7.7               3.8                6.7               2.2\n",
      "23                 5.1               3.3                1.7               0.5\n",
      "77                 6.7               3.0                5.0               1.7\n",
      "138                6.0               3.0                4.8               1.8\n",
      "73                 6.1               2.8                4.7               1.2\n",
      "14                 5.8               4.0                1.2               0.2\n",
      "142                5.8               2.7                5.1               1.9\n",
      "123                6.3               2.7                4.9               1.8\n",
      "62                 6.0               2.2                4.0               1.0\n",
      "83                 6.0               2.7                5.1               1.6\n",
      "74                 6.4               2.9                4.3               1.3\n",
      "42                 4.4               3.2                1.3               0.2\n",
      "60                 5.0               2.0                3.5               1.0\n",
      "40                 5.0               3.5                1.3               0.3\n",
      "45                 4.8               3.0                1.4               0.3\n",
      "87                 6.3               2.3                4.4               1.3\n",
      "124                6.7               3.3                5.7               2.1\n",
      "41                 4.5               2.3                1.3               0.3\n",
      "131                7.9               3.8                6.4               2.0\n",
      "70                 5.9               3.2                4.8               1.8\n",
      "46                 5.1               3.8                1.6               0.2\n",
      "126                6.2               2.8                4.8               1.8\n",
      "54                 6.5               2.8                4.6               1.5\n",
      "85                 6.0               3.4                4.5               1.6\n",
      "114                5.8               2.8                5.1               2.4\n"
     ]
    }
   ],
   "source": [
    "print(\"Before Scaling\")\n",
    "print(\"======================================================\")\n",
    "print(\"X train : \", X_train)\n",
    "print(\"X test : \", X_test)"
   ]
  },
  {
   "cell_type": "code",
   "execution_count": 15,
   "metadata": {},
   "outputs": [
    {
     "name": "stdout",
     "output_type": "stream",
     "text": [
      "After Scaling\n",
      "======================================================\n",
      "[[-1.73699699 -0.12573213 -1.3955311  -1.30301344]\n",
      " [-0.07016022 -0.85411135  0.73327907  0.88862754]\n",
      " [ 0.04889955 -0.12573213  0.73327907  0.75970748]\n",
      " [ 0.52513862  0.84544017  1.01338567  1.53322782]\n",
      " [-0.18921999 -1.33969749  0.67725775  1.01754759]\n",
      " [ 0.40607886 -0.3685252   0.2851085   0.11510719]\n",
      " [ 1.23949724  0.11706095  0.73327907  1.40430777]\n",
      " [-0.42733953  1.08823324 -1.3955311  -1.30301344]\n",
      " [-1.14169814  1.33102631 -1.33950978 -1.43193349]\n",
      " [-1.85605676 -0.12573213 -1.50757374 -1.43193349]\n",
      " [ 0.40607886 -2.06807671  0.39715114  0.37294731]\n",
      " [-1.26075791  0.84544017 -1.22746714 -1.30301344]\n",
      " [ 1.23949724  0.11706095  0.62123643  0.37294731]\n",
      " [-1.02263837  0.60264709 -1.33950978 -1.30301344]\n",
      " [ 1.0013777   0.11706095  0.34112982  0.24402725]\n",
      " [ 2.19197539 -1.09690442  1.74166283  1.40430777]\n",
      " [-0.18921999 -0.61131827  0.39715114  0.11510719]\n",
      " [-0.07016022 -0.85411135  0.17306586 -0.27165298]\n",
      " [-1.49887745  0.11706095 -1.28348846 -1.30301344]\n",
      " [-0.9035786   1.08823324 -1.33950978 -1.17409338]\n",
      " [ 2.19197539 -0.12573213  1.29349227  1.40430777]\n",
      " [-1.37981768  0.35985402 -1.22746714 -1.30301344]\n",
      " [-0.5463993   1.57381939 -1.28348846 -1.30301344]\n",
      " [-1.49887745  1.33102631 -1.56359506 -1.30301344]\n",
      " [-1.37981768  0.35985402 -1.3955311  -1.30301344]\n",
      " [-0.5463993   0.84544017 -1.28348846 -1.04517332]\n",
      " [-0.18921999 -0.3685252   0.22908718  0.11510719]\n",
      " [-0.42733953 -1.33969749  0.11704454  0.11510719]\n",
      " [-0.78451884  1.08823324 -1.28348846 -1.30301344]\n",
      " [ 1.0013777  -1.33969749  1.12542831  0.75970748]\n",
      " [ 0.64419839  0.35985402  0.39715114  0.37294731]\n",
      " [-1.14169814 -0.12573213 -1.33950978 -1.30301344]\n",
      " [-0.5463993   2.05940553 -1.3955311  -1.04517332]\n",
      " [-1.14169814 -1.33969749  0.39715114  0.63078742]\n",
      " [ 1.0013777   0.11706095  0.50919379  0.37294731]\n",
      " [-1.14169814  0.11706095 -1.28348846 -1.30301344]\n",
      " [ 0.76325816 -0.12573213  1.12542831  1.27538771]\n",
      " [-1.02263837 -1.82528364 -0.2751047  -0.27165298]\n",
      " [ 0.28701909 -1.09690442  1.01338567  0.24402725]\n",
      " [-1.02263837  1.08823324 -1.22746714 -0.78733321]\n",
      " [ 0.64419839 -0.85411135  0.84532171  0.88862754]\n",
      " [-0.9035786   0.84544017 -1.28348846 -1.30301344]\n",
      " [-1.49887745  0.35985402 -1.33950978 -1.30301344]\n",
      " [ 0.16795932 -0.3685252   0.39715114  0.37294731]\n",
      " [ 0.76325816 -0.12573213  0.95736435  0.75970748]\n",
      " [-0.30827976 -0.3685252  -0.10704074  0.11510719]\n",
      " [-0.30827976 -0.85411135  0.22908718  0.11510719]\n",
      " [-1.26075791  0.84544017 -1.05940318 -1.30301344]\n",
      " [ 0.64419839 -0.61131827  1.01338567  1.27538771]\n",
      " [ 0.88231793 -0.3685252   0.45317246  0.11510719]\n",
      " [-1.73699699 -0.3685252  -1.33950978 -1.30301344]\n",
      " [ 0.28701909 -0.12573213  0.62123643  0.75970748]\n",
      " [ 0.28701909 -0.61131827  0.11704454  0.11510719]\n",
      " [-0.30827976 -0.12573213  0.39715114  0.37294731]\n",
      " [ 1.83479608 -0.61131827  1.29349227  0.88862754]\n",
      " [-0.18921999 -1.09690442 -0.16306206 -0.27165298]\n",
      " [ 2.07291562 -0.12573213  1.57359887  1.14646765]\n",
      " [ 0.28701909 -0.3685252   0.50919379  0.24402725]\n",
      " [ 1.0013777   0.60264709  1.06940699  1.66214788]\n",
      " [ 0.64419839  0.35985402  0.84532171  1.40430777]\n",
      " [-0.78451884  2.54499168 -1.28348846 -1.43193349]\n",
      " [-1.02263837 -0.12573213 -1.22746714 -1.30301344]\n",
      " [ 0.52513862 -0.3685252   1.01338567  0.75970748]\n",
      " [ 1.47761678 -0.12573213  1.18144963  1.14646765]\n",
      " [-1.26075791  0.11706095 -1.22746714 -1.30301344]\n",
      " [ 1.12043747 -0.61131827  0.56521511  0.24402725]\n",
      " [ 0.40607886  0.84544017  0.90134303  1.40430777]\n",
      " [-0.18921999 -0.61131827  0.17306586  0.11510719]\n",
      " [-1.14169814 -1.58249057 -0.2751047  -0.27165298]\n",
      " [ 1.71573631 -0.3685252   1.40553491  0.75970748]\n",
      " [-0.30827976 -1.33969749  0.06102322 -0.14273292]\n",
      " [ 1.59667655 -0.12573213  1.12542831  0.50186737]\n",
      " [-0.9035786   1.08823324 -1.33950978 -1.30301344]\n",
      " [ 1.59667655  1.33102631  1.29349227  1.66214788]\n",
      " [ 0.64419839 -0.61131827  1.01338567  1.14646765]\n",
      " [-1.14169814  0.11706095 -1.28348846 -1.43193349]\n",
      " [-0.78451884  0.84544017 -1.33950978 -1.30301344]\n",
      " [-0.42733953 -1.09690442  0.34112982 -0.01381286]\n",
      " [ 0.64419839  0.11706095  0.95736435  0.75970748]\n",
      " [-1.49887745  0.84544017 -1.33950978 -1.17409338]\n",
      " [-0.18921999  3.2733709  -1.28348846 -1.04517332]\n",
      " [-0.07016022 -0.85411135  0.06102322 -0.01381286]\n",
      " [ 1.59667655  0.35985402  1.23747095  0.75970748]\n",
      " [-1.26075791 -0.12573213 -1.33950978 -1.43193349]\n",
      " [-0.42733953  2.78778475 -1.33950978 -1.30301344]\n",
      " [ 0.28701909 -0.12573213  0.45317246  0.24402725]\n",
      " [ 1.0013777  -0.12573213  0.78930039  1.40430777]\n",
      " [ 0.52513862 -1.33969749  0.67725775  0.88862754]\n",
      " [-1.02263837  0.35985402 -1.45155242 -1.30301344]\n",
      " [ 1.0013777   0.11706095  1.01338567  1.53322782]\n",
      " [-0.42733953 -1.58249057  0.0050019  -0.14273292]\n",
      " [-0.5463993   2.05940553 -1.17144582 -1.04517332]\n",
      " [-0.42733953 -1.82528364  0.11704454  0.11510719]\n",
      " [ 1.23949724  0.11706095  0.90134303  1.14646765]\n",
      " [ 1.35855701  0.35985402  0.50919379  0.24402725]\n",
      " [-0.18921999  1.81661246 -1.17144582 -1.17409338]\n",
      " [ 0.52513862 -0.61131827  0.73327907  0.37294731]\n",
      " [ 0.16795932 -2.06807671  0.67725775  0.37294731]\n",
      " [-0.78451884 -0.85411135  0.06102322  0.24402725]\n",
      " [-0.5463993  -0.12573213  0.39715114  0.37294731]\n",
      " [ 0.52513862  0.60264709  1.23747095  1.66214788]\n",
      " [ 0.76325816 -0.12573213  0.78930039  1.01754759]\n",
      " [ 2.19197539 -0.61131827  1.62962019  1.01754759]\n",
      " [ 0.04889955 -0.12573213  0.22908718  0.37294731]\n",
      " [ 0.76325816  0.35985402  0.73327907  1.01754759]\n",
      " [ 0.52513862 -1.33969749  0.62123643  0.37294731]\n",
      " [-0.9035786  -1.33969749 -0.44316866 -0.14273292]\n",
      " [ 1.23949724  0.35985402  1.06940699  1.40430777]\n",
      " [ 1.12043747 -0.12573213  0.95736435  1.14646765]\n",
      " [-0.66545907  1.57381939 -1.28348846 -1.30301344]\n",
      " [-1.02263837  1.33102631 -1.33950978 -1.30301344]\n",
      " [ 0.52513862  0.60264709  0.50919379  0.50186737]]\n",
      "*******************************************************\n",
      "[[ 0.0033789  -0.95782629  0.20233234  0.04822196]\n",
      " [-0.89540825  1.46866697 -1.04930494 -1.07943002]\n",
      " [-1.02380641  0.65983589 -1.28771205 -1.36134302]\n",
      " [-0.89540825  1.2664592  -1.28771205 -1.07943002]\n",
      " [-0.12501926 -0.1489952   0.32153589  0.04822196]\n",
      " [ 1.03056421 -0.1489952   0.44073945  0.33013496]\n",
      " [-0.51021376  0.65983589 -1.16850849 -1.36134302]\n",
      " [-0.25341743 -0.55341074  0.73874832  1.17587394]\n",
      " [-1.02380641  0.65983589 -1.22811027 -1.07943002]\n",
      " [-0.89540825  1.46866697 -1.28771205 -1.22038652]\n",
      " [-0.38181559 -1.36224183  0.02352702 -0.23369104]\n",
      " [-0.25341743 -0.1489952   0.26193412  0.18917846]\n",
      " [ 1.28736054  0.25542034  1.33476608  1.59874344]\n",
      " [ 2.44294401  1.46866697  1.81158028  1.45778694]\n",
      " [-0.89540825  0.45762811 -1.16850849 -0.93847352]\n",
      " [ 1.15896237 -0.1489952   0.7983501   0.75300445]\n",
      " [ 0.26017523 -0.1489952   0.67914655  0.89396095]\n",
      " [ 0.38857339 -0.55341074  0.61954477  0.04822196]\n",
      " [ 0.0033789   1.87308251 -1.46651737 -1.36134302]\n",
      " [ 0.0033789  -0.75561851  0.85795187  1.03491744]\n",
      " [ 0.64536972 -0.75561851  0.73874832  0.89396095]\n",
      " [ 0.26017523 -1.76665737  0.20233234 -0.23369104]\n",
      " [ 0.26017523 -0.75561851  0.85795187  0.61204795]\n",
      " [ 0.77376788 -0.35120297  0.38113767  0.18917846]\n",
      " [-1.79419539  0.25542034 -1.4069156  -1.36134302]\n",
      " [-1.02380641 -2.17107291 -0.09567653 -0.23369104]\n",
      " [-1.02380641  0.86204366 -1.4069156  -1.22038652]\n",
      " [-1.28060274 -0.1489952  -1.34731382 -1.22038652]\n",
      " [ 0.64536972 -1.5644496   0.44073945  0.18917846]\n",
      " [ 1.15896237  0.45762811  1.21556253  1.31683044]\n",
      " [-1.66579723 -1.5644496  -1.4069156  -1.22038652]\n",
      " [ 2.69974034  1.46866697  1.63277496  1.17587394]\n",
      " [ 0.13177706  0.25542034  0.67914655  0.89396095]\n",
      " [-0.89540825  1.46866697 -1.22811027 -1.36134302]\n",
      " [ 0.51697155 -0.55341074  0.67914655  0.89396095]\n",
      " [ 0.90216604 -0.55341074  0.559943    0.47109145]\n",
      " [ 0.26017523  0.65983589  0.50034122  0.61204795]\n",
      " [ 0.0033789  -0.55341074  0.85795187  1.73969993]]\n"
     ]
    }
   ],
   "source": [
    "print(\"After Scaling\")\n",
    "print(\"======================================================\")\n",
    "print(X_train_scaled)\n",
    "print(\"*******************************************************\")\n",
    "print(X_test_scaled)"
   ]
  },
  {
   "cell_type": "markdown",
   "metadata": {},
   "source": [
    "# Implement PCA on the dataset "
   ]
  },
  {
   "cell_type": "code",
   "execution_count": 16,
   "metadata": {},
   "outputs": [],
   "source": [
    "from sklearn.decomposition import PCA\n",
    "\n",
    "pca_model = PCA() #Instantiating an object for the PCA method\n",
    "\n",
    "\n",
    "X_train_pca = pca_model.fit_transform(X_train_scaled)\n",
    "X_test_pca = pca_model.fit_transform(X_test_scaled)"
   ]
  },
  {
   "cell_type": "code",
   "execution_count": 18,
   "metadata": {},
   "outputs": [
    {
     "name": "stdout",
     "output_type": "stream",
     "text": [
      "(112, 4)\n",
      "(38, 4)\n"
     ]
    }
   ],
   "source": [
    "print(X_train_pca.shape)\n",
    "print(X_test_pca.shape)"
   ]
  },
  {
   "cell_type": "code",
   "execution_count": 17,
   "metadata": {},
   "outputs": [
    {
     "data": {
      "text/plain": [
       "array([0.69489568, 0.25830074, 0.04239017, 0.0044134 ])"
      ]
     },
     "execution_count": 17,
     "metadata": {},
     "output_type": "execute_result"
    }
   ],
   "source": [
    "pca_model.explained_variance_ratio_"
   ]
  },
  {
   "cell_type": "markdown",
   "metadata": {},
   "source": [
    "From above we can infer that,\n",
    "\n",
    "1. 69.48% of variance is captured by the first principal component\n",
    "2. 25.83% of variance is captured by the second principal component\n",
    "3. 4.23% of variance is captured by the third principal component\n",
    "4. 0.4% of variance is captured by the fourth principal component"
   ]
  },
  {
   "cell_type": "markdown",
   "metadata": {},
   "source": [
    "**If we add the variances captured by the first 2 principal components above, we find that the total variance captured by the first 2 principal components alone is a whopping 95%. So, it is enough if we build our machine learning model using the first 2 components itself.**"
   ]
  },
  {
   "cell_type": "code",
   "execution_count": 19,
   "metadata": {},
   "outputs": [
    {
     "name": "stdout",
     "output_type": "stream",
     "text": [
      "(112, 2)\n",
      "(38, 2)\n"
     ]
    }
   ],
   "source": [
    "pca_model2 = PCA(n_components=2)\n",
    "\n",
    "\n",
    "X_train_pca2 = pca_model2.fit_transform(X_train_scaled)\n",
    "X_test_pca2 = pca_model2.fit_transform(X_test_scaled)\n",
    "\n",
    "print(X_train_pca2.shape)\n",
    "print(X_test_pca2.shape)"
   ]
  },
  {
   "cell_type": "code",
   "execution_count": 20,
   "metadata": {},
   "outputs": [
    {
     "data": {
      "text/plain": [
       "array([0.69489568, 0.25830074])"
      ]
     },
     "execution_count": 20,
     "metadata": {},
     "output_type": "execute_result"
    }
   ],
   "source": [
    "pca_model2.explained_variance_ratio_"
   ]
  },
  {
   "cell_type": "markdown",
   "metadata": {},
   "source": [
    "By now, we have applied dimensionality reduction technique on the input original dataset and we have reduced the number of dimension from 4 to 2."
   ]
  },
  {
   "cell_type": "code",
   "execution_count": 22,
   "metadata": {},
   "outputs": [
    {
     "data": {
      "text/plain": [
       "KNeighborsClassifier(n_neighbors=4)"
      ]
     },
     "execution_count": 22,
     "metadata": {},
     "output_type": "execute_result"
    }
   ],
   "source": [
    "from sklearn.neighbors import KNeighborsClassifier\n",
    "knn = KNeighborsClassifier( n_neighbors = 4)\n",
    "knn.fit(X_train_pca2, y_train)"
   ]
  },
  {
   "cell_type": "code",
   "execution_count": 23,
   "metadata": {},
   "outputs": [],
   "source": [
    "y_pred = knn.predict(X_test_pca2)"
   ]
  },
  {
   "cell_type": "code",
   "execution_count": 24,
   "metadata": {},
   "outputs": [
    {
     "name": "stdout",
     "output_type": "stream",
     "text": [
      "Accuracy: 0.8421052631578947\n"
     ]
    }
   ],
   "source": [
    "from sklearn.metrics import accuracy_score\n",
    "print(\"Accuracy:\", accuracy_score(y_test,y_pred))"
   ]
  },
  {
   "cell_type": "code",
   "execution_count": 26,
   "metadata": {},
   "outputs": [
    {
     "data": {
      "image/png": "[encoded data removed]",
      "text/plain": [
       "<Figure size 576x432 with 1 Axes>"
      ]
     },
     "metadata": {
      "needs_background": "light"
     },
     "output_type": "display_data"
    }
   ],
   "source": [
    "import matplotlib.pyplot as plt\n",
    "plt.figure(figsize=(8,6))\n",
    "plt.scatter(X_train_pca2[:,0],X_train_pca2[:,1],c=y_train,cmap='rainbow')\n",
    "plt.xlabel('First principal component')\n",
    "plt.ylabel('Second Principal Component')\n",
    "plt.show()"
   ]
  },
  {
   "cell_type": "markdown",
   "metadata": {},
   "source": [
    "# End of discussion"
   ]
  }
 ],
 "metadata": {
  "kernelspec": {
   "display_name": "Python 3 (ipykernel)",
   "language": "python",
   "name": "python3"
  },
  "language_info": {
   "codemirror_mode": {
    "name": "ipython",
    "version": 3
   },
   "file_extension": ".py",
   "mimetype": "text/x-python",
   "name": "python",
   "nbconvert_exporter": "python",
   "pygments_lexer": "ipython3",
   "version": "3.11.4"
  }
 },
 "nbformat": 4,
 "nbformat_minor": 4
}
